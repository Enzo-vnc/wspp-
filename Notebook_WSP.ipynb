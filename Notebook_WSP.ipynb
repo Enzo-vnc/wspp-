{
  "nbformat": 4,
  "nbformat_minor": 0,
  "metadata": {
    "colab": {
      "provenance": [],
      "include_colab_link": true
    },
    "kernelspec": {
      "name": "python3",
      "display_name": "Python 3"
    },
    "language_info": {
      "name": "python"
    }
  },
  "cells": [
    {
      "cell_type": "markdown",
      "metadata": {
        "id": "view-in-github",
        "colab_type": "text"
      },
      "source": [
        "<a href=\"https://colab.research.google.com/github/Nohalyan/Projetppchem/blob/Enzo/Notebook_WSP.ipynb\" target=\"_parent\"><img src=\"https://colab.research.google.com/assets/colab-badge.svg\" alt=\"Open In Colab\"/></a>"
      ]
    },
    {
      "cell_type": "markdown",
      "source": [
        "#Water Solubility Predisction\n",
        "\n",
        "This notebook is the core of our Water Solubility Prediction project. This is where we collected, sorted and cleaned the data, as well as selecting, testing and training our prediction models.\n",
        "\n",
        "This notebook is divided into sections:\n",
        "1. Modules and Libraries\n",
        "2. Solubility Data *(optional)*\n",
        "3. Calculation of RDkit Molecular Descriptors *(optional)*\n",
        "4. Training and Validation set\n",
        "5. Select Machine Learning Models\n",
        "6. Fine-tuning\n",
        "7. Models for training and test data\n",
        "\n",
        "Sections 2 and 3 are optional, as sorted and cleaned data can be retrieved directly in section 4.1.\n"
      ],
      "metadata": {
        "id": "9we0xsQKCIis"
      }
    },
    {
      "cell_type": "markdown",
      "source": [
        "## 1 Import Relevant Modules and Libraries\n",
        "\n",
        "We will start by importing the modules and libraries essential for this project.\n"
      ],
      "metadata": {
        "id": "9VBM8XdnDHfh"
      }
    },
    {
      "cell_type": "code",
      "source": [
        "# Install all libraries used in this project\n",
        "!pip install pathlib numpy pandas rdkit matplotlib scikit-learn lightgbm lazypredict tqdm"
      ],
      "metadata": {
        "id": "GFhpnlDlEGpP",
        "outputId": "f8df4332-433d-48ff-85d0-3bba044f0d35",
        "colab": {
          "base_uri": "https://localhost:8080/"
        }
      },
      "execution_count": 19,
      "outputs": [
        {
          "output_type": "stream",
          "name": "stdout",
          "text": [
            "Requirement already satisfied: pathlib in /usr/local/lib/python3.10/dist-packages (1.0.1)\n",
            "Requirement already satisfied: numpy in /usr/local/lib/python3.10/dist-packages (1.25.2)\n",
            "Requirement already satisfied: pandas in /usr/local/lib/python3.10/dist-packages (2.0.3)\n",
            "Requirement already satisfied: rdkit in /usr/local/lib/python3.10/dist-packages (2023.9.6)\n",
            "Requirement already satisfied: matplotlib in /usr/local/lib/python3.10/dist-packages (3.7.1)\n",
            "Requirement already satisfied: scikit-learn in /usr/local/lib/python3.10/dist-packages (1.2.2)\n",
            "Requirement already satisfied: lightgbm in /usr/local/lib/python3.10/dist-packages (4.1.0)\n",
            "Requirement already satisfied: lazypredict in /usr/local/lib/python3.10/dist-packages (0.2.12)\n",
            "Requirement already satisfied: tqdm in /usr/local/lib/python3.10/dist-packages (4.66.2)\n",
            "Requirement already satisfied: python-dateutil>=2.8.2 in /usr/local/lib/python3.10/dist-packages (from pandas) (2.8.2)\n",
            "Requirement already satisfied: pytz>=2020.1 in /usr/local/lib/python3.10/dist-packages (from pandas) (2023.4)\n",
            "Requirement already satisfied: tzdata>=2022.1 in /usr/local/lib/python3.10/dist-packages (from pandas) (2024.1)\n",
            "Requirement already satisfied: Pillow in /usr/local/lib/python3.10/dist-packages (from rdkit) (9.4.0)\n",
            "Requirement already satisfied: contourpy>=1.0.1 in /usr/local/lib/python3.10/dist-packages (from matplotlib) (1.2.1)\n",
            "Requirement already satisfied: cycler>=0.10 in /usr/local/lib/python3.10/dist-packages (from matplotlib) (0.12.1)\n",
            "Requirement already satisfied: fonttools>=4.22.0 in /usr/local/lib/python3.10/dist-packages (from matplotlib) (4.51.0)\n",
            "Requirement already satisfied: kiwisolver>=1.0.1 in /usr/local/lib/python3.10/dist-packages (from matplotlib) (1.4.5)\n",
            "Requirement already satisfied: packaging>=20.0 in /usr/local/lib/python3.10/dist-packages (from matplotlib) (24.0)\n",
            "Requirement already satisfied: pyparsing>=2.3.1 in /usr/local/lib/python3.10/dist-packages (from matplotlib) (3.1.2)\n",
            "Requirement already satisfied: scipy>=1.3.2 in /usr/local/lib/python3.10/dist-packages (from scikit-learn) (1.11.4)\n",
            "Requirement already satisfied: joblib>=1.1.1 in /usr/local/lib/python3.10/dist-packages (from scikit-learn) (1.4.0)\n",
            "Requirement already satisfied: threadpoolctl>=2.0.0 in /usr/local/lib/python3.10/dist-packages (from scikit-learn) (3.5.0)\n",
            "Requirement already satisfied: click in /usr/local/lib/python3.10/dist-packages (from lazypredict) (8.1.7)\n",
            "Requirement already satisfied: xgboost in /usr/local/lib/python3.10/dist-packages (from lazypredict) (2.0.3)\n",
            "Requirement already satisfied: six>=1.5 in /usr/local/lib/python3.10/dist-packages (from python-dateutil>=2.8.2->pandas) (1.16.0)\n"
          ]
        }
      ]
    },
    {
      "cell_type": "code",
      "execution_count": 20,
      "metadata": {
        "id": "xDEhgWFsCC0T"
      },
      "outputs": [],
      "source": [
        "# Install all modules used in this project\n",
        "from pathlib import Path\n",
        "\n",
        "import warnings\n",
        "warnings.filterwarnings(\"ignore\")\n",
        "\n",
        "import numpy as np\n",
        "\n",
        "import pandas as pd\n",
        "\n",
        "from rdkit import Chem\n",
        "from rdkit.Chem import AllChem\n",
        "from rdkit import Chem\n",
        "from rdkit.Chem import Descriptors\n",
        "from rdkit.ML.Descriptors import MoleculeDescriptors\n",
        "\n",
        "from matplotlib import pyplot as plt\n",
        "import matplotlib.patches as mpatches\n",
        "\n",
        "import seaborn as sn\n",
        "\n",
        "from sklearn.model_selection import train_test_split\n",
        "from sklearn.model_selection import GridSearchCV\n",
        "from sklearn.preprocessing import StandardScaler\n",
        "from sklearn.metrics import r2_score, mean_squared_error\n",
        "\n",
        "from lightgbm import LGBMRegressor\n",
        "\n",
        "from sklearn.ensemble import RandomForestRegressor\n",
        "from sklearn.impute import SimpleImputer\n",
        "\n",
        "import lazypredict\n",
        "from lazypredict.Supervised import LazyRegressor\n",
        "\n",
        "from tqdm import tqdm\n",
        "\n",
        "from google.colab import files"
      ]
    },
    {
      "cell_type": "markdown",
      "source": [
        "# 2. Solubility Data"
      ],
      "metadata": {
        "id": "OcKv90-s7Y00"
      }
    },
    {
      "cell_type": "markdown",
      "source": [
        "## 2.1 Let's get the Solubility Data\n",
        "\n",
        "Firstly, we will acquire solubility data from gashawmg's repository, accessible at https://github.com/gashawmg. Subsequently, we will conduct an exploratory data analysis on the acquired dataset."
      ],
      "metadata": {
        "id": "_HeTUCurHCnk"
      }
    },
    {
      "cell_type": "code",
      "source": [
        "!wget https://raw.githubusercontent.com/Nohalyan/Projetppchem/main/Data/Data_Solubility.csv"
      ],
      "metadata": {
        "id": "XiN0eigVHNgz"
      },
      "execution_count": null,
      "outputs": []
    },
    {
      "cell_type": "markdown",
      "source": [
        "Let's open the file ans confirm that it exist."
      ],
      "metadata": {
        "id": "MNh8CNiSb3c8"
      }
    },
    {
      "cell_type": "code",
      "source": [
        "# Create a Path object for the current directory, in our case /content/\n",
        "current_directory = Path.cwd()\n",
        "print(\"Current Directory:\", current_directory.resolve())\n",
        "\n",
        "file_path = current_directory / \"Data_Solubility.csv\"\n",
        "\n",
        "# Reading the contents of the file and check that the file exists\n",
        "if file_path.exists():\n",
        "    with file_path.open(\"r\") as file:\n",
        "        content = file.read()\n",
        "        print(content)\n",
        "else:\n",
        "    print(\"The file does not exist.\")\n"
      ],
      "metadata": {
        "id": "NYPnESo9bPPp"
      },
      "execution_count": null,
      "outputs": []
    },
    {
      "cell_type": "markdown",
      "source": [
        "The file use semicicolon as delimiter, so let's open the file and use semicicolon as delimiter:"
      ],
      "metadata": {
        "id": "HhmAA3fHh1kK"
      }
    },
    {
      "cell_type": "code",
      "source": [
        "# Open a file containing descriptors and yield\n",
        "data_solubility = pd.read_csv(\"/content/Data_Solubility.csv\", delimiter=';')"
      ],
      "metadata": {
        "id": "3cJRK4pwWNwn"
      },
      "execution_count": null,
      "outputs": []
    },
    {
      "cell_type": "markdown",
      "source": [
        "Now we will check the data see if it is what we want."
      ],
      "metadata": {
        "id": "gEJ2RcUqhktQ"
      }
    },
    {
      "cell_type": "code",
      "source": [
        "data_solubility.shape"
      ],
      "metadata": {
        "id": "2egFBYgjf17S"
      },
      "execution_count": null,
      "outputs": []
    },
    {
      "cell_type": "code",
      "source": [
        "data_solubility.head()"
      ],
      "metadata": {
        "id": "V9zwa1_mhblV"
      },
      "execution_count": null,
      "outputs": []
    },
    {
      "cell_type": "markdown",
      "source": [
        "## 2.2 Data Cleaning\n",
        "\n",
        "Now that we've got our data set, we need to clean it up. To do this, we're going to remove non-numericals (NaN) and null values. We'll also sort outliers and make SMILES canonical, so as to duplicate them and obtain a ready-to-use data set."
      ],
      "metadata": {
        "id": "rsPHJbgfinOQ"
      }
    },
    {
      "cell_type": "markdown",
      "source": [
        "### 2.2.1 Remove NaN or null values\n",
        "\n",
        "We wil start by removing non-numerical values and valeurs that are null:"
      ],
      "metadata": {
        "id": "6EmTTwOx74Mw"
      }
    },
    {
      "cell_type": "code",
      "source": [
        "data_solubility.SMILES.isnull().sum()\n",
        "data_solubility.dropna(inplace=True)\n",
        "data_solubility.shape"
      ],
      "metadata": {
        "id": "6wnyNXZkicm3",
        "colab": {
          "base_uri": "https://localhost:8080/"
        },
        "outputId": "01d4ed53-5e97-4b9e-88b3-a89c5b70b239"
      },
      "execution_count": null,
      "outputs": [
        {
          "output_type": "execute_result",
          "data": {
            "text/plain": [
              "(9943, 6)"
            ]
          },
          "metadata": {},
          "execution_count": 9
        }
      ]
    },
    {
      "cell_type": "markdown",
      "source": [
        "As we can see, the shape is still the same, the data has already been cleaned of non-numerical and null values.\n",
        "\n",
        "###2.2.2 Remove outliers\n",
        "\n",
        "Then, we will remove outliers from the data. Using a boxplot, we can easely visualize outliers:\n"
      ],
      "metadata": {
        "id": "QC27TZqri8CG"
      }
    },
    {
      "cell_type": "code",
      "source": [
        "sn.set_theme()\n",
        "sn.displot(data=data_solubility, x=\"logS\", binwidth=1)"
      ],
      "metadata": {
        "id": "kuD5t60TnrX5"
      },
      "execution_count": null,
      "outputs": []
    },
    {
      "cell_type": "markdown",
      "source": [
        "We will then filter compounds that follow as close as normal distribution. We consider values between -7.5 and 1.7 as following a normal distribution.\n"
      ],
      "metadata": {
        "id": "MSFjaKMyqCV-"
      }
    },
    {
      "cell_type": "code",
      "source": [
        "new_data_solubility = data_solubility[data_solubility.logS.apply(lambda x: x > -7.5 and x < 1.7)]"
      ],
      "metadata": {
        "id": "Ht-zgHIvqIJ6"
      },
      "execution_count": null,
      "outputs": []
    },
    {
      "cell_type": "markdown",
      "source": [
        "We will generate a histogram to visualize the distribution of the new data."
      ],
      "metadata": {
        "id": "QHgDSAQ8rWZr"
      }
    },
    {
      "cell_type": "code",
      "source": [
        "sn.displot(data=new_data_solubility, x='logS', binwidth=1,kde=True)\n",
        "new_data_solubility.shape"
      ],
      "metadata": {
        "id": "9wjGJ5AGrW6B"
      },
      "execution_count": null,
      "outputs": []
    },
    {
      "cell_type": "markdown",
      "source": [
        "### 2.2.3 Remove Duplicates\n",
        "\n",
        "Then, we will remove duplicate by generating canonical SMILES."
      ],
      "metadata": {
        "id": "lDjkwQEwlcMz"
      }
    },
    {
      "cell_type": "code",
      "source": [
        "# Generate a canonical SMILES function\n",
        "def canonical_SMILES(smiles):\n",
        "    canon_smls = [Chem.CanonSmiles(smls) for smls in smiles]\n",
        "    return canon_smls"
      ],
      "metadata": {
        "id": "KydIsfXejaJu"
      },
      "execution_count": null,
      "outputs": []
    },
    {
      "cell_type": "code",
      "source": [
        "# Generate canonical Smiles using the function\n",
        "canon_smiles = canonical_SMILES(new_data_solubility.SMILES)\n",
        "\n",
        "# Replace SMILES column with canonical SMILES\n",
        "new_data_solubility[\"SMILES\"] = canon_smiles\n",
        "\n",
        "# Create a list for duplicate smiles\n",
        "duplicate_smiles = new_data_solubility[new_data_solubility['SMILES'].duplicated()]['SMILES'].values\n",
        "len(duplicate_smiles)"
      ],
      "metadata": {
        "id": "4MDLZcMzjWtP"
      },
      "execution_count": null,
      "outputs": []
    },
    {
      "cell_type": "markdown",
      "source": [
        "Upon analysis,we found out that there are six duplicate entries. These duplicates will be filtered out and the dataset will be sorted for improved readability."
      ],
      "metadata": {
        "id": "I7qNi08VkYMz"
      }
    },
    {
      "cell_type": "code",
      "source": [
        "new_data_solubility[new_data_solubility['SMILES'].isin(duplicate_smiles)].sort_values(by=['SMILES'])"
      ],
      "metadata": {
        "id": "P73Yy1K7kXzV"
      },
      "execution_count": null,
      "outputs": []
    },
    {
      "cell_type": "markdown",
      "source": [
        "We removed rows containing duplicate SMILES, retaining the first occurrence of each structure."
      ],
      "metadata": {
        "id": "QRSA4J581bCQ"
      }
    },
    {
      "cell_type": "code",
      "source": [
        "data_solubility_cleaned = new_data_solubility.drop_duplicates(subset=['SMILES'], keep='first')\n",
        "data_solubility_cleaned.shape\n",
        "data_solubility_cleaned.head()"
      ],
      "metadata": {
        "id": "jexwvrgv1lSe"
      },
      "execution_count": null,
      "outputs": []
    },
    {
      "cell_type": "markdown",
      "source": [
        "### 2.2.4 Filter training data\n",
        "With the dataset in hand, our next step involves assembling a test set comprising 100 drug-like compounds. These compounds were sourced from https://github.com/PatWalters/solubility."
      ],
      "metadata": {
        "id": "HXSd0vY02KUS"
      }
    },
    {
      "cell_type": "code",
      "source": [
        "!wget https://raw.githubusercontent.com/Nohalyan/Projetppchem/main/Data/Data_Drug_Like_Solubility.csv"
      ],
      "metadata": {
        "id": "6AsBNHVfErm_"
      },
      "execution_count": null,
      "outputs": []
    },
    {
      "cell_type": "code",
      "source": [
        "# Create a Path object for the current directory, in our case /content/\n",
        "current_directory_dl = Path.cwd()\n",
        "print(\"Current Directory:\", current_directory.resolve())\n",
        "\n",
        "file_path_dl = current_directory / \"Data_Drug_Like_Solubility.csv\"\n",
        "\n",
        "# Reading the contents of the file and check that the file exists\n",
        "if file_path.exists():\n",
        "    with file_path.open(\"r\") as file:\n",
        "        content = file.read()\n",
        "#        print(content)\n",
        "else:\n",
        "    print(\"The file does not exist.\")"
      ],
      "metadata": {
        "id": "fxxXu8QdElDW"
      },
      "execution_count": null,
      "outputs": []
    },
    {
      "cell_type": "code",
      "source": [
        "data_dl = pd.read_csv(\"/content/Data_Drug_Like_Solubility.csv\", delimiter=';')\n",
        "data_dl.shape"
      ],
      "metadata": {
        "id": "9uz_TeGiFRWj"
      },
      "execution_count": null,
      "outputs": []
    },
    {
      "cell_type": "code",
      "source": [
        "data_dl.head()"
      ],
      "metadata": {
        "id": "2U7jAFxBGt4i"
      },
      "execution_count": null,
      "outputs": []
    },
    {
      "cell_type": "code",
      "source": [
        "# Generate canonical Smiles\n",
        "canon_smiles = canonical_SMILES(data_dl.SMILES)\n",
        "\n",
        "# Replace SMILES column wit Canonical SMILES\n",
        "data_dl[\"SMILES\"] = canon_smiles\n",
        "\n",
        "# Create a list for duplicate smiles\n",
        "duplicate_data_dl_smiles = data_dl[data_dl['SMILES'].duplicated()]['SMILES'].values\n",
        "len(duplicate_data_dl_smiles)"
      ],
      "metadata": {
        "id": "tLHQ1dgrHL-m"
      },
      "execution_count": null,
      "outputs": []
    },
    {
      "cell_type": "markdown",
      "source": [
        "Now we need to check that there are no duplicates between the data set and the test data set."
      ],
      "metadata": {
        "id": "TgDAlHuCF0Vd"
      }
    },
    {
      "cell_type": "code",
      "source": [
        "# Molecules used in training and test of the model\n",
        "data_dl_SMILES = data_dl.SMILES.values\n",
        "\n",
        "# Filter molecules that are not present in the test set\n",
        "data_cleaned_final = data_solubility_cleaned[~data_solubility_cleaned['SMILES'].isin(data_dl_SMILES)]\n",
        "print(f'Compounds present in training set:{len(data_solubility_cleaned) - len(data_cleaned_final)}')\n",
        "data_cleaned_final.shape"
      ],
      "metadata": {
        "id": "akgVYCbtHqwk"
      },
      "execution_count": null,
      "outputs": []
    },
    {
      "cell_type": "code",
      "source": [
        "# Save the dataframe to a CSV file\n",
        "data_cleaned_final.to_csv('Data_Cleaned_Final.csv', index=False)"
      ],
      "metadata": {
        "id": "Rql4HJ_sGOia"
      },
      "execution_count": null,
      "outputs": []
    },
    {
      "cell_type": "code",
      "source": [
        "data_dl= data_dl[data_dl['LogS exp (mol/L)'].apply(lambda x: x > -7.5 and x < 1.7)]\n",
        "data_dl"
      ],
      "metadata": {
        "id": "jEoNO8CMLVqZ"
      },
      "execution_count": null,
      "outputs": []
    },
    {
      "cell_type": "markdown",
      "source": [
        "# 3. Calculation of RDkit Molecular Descriptors\n",
        "\n",
        "Calculation of RDkit Molecular Descriptors, which are molecular features for the data set and the test data set"
      ],
      "metadata": {
        "id": "IwdeeEJMLtxc"
      }
    },
    {
      "cell_type": "code",
      "source": [
        "def RDkit_descriptors(smiles):\n",
        "    mols = [Chem.MolFromSmiles(i) for i in smiles]\n",
        "    calc = MoleculeDescriptors.MolecularDescriptorCalculator([x[0]\n",
        "                                    for x in Descriptors._descList])\n",
        "    desc_names = calc.GetDescriptorNames()\n",
        "\n",
        "    Mol_descriptors =[]\n",
        "    for mol in tqdm(mols):\n",
        "        # add hydrogens to molecules\n",
        "        mol=Chem.AddHs(mol)\n",
        "        # Calculate all 200 descriptors for each molecule\n",
        "        descriptors = calc.CalcDescriptors(mol)\n",
        "        Mol_descriptors.append(descriptors)\n",
        "    return Mol_descriptors,desc_names\n",
        "\n",
        "# Function call\n",
        "Mol_descriptors,desc_names = RDkit_descriptors(data_cleaned_final['SMILES'])"
      ],
      "metadata": {
        "id": "kiwjxW8iL39L"
      },
      "execution_count": null,
      "outputs": []
    },
    {
      "cell_type": "code",
      "source": [
        "df_descriptors = pd.DataFrame(Mol_descriptors, columns=desc_names)\n",
        "df_descriptors.head()"
      ],
      "metadata": {
        "id": "1v7UGPE6OLKA"
      },
      "execution_count": null,
      "outputs": []
    },
    {
      "cell_type": "code",
      "source": [
        "# Calculate molecular descriptors for the test data or 98 compounds\n",
        "Mol_descriptors_test , desc_names_test = RDkit_descriptors(data_dl[\"SMILES\"])\n",
        "data_dl_descriptors = pd.DataFrame(Mol_descriptors_test,columns=desc_names_test)"
      ],
      "metadata": {
        "id": "RBYTOA2jGUff"
      },
      "execution_count": null,
      "outputs": []
    },
    {
      "cell_type": "code",
      "source": [
        "# Save the dataf to .csv files\n",
        "df_descriptors.to_csv('Data_Solubility_descriptor.csv', index=False)\n",
        "data_dl_descriptors.to_csv('Data_Solubility_Drug_Like_descriptor.csv', index=False)"
      ],
      "metadata": {
        "id": "_fps8kamGUWI"
      },
      "execution_count": null,
      "outputs": []
    },
    {
      "cell_type": "markdown",
      "source": [
        "# 4. Training and Validation set\n",
        "\n",
        "In this part, we will separate the data from the data set into 2 sets: the training set to train the model and the validation set to provide an evaluation of the model on the training dataset to adjust the hyperparameters.\n",
        "\n",
        "If you have run sections 2. and 3., you can skip to section 4.2, otherwise you must run section 4.1."
      ],
      "metadata": {
        "id": "KZFGKSecQqsq"
      }
    },
    {
      "cell_type": "markdown",
      "source": [
        "##4.1 Acquisition of Sorted, Cleaned Data Sets and RDkit Molecular Descriptors"
      ],
      "metadata": {
        "id": "S0FnHdNK-UjL"
      }
    },
    {
      "cell_type": "code",
      "source": [
        "#Download cleaned and sorted data (Data_Cleaned_Final.csv) with RDkit molecular descriptors (Data_Solubility_descriptor.csv) for training and validation set\n",
        "!wget https://raw.githubusercontent.com/Nohalyan/Projetppchem/main/Data/Data_Cleaned_Final.csv\n",
        "!wget https://raw.githubusercontent.com/Nohalyan/Projetppchem/main/Data/Data_Solubility_descriptor.csv\n",
        "\n",
        "#Download cleaned and sorted data (Data_Drug_Like_Solubility.csv) with RDkit molecular descriptors (Data_Solubility_Drug_Like_descriptor.csv) for test set\n",
        "!wget https://raw.githubusercontent.com/Nohalyan/Projetppchem/main/Data/Data_Drug_Like_Solubility.csv\n",
        "!wget https://raw.githubusercontent.com/Nohalyan/Projetppchem/main/Data/Data_Solubility_Drug_Like_descriptor.csv"
      ],
      "metadata": {
        "id": "vYAMHTM8-BkU",
        "outputId": "84605ba6-e25b-4d6b-e316-08c489bcc310",
        "colab": {
          "base_uri": "https://localhost:8080/"
        }
      },
      "execution_count": 21,
      "outputs": [
        {
          "output_type": "stream",
          "name": "stdout",
          "text": [
            "--2024-05-06 17:46:06--  https://raw.githubusercontent.com/Nohalyan/Projetppchem/main/Data/Data_Cleaned_Final.csv\n",
            "Resolving raw.githubusercontent.com (raw.githubusercontent.com)... 185.199.108.133, 185.199.109.133, 185.199.110.133, ...\n",
            "Connecting to raw.githubusercontent.com (raw.githubusercontent.com)|185.199.108.133|:443... connected.\n",
            "HTTP request sent, awaiting response... 200 OK\n",
            "Length: 929243 (907K) [text/plain]\n",
            "Saving to: ‘Data_Cleaned_Final.csv.1’\n",
            "\n",
            "Data_Cleaned_Final. 100%[===================>] 907.46K  --.-KB/s    in 0.02s   \n",
            "\n",
            "2024-05-06 17:46:06 (49.4 MB/s) - ‘Data_Cleaned_Final.csv.1’ saved [929243/929243]\n",
            "\n",
            "--2024-05-06 17:46:06--  https://raw.githubusercontent.com/Nohalyan/Projetppchem/main/Data/Data_Solubility_descriptor.csv\n",
            "Resolving raw.githubusercontent.com (raw.githubusercontent.com)... 185.199.108.133, 185.199.109.133, 185.199.110.133, ...\n",
            "Connecting to raw.githubusercontent.com (raw.githubusercontent.com)|185.199.108.133|:443... connected.\n",
            "HTTP request sent, awaiting response... 200 OK\n",
            "Length: 15371773 (15M) [text/plain]\n",
            "Saving to: ‘Data_Solubility_descriptor.csv.1’\n",
            "\n",
            "Data_Solubility_des 100%[===================>]  14.66M  --.-KB/s    in 0.09s   \n",
            "\n",
            "2024-05-06 17:46:07 (168 MB/s) - ‘Data_Solubility_descriptor.csv.1’ saved [15371773/15371773]\n",
            "\n",
            "--2024-05-06 17:46:08--  https://raw.githubusercontent.com/Nohalyan/Projetppchem/main/Data/Data_Drug_Like_Solubility.csv\n",
            "Resolving raw.githubusercontent.com (raw.githubusercontent.com)... 185.199.108.133, 185.199.111.133, 185.199.109.133, ...\n",
            "Connecting to raw.githubusercontent.com (raw.githubusercontent.com)|185.199.108.133|:443... connected.\n",
            "HTTP request sent, awaiting response... 200 OK\n",
            "Length: 5557 (5.4K) [text/plain]\n",
            "Saving to: ‘Data_Drug_Like_Solubility.csv.1’\n",
            "\n",
            "Data_Drug_Like_Solu 100%[===================>]   5.43K  --.-KB/s    in 0s      \n",
            "\n",
            "2024-05-06 17:46:08 (24.2 MB/s) - ‘Data_Drug_Like_Solubility.csv.1’ saved [5557/5557]\n",
            "\n",
            "--2024-05-06 17:46:08--  https://raw.githubusercontent.com/Nohalyan/Projetppchem/main/Data/Data_Solubility_Drug_Like_descriptor.csv\n",
            "Resolving raw.githubusercontent.com (raw.githubusercontent.com)... 185.199.108.133, 185.199.111.133, 185.199.109.133, ...\n",
            "Connecting to raw.githubusercontent.com (raw.githubusercontent.com)|185.199.108.133|:443... connected.\n",
            "HTTP request sent, awaiting response... 200 OK\n",
            "Length: 162403 (159K) [text/plain]\n",
            "Saving to: ‘Data_Solubility_Drug_Like_descriptor.csv.1’\n",
            "\n",
            "Data_Solubility_Dru 100%[===================>] 158.60K  --.-KB/s    in 0.008s  \n",
            "\n",
            "2024-05-06 17:46:08 (18.6 MB/s) - ‘Data_Solubility_Drug_Like_descriptor.csv.1’ saved [162403/162403]\n",
            "\n"
          ]
        }
      ]
    },
    {
      "cell_type": "code",
      "source": [
        "#To verify that the file was correctly downloaded\n",
        "# Create a Path object for the current directory, in our case /content/\n",
        "current_directory = Path.cwd()\n",
        "print(\"Current Directory:\", current_directory.resolve())\n",
        "\n",
        "file_path = current_directory / \"Data_Solubility_Drug_Like_descriptor.csv\" #Copy and paste the file name\n",
        "\n",
        "# Reading the contents of the file and check that the file exists\n",
        "if file_path.exists():\n",
        "    with file_path.open(\"r\") as file:\n",
        "        content = file.read()\n",
        "        print(content)\n",
        "else:\n",
        "    print(\"The file does not exist.\")\n"
      ],
      "metadata": {
        "id": "U0DNJaLB_Z92",
        "outputId": "5074ecd7-d282-43d2-a96b-f653bbadaad7",
        "colab": {
          "base_uri": "https://localhost:8080/"
        }
      },
      "execution_count": 22,
      "outputs": [
        {
          "output_type": "stream",
          "name": "stdout",
          "text": [
            "Current Directory: /content\n",
            "MaxAbsEStateIndex,MaxEStateIndex,MinAbsEStateIndex,MinEStateIndex,qed,SPS,MolWt,HeavyAtomMolWt,ExactMolWt,NumValenceElectrons,NumRadicalElectrons,MaxPartialCharge,MinPartialCharge,MaxAbsPartialCharge,MinAbsPartialCharge,FpDensityMorgan1,FpDensityMorgan2,FpDensityMorgan3,BCUT2D_MWHI,BCUT2D_MWLOW,BCUT2D_CHGHI,BCUT2D_CHGLO,BCUT2D_LOGPHI,BCUT2D_LOGPLOW,BCUT2D_MRHI,BCUT2D_MRLOW,AvgIpc,BalabanJ,BertzCT,Chi0,Chi0n,Chi0v,Chi1,Chi1n,Chi1v,Chi2n,Chi2v,Chi3n,Chi3v,Chi4n,Chi4v,HallKierAlpha,Ipc,Kappa1,Kappa2,Kappa3,LabuteASA,PEOE_VSA1,PEOE_VSA10,PEOE_VSA11,PEOE_VSA12,PEOE_VSA13,PEOE_VSA14,PEOE_VSA2,PEOE_VSA3,PEOE_VSA4,PEOE_VSA5,PEOE_VSA6,PEOE_VSA7,PEOE_VSA8,PEOE_VSA9,SMR_VSA1,SMR_VSA10,SMR_VSA2,SMR_VSA3,SMR_VSA4,SMR_VSA5,SMR_VSA6,SMR_VSA7,SMR_VSA8,SMR_VSA9,SlogP_VSA1,SlogP_VSA10,SlogP_VSA11,SlogP_VSA12,SlogP_VSA2,SlogP_VSA3,SlogP_VSA4,SlogP_VSA5,SlogP_VSA6,SlogP_VSA7,SlogP_VSA8,SlogP_VSA9,TPSA,EState_VSA1,EState_VSA10,EState_VSA11,EState_VSA2,EState_VSA3,EState_VSA4,EState_VSA5,EState_VSA6,EState_VSA7,EState_VSA8,EState_VSA9,VSA_EState1,VSA_EState10,VSA_EState2,VSA_EState3,VSA_EState4,VSA_EState5,VSA_EState6,VSA_EState7,VSA_EState8,VSA_EState9,FractionCSP3,HeavyAtomCount,NHOHCount,NOCount,NumAliphaticCarbocycles,NumAliphaticHeterocycles,NumAliphaticRings,NumAromaticCarbocycles,NumAromaticHeterocycles,NumAromaticRings,NumHAcceptors,NumHDonors,NumHeteroatoms,NumRotatableBonds,NumSaturatedCarbocycles,NumSaturatedHeterocycles,NumSaturatedRings,RingCount,MolLogP,MolMR,fr_Al_COO,fr_Al_OH,fr_Al_OH_noTert,fr_ArN,fr_Ar_COO,fr_Ar_N,fr_Ar_NH,fr_Ar_OH,fr_COO,fr_COO2,fr_C_O,fr_C_O_noCOO,fr_C_S,fr_HOCCN,fr_Imine,fr_NH0,fr_NH1,fr_NH2,fr_N_O,fr_Ndealkylation1,fr_Ndealkylation2,fr_Nhpyrrole,fr_SH,fr_aldehyde,fr_alkyl_carbamate,fr_alkyl_halide,fr_allylic_oxid,fr_amide,fr_amidine,fr_aniline,fr_aryl_methyl,fr_azide,fr_azo,fr_barbitur,fr_benzene,fr_benzodiazepine,fr_bicyclic,fr_diazo,fr_dihydropyridine,fr_epoxide,fr_ester,fr_ether,fr_furan,fr_guanido,fr_halogen,fr_hdrzine,fr_hdrzone,fr_imidazole,fr_imide,fr_isocyan,fr_isothiocyan,fr_ketone,fr_ketone_Topliss,fr_lactam,fr_lactone,fr_methoxy,fr_morpholine,fr_nitrile,fr_nitro,fr_nitro_arom,fr_nitro_arom_nonortho,fr_nitroso,fr_oxazole,fr_oxime,fr_para_hydroxylation,fr_phenol,fr_phenol_noOrthoHbond,fr_phos_acid,fr_phos_ester,fr_piperdine,fr_piperzine,fr_priamide,fr_prisulfonamd,fr_pyridine,fr_quatN,fr_sulfide,fr_sulfonamd,fr_sulfone,fr_term_acetylene,fr_tetrazole,fr_thiazole,fr_thiocyan,fr_thiophene,fr_unbrch_alkane,fr_urea\n",
            "11.416911375661375,11.416911375661375,0.18731481481481493,-3.134278746220712,0.6227994751052723,23.0,135.16600000000005,126.09399999999998,135.068413908,52,0,0.22074740345902855,-0.3263390909376533,0.3263390909376533,0.22074740345902855,1.7,2.4,3.0,,,,,,,,,2.3149387838587887,3.4860797721232992,508.9967501696328,15.118802153517008,13.855461885963821,4.8554618859638214,8.496793685588862,6.848551336231847,2.4013377407318894,1.3905627610334514,1.3905627610334514,0.7001520436462376,0.7001520436462376,0.40084864477124804,0.40084864477124804,-1.31,8079.136355667172,1.6421649947065866,3.011779444695785,1.89537540220571,72.57546276569063,5.309813353288376,0.0,1.4118420783282006,5.907179729351506,0.0,0.0,4.794537184071822,0.0,0.0,0.0,18.127256122989884,12.08483741532659,16.6515540604899,6.853792780851101,17.172447711761784,11.594566004035068,0.0,0.0,0.0,6.851892117295679,5.309813353288376,30.212093538316473,0.0,0.0,5.309813353288376,5.687386274683562,0.0,0.0,5.907179729351506,4.794537184071822,0.0,17.817960566657437,30.212093538316473,1.4118420783282006,0.0,0.0,29.1,48.658551659647216,4.794537184071822,0.0,5.309813353288376,0.0,0.0,0.0,0.0,0.0,0.0,12.377910527689961,65.04169890873015,0.0,11.416911375661375,-0.18731481481481493,-0.7850694444444437,-1.6471938775510198,-3.7880867346938762,0.0,-3.134278746220712,0.0,0.125,10,1,2,0,0,0,1,0,1,1,1,2,2,0,0,0,1,1.6449999999999998,40.74570000000002,0,0,0,0,0,0,0,0,0,0,1,1,0,0,0,0,1,0,0,0,0,0,0,0,0,0,0,1,0,1,0,0,0,0,1,0,0,0,0,0,0,0,0,0,0,0,0,0,0,0,0,0,0,0,0,0,0,0,0,0,0,0,0,0,1,0,0,0,0,0,0,0,0,0,0,0,0,0,0,0,0,0,0,0,0\n",
            "8.665559334845048,8.665559334845048,0.09431011178576121,-3.728551941609978,0.49051986767922323,56.73684210526316,267.2449999999998,254.14099999999996,267.09675389600034,102,0,0.21082018724348212,-0.39356685392664126,0.39356685392664126,0.21082018724348212,1.5789473684210527,2.526315789473684,3.3157894736842106,,,,,,,,,3.120919671056086,2.4418689621845147,1057.7704253196748,24.491199352633217,21.869061139355242,8.869061139355242,14.603319917329175,10.875860766050954,4.756688703659448,3.363289931836084,3.363289931836084,2.3102422719610005,2.3102422719610005,1.4744619971883457,1.4744619971883457,-1.8100000000000003,6094928.290436549,4.348381314116123,4.3842388535215,1.7476128588760207,125.48690064428271,25.78300450284796,32.801643624772886,20.492676965195706,4.293598971697903,0.0,0.0,4.567099647791355,14.951935562841626,0.0,0.0,0.0,0.0,0.0,21.086908293903832,33.85304013313984,16.981740716219015,4.293598971697903,19.519035210632982,0.0,24.44400689078652,12.278702218642561,12.606743427932454,0.0,0.0,5.719716975726273,5.817862777835028,0.0,0.0,63.93809807941877,4.736862953800049,0.0,17.170021259298313,12.606743427932454,2.8236841566564013,11.16387793838399,0.0,139.54000000000002,60.59147627785427,0.0,0.0,10.286816623517627,0.0,0.0,0.0,0.0,0.0,30.27836013616326,22.820214531516115,106.08674453425895,0.0,10.722883079923122,11.986749217810274,-1.3533202266341693,-0.6462446591290838,0.0,-16.54868655255312,-3.6647920603426565,0.0,0.5,19,5,9,0,1,1,0,2,2,9,4,9,6,0,1,1,3,-1.9800000000000006,62.744800000000026,0,3,0,1,0,4,0,0,0,0,0,0,0,0,0,4,0,1,0,0,0,0,0,0,0,0,0,0,0,1,0,0,0,0,0,0,1,0,0,0,0,1,0,0,0,0,0,1,0,0,0,0,0,0,0,0,0,0,0,0,0,0,0,0,0,0,0,0,0,0,0,0,0,0,0,0,0,0,0,0,0,0,0,0,0\n",
            "7.342685185185186,7.342685185185186,0.016435185185184942,-0.3813425925925926,0.5365398515296618,15.6,136.11400000000003,132.082,136.038510748,50,0,0.29485785278186144,-0.4926704327516308,0.4926704327516308,0.29485785278186144,1.8,2.8,3.7,,,,,,,,,2.412007116143961,2.9043579402963275,497.92756271306905,10.292528739883945,8.697102672463695,4.697102672463695,6.6302289553358005,4.3512268176956255,2.495764931731805,1.6391695587834307,1.6391695587834307,1.0514439729996732,1.0514439729996732,0.6177631724113223,0.6177631724113223,-1.65,1845.1854438501302,2.531037747759121,1.6629234524260401,0.5397705083562873,61.508468226723565,5.1088081911072125,13.060354484601241,7.059019299095929,5.879988336435371,1.4311996572326342,0.0,5.091706557583081,9.967957041894417,5.098681808301038,0.0,0.0,0.0,0.0,7.543653766984981,9.262167381775853,11.033401435232523,1.4311996572326342,20.158345407778537,0.0,0.0,0.0,12.476266924780987,0.0,5.879988336435371,0.0,0.0,5.879988336435371,0.0,26.698353256118384,0.0,0.0,2.7415171123404405,12.476266924780987,1.4118420783282006,11.033401435232523,0.0,74.69,0.0,0.0,0.0,29.389656696448885,5.091706557583081,0.0,0.0,0.0,0.0,20.175447041302668,5.584558847901276,28.41990740740741,0.0,7.072962962962963,8.223657407407407,-0.016435185185184942,-0.23287037037037028,0.0,-0.6338888888888887,0.0,0.0,0.0,10,2,5,0,0,0,0,2,2,4,2,5,1,0,0,0,2,0.058499999999999885,33.3485,0,0,0,0,0,4,1,1,0,0,0,0,0,0,0,3,1,0,0,0,0,1,0,0,0,0,0,0,0,0,0,0,0,0,0,0,1,0,0,0,0,0,0,0,0,0,0,0,0,0,0,0,0,0,0,0,0,0,0,0,0,0,0,0,0,0,0,0,0,0,0,0,0,0,0,0,0,0,0,0,0,0,0,0,0\n",
            "8.630250968442933,8.630250968442933,0.22050820666129,-3.4634899744065075,0.8533555071280714,24.761904761904763,290.32299999999964,272.179,290.1378904360005,112,0,0.22143163563823992,-0.4927044563207831,0.4927044563207831,0.22143163563823992,1.2380952380952381,2.0,2.619047619047619,,,,,,,,,2.698723998669755,3.124812513959972,1182.7294919496758,30.463737136208252,28.013599253391423,10.013599253391423,17.370533691877206,13.855240039891298,5.066385657891464,3.3775756479186403,3.3775756479186403,2.142919364529086,2.142919364529086,1.3142612284037736,1.3142612284037736,-2.7,45974862.92461024,3.9366393778435853,6.167313394785921,3.07337613550987,147.92967435956038,25.650022812852693,5.817862777835028,17.14639197988061,11.6978511142704,0.0,0.0,0.0,4.9839785209472085,4.9839785209472085,0.0,0.0,17.648288907023584,20.850788716181576,37.562960050690414,39.04857696109604,11.766202058821523,0.0,9.967957041894417,0.0,6.372924901329379,32.553291328100315,29.38463560953534,0.0,17.248535499851716,25.650022812852693,11.766202058821523,17.248535499851716,0.0,31.081814418542184,6.372924901329379,0.0,30.317522769777067,18.25773262614135,5.6473683133128025,0.0,0.0,105.51,85.88615544618573,0.0,0.0,11.439433951452546,0.0,0.0,0.0,0.0,0.0,24.178545903294562,24.83798809969588,151.92234330326406,0.0,6.885756529425359,0.0,-2.939447651680956,-6.031921572628643,-2.7281219030822204,-4.570158034664483,0.0,-10.371784003966425,0.2857142857142857,21,4,7,0,0,0,1,1,2,7,2,7,10,0,0,0,2,1.2575999999999998,79.76080000000003,0,0,0,2,0,2,0,0,0,0,0,0,0,0,0,2,0,2,0,0,0,0,0,0,0,0,0,0,0,2,0,0,0,0,1,0,0,0,0,0,0,3,0,0,0,0,0,0,0,0,0,0,0,0,0,3,0,0,0,0,0,0,0,0,0,0,0,0,0,0,0,0,0,0,0,0,0,0,0,0,0,0,0,0,0\n",
            "11.317698058390022,11.317698058390022,0.10920823885109598,-4.501108630952379,0.6318586926732331,19.153846153846153,222.25100000000006,216.203,221.988132052,72,0,0.2668537466795803,-0.3007462541560122,0.3007462541560122,0.2668537466795803,1.8461538461538463,2.6153846153846154,3.230769230769231,,,,,,,,,2.7473693772395538,3.0833790272704134,581.5498968168117,15.008071689507773,11.830095834319147,7.4630889961746,8.47508630906506,5.518472077595906,4.933391200824397,1.7425660807310397,4.293786315626174,0.8136515547524882,2.8302765415787987,0.4388112642331252,1.675700586409898,-1.06,10148.782479522912,4.4401137198316185,3.3584989230794076,2.7167362781176934,86.62544391980093,5.309813353288376,2.8236841566564013,1.4118420783282006,15.378393889864384,10.023291153407584,0.0,4.794537184071822,13.542820220500968,0.0,10.197363616602075,11.336785877934737,0.0,10.964167785806339,0.0,21.560136071896014,32.39881524053316,0.0,10.197363616602075,5.12502323617203,11.191547797969225,5.309813353288376,0.0,0.0,0.0,10.434836589460406,5.131558479839333,0.0,11.336785877934737,24.522340330282518,14.817828337479405,0.0,10.964167785806339,4.339655680673546,4.235526234984602,0.0,0.0,115.03999999999999,37.37860039673967,13.212334168400758,0.0,16.646599231223114,0.0,0.0,0.0,0.0,0.0,10.197363616602075,8.347801903495263,62.78818259479718,0.19643518518518466,11.238694412950366,4.9400379109977335,0.0,-1.5822212773998483,0.0,0.0,-3.080020195578232,-4.501108630952379,0.25,13,3,7,0,0,0,0,1,1,6,2,9,4,0,0,0,1,-0.8561000000000003,45.58590000000001,0,0,0,0,0,2,0,0,0,0,1,1,0,0,0,2,1,1,0,0,0,0,0,0,0,0,0,1,0,1,0,0,0,0,0,0,0,0,0,0,0,0,0,0,0,0,0,0,0,0,0,0,0,0,0,0,0,0,0,0,0,0,0,0,0,0,0,0,0,0,0,0,0,0,0,0,1,0,0,0,0,0,0,0,0\n",
            "10.99322373393802,10.99322373393802,0.591175359032502,-1.2712962962962961,0.6106035394285075,17.77777777777778,122.12299999999995,116.07499999999997,122.036779432,46,0,0.3351782346710392,-0.47763925058011736,0.47763925058011736,0.3351782346710392,1.5555555555555556,2.2222222222222223,2.7777777777777777,,,,,,,,,2.2319351642651286,3.5951207107740153,400.9739658861557,11.74855866551393,10.316496580927726,4.316496580927726,6.9127900201215,5.066496580927726,2.158248290463863,1.287457478565265,1.287457478565265,0.7041241452319316,0.7041241452319316,0.3520620726159658,0.3520620726159658,-1.31,1763.2287797694516,1.8364185841024325,2.306763635550358,1.2877050319358112,61.26859434526747,5.1088081911072125,0.0,0.0,0.0,1.4311996572326342,5.969305287951849,0.0,4.794537184071822,0.0,0.0,18.127256122989884,12.08483741532659,0.0,12.417244272548094,16.757138156030134,5.969305287951849,1.4311996572326342,0.0,0.0,0.0,0.0,35.77554503001347,0.0,0.0,0.0,0.0,0.0,0.0,11.078113479059063,0.0,0.0,17.211781456619917,30.212093538316473,0.0,1.4311996572326342,0.0,37.3,41.74485031796532,4.794537184071822,0.0,0.0,0.0,0.0,0.0,0.0,0.0,5.1088081911072125,8.284992438083735,42.666897203325775,0.0,10.99322373393802,3.590961829176115,-0.6287037037037033,-1.2712962962962961,-3.1844160997732427,0.0,0.0,0.0,0.0,9,1,2,0,0,0,1,0,1,2,1,2,1,0,0,0,1,1.3848,33.4013,0,0,0,0,1,0,0,0,1,1,1,0,0,0,0,0,0,0,0,0,0,0,0,0,0,0,0,0,0,0,0,0,0,0,1,0,0,0,0,0,0,0,0,0,0,0,0,0,0,0,0,0,0,0,0,0,0,0,0,0,0,0,0,0,0,0,0,0,0,0,0,0,0,0,0,0,0,0,0,0,0,0,0,0,0\n",
            "8.482520786092214,8.482520786092214,1.1515462018140599,-4.4152184901738485,0.6389509580864461,37.35294117647059,239.31500000000017,218.14699999999996,239.152143532,96,0,0.29310996265754763,-0.5075837293484645,0.5075837293484645,0.29310996265754763,1.7058823529411764,2.588235294117647,3.235294117647059,,,,,,,,,2.7202262517037696,4.355367013431198,995.3535785740778,30.662772227887025,29.171958466891546,8.171958466891548,16.70077703034781,14.2315444980873,4.059586031195753,2.8193273574547764,2.8193273574547764,1.4323692978021179,1.4323692978021179,0.7707033137991481,0.7707033137991481,-1.1,20184949.260042515,2.5924890387115256,5.489653133998208,4.340801106423208,131.74100927061338,20.63623792661001,7.161353911612106,0.0,2.8623993144652684,1.4311996572326342,0.0,0.0,0.0,0.0,0.0,6.042418707663295,38.20396525891062,32.6775805462687,20.863554606887593,40.04116210654359,0.0,4.293598971697903,5.309813353288376,0.0,38.73360487413666,6.496859684315945,29.254159106383874,0.0,5.749511833283905,5.309813353288376,0.0,5.749511833283905,0.0,31.655808481718832,6.558985242916289,0.0,61.065492817124806,18.127256122989884,1.4118420783282006,0.0,0.0,72.72,85.54394885140877,0.0,0.0,0.0,0.0,0.0,0.0,0.0,0.0,15.326424573321638,29.008336504919846,163.14234983766235,0.0,0.0,10.752097126959137,-7.401113355064248,-1.2236640605316202,-4.3819530659486,-4.125862150415724,-20.511854332661297,0.0,0.5384615384615384,17,4,4,0,0,0,1,0,1,4,4,4,7,0,0,0,1,1.3059999999999998,66.74510000000004,0,2,0,0,0,0,0,1,0,0,0,0,0,1,0,0,1,0,0,0,0,0,0,0,0,0,0,0,0,0,0,0,0,0,1,0,0,0,0,0,0,0,0,0,0,0,0,0,0,0,0,0,0,0,0,0,0,0,0,0,0,0,0,0,0,1,0,0,0,0,0,0,0,0,0,0,0,0,0,0,0,0,0,0,0\n",
            "9.413127125850341,9.413127125850341,0.7553975340136048,-4.4495639910451,0.8776016184783941,63.916666666666664,324.4239999999996,300.232,324.1837780080007,126,0,0.21102301563596135,-0.4967429396078586,0.4967429396078586,0.21102301563596135,1.7916666666666667,2.7916666666666665,3.6666666666666665,,,,,,,,,2.942945380861067,2.333505302166257,1755.594917430569,37.54952357383516,35.71092377192764,11.710923771927643,21.28446959358909,18.388654714909553,6.4804064244456905,4.615147750704714,4.615147750704714,3.2708947893645384,3.2708947893645384,2.187763799719591,2.187763799719591,-1.9099999999999997,3768152280.4334393,4.077207469279656,6.187607918654215,2.5024063339993896,176.11938846535955,9.84567114490726,5.749511833283905,0.0,1.4311996572326342,0.0,0.0,9.883888251797686,0.0,0.0,6.531038962001867,6.052071746035566,60.76375118005104,39.15221569581758,35.08377387749148,41.37311793682233,10.902924932081056,1.4311996572326342,9.883888251797686,11.787915370726157,24.84376029795839,20.03167182751448,48.48913224120237,0.0,5.749511833283905,4.736862953800049,0.0,5.749511833283905,0.0,42.47346039600165,0.0,11.787915370726157,55.91676611322085,42.925680749505375,0.0,10.902924932081056,0.0,45.59,126.70482623361681,2.7415171123404405,0.0,0.0,0.0,0.0,0.0,0.0,0.0,14.82964966585447,30.21712933680725,206.61099735469062,0.0,2.8378867977210778,3.3176654095280087,-2.5033574993996175,-9.77843138251373,-11.256080456216345,-14.108871377898934,-10.127330398236305,-3.409145114341481,0.45,24,1,4,0,3,3,1,1,2,4,1,4,6,0,3,3,5,3.1732000000000014,95.02680000000007,0,1,0,0,0,1,0,0,0,0,0,0,0,0,0,2,0,0,0,0,0,0,0,0,0,0,0,0,0,0,0,0,0,0,1,0,4,0,0,0,0,1,0,0,0,0,0,0,0,0,0,0,0,0,0,1,0,0,0,0,0,0,0,0,0,0,0,0,0,3,0,0,0,1,0,0,0,0,0,0,0,0,0,0,0\n",
            "11.284890400604686,11.284890400604686,0.3254837490551781,-1.2666666666666664,0.5859367170668044,19.333333333333332,121.13899999999995,114.08299999999998,121.052763844,46,0,0.24819511424564836,-0.3655995116322135,0.3655995116322135,0.24819511424564836,1.5555555555555556,2.2222222222222223,2.7777777777777777,,,,,,,,,2.232728044989675,3.5800026055780405,429.5339429548632,12.618802153517006,11.355461885963821,4.3554618859638214,7.2854688201836755,5.5721581339818265,2.1777309429819107,1.305152564408483,1.305152564408483,0.7138654714909553,0.7138654714909553,0.3569327357454776,0.3569327357454776,-1.31,2500.655410388436,1.5949056030206288,2.306763635550358,1.2877050319358112,63.248664796601425,5.719716975726273,0.0,2.8236841566564013,5.907179729351506,0.0,0.0,4.794537184071822,0.0,0.0,0.0,18.127256122989884,12.08483741532659,5.563451491696996,6.853792780851101,14.472014121579322,5.907179729351506,0.0,0.0,5.719716975726273,0.0,0.0,35.77554503001347,0.0,0.0,5.719716975726273,0.0,0.0,0.0,5.907179729351506,0.0,0.0,17.211781456619917,30.212093538316473,2.8236841566564013,0.0,0.0,43.09,41.68272475936497,4.794537184071822,0.0,5.719716975726273,0.0,0.0,0.0,0.0,0.0,0.0,9.677476937507501,49.99942554799698,0.0,11.284890400604686,0.0,-0.9958541194255479,-1.2666666666666664,-3.3551284958427807,0.0,0.0,0.0,0.0,9,2,2,0,0,0,1,0,1,1,1,2,1,0,0,0,1,0.7855000000000001,34.95990000000001,0,0,0,0,0,0,0,0,0,0,1,1,0,0,0,0,0,1,0,0,0,0,0,0,0,0,0,1,0,0,0,0,0,0,1,0,0,0,0,0,0,0,0,0,0,0,0,0,0,0,0,0,0,0,0,0,0,0,0,0,0,0,0,0,0,0,0,0,0,0,0,1,0,0,0,0,0,0,0,0,0,0,0,0,0\n",
            "12.38152962740422,12.38152962740422,0.9630092986268579,-5.570234552262643,0.6406363565705827,29.714285714285715,356.2269999999997,341.10699999999997,355.0047989400004,118,0,0.2532010575770425,-0.39412320755251795,0.39412320755251795,0.2532010575770425,1.619047619047619,2.2857142857142856,2.761904761904762,,,,,,,,,2.737145587062467,4.318782818086364,1130.0430085382134,29.0330157158901,24.65263228430159,11.980986757266228,15.823455830409983,11.942842304429861,6.918224321615024,3.1647207197397424,5.529235630027956,1.7846194947106984,2.849535319415688,0.9310743479922975,1.3863805853637463,-0.8600000000000001,9937768.168675635,5.975026266184956,7.417155841041921,5.119865598261104,153.45879308048035,15.5274297355028,6.080018026949988,16.061416544197442,2.8623993144652684,5.907179729351506,0.0,4.794537184071822,8.417796984328938,0.0,0.0,35.286717195791624,17.648288907023584,10.296199769627119,29.809188192315684,41.29089530298604,38.94631264623404,2.8623993144652684,5.309813353288376,0.0,21.80571530026915,12.742909344032746,29.733126322350174,0.0,0.0,5.309813353288376,0.0,0.0,23.20187978046503,50.97811555219427,14.631790320489323,0.0,28.09257219268962,29.065158306170954,1.4118420783282006,0.0,0.0,103.70000000000002,85.33599718570946,13.212334168400758,0.0,0.0,0.0,0.0,0.0,0.0,0.0,10.217616382214425,43.925223847301154,139.85133235167305,10.536453594538052,7.309785991442287,6.743859273826354,-1.654914493575207,-2.1876959634481272,-10.88596615086364,-8.002675795850177,-4.084388699924415,-5.570234552262643,0.4166666666666667,21,3,6,0,0,0,1,0,1,5,3,9,9,0,0,0,1,0.40430000000000005,79.02210000000002,0,2,0,0,0,0,0,0,0,0,1,1,0,0,0,0,1,0,0,0,0,0,0,0,0,2,0,1,0,0,0,0,0,0,1,0,0,0,0,0,0,0,0,0,2,0,0,0,0,0,0,0,0,0,0,0,0,0,0,0,0,0,0,0,0,0,0,0,0,0,0,0,0,0,0,0,0,1,0,0,0,0,0,0,0\n",
            "11.946269498002241,11.946269498002241,0.7413199425103145,-4.392508100290162,0.637673978167625,35.0,266.3409999999999,244.16499999999996,266.1630425640003,106,0,0.22133904270124447,-0.49084910947086335,0.49084910947086335,0.22133904270124447,1.7894736842105263,2.5789473684210527,3.210526315789474,,,,,,,,,2.8083068764703287,3.8862882025697107,1120.6525380718601,33.11036598507973,31.119172062391506,9.119172062391504,17.92929787806655,15.237206051141401,4.487316974177663,2.7397385956042357,2.7397385956042357,1.3490359644687844,1.3490359644687844,0.748370791771757,0.748370791771757,-1.5899999999999999,74484947.94917265,3.0185825942806104,7.759435821524982,6.785046519560318,144.48018515557132,20.875201473921912,19.80035718147838,2.8236841566564013,7.33837938658414,0.0,0.0,4.794537184071822,0.0,0.0,0.0,25.78862164991795,17.648288907023584,27.593096270538005,15.968234794520917,43.549388575027656,5.907179729351506,1.4311996572326342,5.309813353288376,5.719716975726273,32.17461963122037,13.055844927232233,29.733126322350174,0.0,5.749511833283905,15.766393282814699,0.0,5.749511833283905,0.0,37.60094300022322,11.167462085401201,0.0,43.940889737352336,24.16967483065318,4.235526234984602,0.0,0.0,84.57999999999998,97.64981277245286,4.794537184071822,0.0,0.0,0.0,0.0,0.0,0.0,0.0,9.84567114490726,30.34037990328119,173.8456605879128,0.0,11.946269498002241,2.6741938937734453,-2.069285849367139,-3.461490652487936,-9.964425485896447,-7.871512089687911,-16.682743235582414,0.0,0.5,19,4,5,0,0,0,1,0,1,4,3,5,11,0,0,0,1,0.45210000000000006,73.98090000000003,0,1,0,0,0,0,0,0,0,0,1,1,0,0,0,0,1,1,0,0,0,0,0,0,0,0,0,1,0,0,0,0,0,0,1,0,0,0,0,0,0,1,0,0,0,0,0,0,0,0,0,0,0,0,0,0,0,0,0,0,0,0,0,0,0,0,0,0,0,0,0,1,0,0,0,0,0,0,0,0,0,0,0,0,0\n",
            "8.822801852493928,8.822801852493928,0.007647874245096498,-3.6679356812169317,0.2346588097545297,28.764705882352942,252.34700000000015,236.219,252.11571551199998,92,0,0.20394285225588685,-0.3547517477349958,0.3547517477349958,0.20394285225588685,2.0588235294117645,3.0,3.764705882352941,,,,,,,,,2.9223860743626306,3.5215997780933788,941.286548135155,26.36987900907357,24.091529863463613,8.908026444391338,14.492853262031431,11.709563852213508,4.684419646641358,2.1742202065977927,2.7865926422935874,1.19819209790394,1.6869525015868925,0.5912784795963747,0.9725893208141424,-1.6800000000000002,2793406.564970636,3.202589640329544,7.570081043458362,4.7817848631942805,127.57924078154417,10.286816623517627,1.3707585561702202,10.428682330763442,5.959554568743835,0.0,0.0,10.302218085924045,4.9839785209472085,17.0237765041296,0.0,0.0,6.851892117295679,47.02563102378964,11.997299708814687,22.05538746519746,17.72143951813495,5.261891554738487,20.58060849775321,4.992404732635669,12.556849002445837,19.177643469748347,17.69122770366315,0.0,6.19315609577884,10.619626706576751,0.0,0.0,11.761884949391115,35.098179829668645,5.704956885150159,18.306939767813006,29.207717219909778,11.295776446601895,4.235526234984602,0.0,0.0,88.88999999999999,72.45697304728067,0.0,0.0,10.286816623517627,0.0,6.19315609577884,0.0,0.0,0.0,9.976383253582878,27.317279019935945,121.85091883024911,-0.5212107898715039,6.246419461137174,7.915852591646081,-8.80561569449737,-1.4448172818510117,0.0,0.08119464883060701,-10.072741765643105,0.0,0.5,17,3,6,0,0,0,0,1,1,4,3,7,7,0,0,0,1,0.5973999999999997,69.59710000000001,0,0,0,0,0,2,1,0,0,0,0,0,0,0,1,3,3,0,0,0,0,1,0,0,0,0,0,0,0,0,0,0,0,0,0,0,0,0,0,0,0,0,0,1,0,0,0,1,0,0,0,0,0,0,0,0,0,1,0,0,0,0,0,0,0,0,0,0,0,0,0,0,0,0,0,1,0,0,0,0,0,0,0,0,0\n",
            "12.189357520786093,12.189357520786093,0.27415123456790136,-3.4106855254962074,0.7936220369870917,21.857142857142858,233.09800000000007,223.01799999999997,232.0170183,76,0,0.3208174549548312,-0.33065303791790296,0.33065303791790296,0.3208174549548312,1.5714285714285714,2.2857142857142856,2.9285714285714284,,,,,,,,,2.3939041255880693,3.523760346079837,630.7584801712795,19.196152422706632,16.558604427482233,8.070462319519141,10.618802153517008,8.147336202491012,3.956051553009508,2.081359052094219,2.837287998112674,1.1102339593451698,1.773912718068683,0.560566919954273,0.7918068691953126,-0.9299999999999998,58028.2360042548,3.5776260054724984,4.529874882436225,2.7868385985374062,106.71174150422173,10.209723084138854,0.0,1.4118420783282006,0.0,0.0,6.031114512338072,0.0,4.794537184071822,0.0,0.0,23.20187978046503,18.127256122989884,27.863591412269372,14.157542295993311,18.543206267932003,34.92038056748667,0.0,4.899909730850478,0.0,0.0,19.261467153852866,28.172522750472538,0.0,0.0,5.309813353288376,10.481923458755384,0.0,23.20187978046503,24.882678043753042,0.0,0.0,12.33682700553198,18.127256122989884,11.457108705810853,0.0,0.0,32.34,58.74258706890913,4.794537184071822,0.0,5.309813353288376,0.0,0.0,0.0,0.0,0.0,0.0,36.95054886432522,73.52444552049214,11.325955749069172,11.673495370370372,-1.2678562767699662,-0.8630555555555552,0.0,-4.1827248677248665,0.0,-6.821371050992415,0.0,0.2222222222222222,14,1,3,0,0,0,1,0,1,1,1,5,3,0,0,0,1,3.0869000000000018,59.167700000000025,0,0,0,0,0,0,0,0,0,0,1,1,0,0,0,1,1,0,0,0,0,0,0,0,0,0,0,2,0,1,0,0,0,0,1,0,0,0,0,0,0,0,0,0,2,0,0,0,0,0,0,0,0,0,0,0,0,0,0,0,0,0,0,0,0,0,0,0,0,0,0,0,0,0,0,0,0,0,0,0,0,0,0,0,1\n",
            "8.745607048374906,8.745607048374906,0.31338821176618725,-3.9635050547996995,0.6542213588943052,30.571428571428573,315.8689999999997,297.725,315.0848482560005,108,0,0.064539871681684,-0.30909168871589165,0.30909168871589165,0.064539871681684,1.2857142857142858,2.0952380952380953,2.9523809523809526,,,,,,,,,2.787573499812844,2.5907924555565516,1323.708029265005,30.36736081903094,28.23342635897305,11.80585188591923,17.41734954201361,14.518050920218414,6.712511974155367,3.7715061950844,5.170091394253285,2.46000657964462,3.6696095423088915,1.6765002146173185,2.736795545539469,-1.2199999999999998,73005145.02305448,4.408470160543624,6.266454204965884,3.1796920280138097,160.458394751698,4.899909730850478,0.0,0.0,0.0,0.0,0.0,0.0,0.0,0.0,0.0,47.542152708649084,61.194261046010304,35.01804551079503,10.96606844936176,24.673654011063956,28.9359293696929,0.0,4.899909730850478,0.0,16.16389185236493,20.448513484880436,64.49853899681395,0.0,0.0,0.0,0.0,0.0,23.36282483962363,25.348423215730918,0.0,0.0,42.17348189578735,58.139969650714185,5.022633313741326,5.573104530069267,0.0,3.24,101.79299164394352,0.0,0.0,9.79096695103555,11.761884949391115,0.0,0.0,0.0,0.0,0.0,36.274593901296484,145.3179428904401,6.597826354032836,-1.3393849118865635,-0.6211877991937509,-1.9048414273116638,0.0,-6.530258156373624,-3.8205557917611506,-11.421763380168418,0.0,0.2222222222222222,21,0,1,0,1,1,2,0,2,2,0,3,5,0,0,0,3,5.188000000000004,92.26700000000004,0,0,0,0,0,0,0,0,0,0,0,0,0,0,0,1,0,0,0,0,0,0,0,0,0,0,0,0,0,0,0,0,0,0,2,0,2,0,0,0,0,0,0,0,1,0,0,0,0,0,0,0,0,0,0,0,0,0,0,0,0,0,0,0,0,0,0,0,0,0,0,0,0,0,0,0,0,0,0,0,0,0,0,0,0\n",
            "13.425113529214357,13.425113529214357,0.8413309818621868,-4.770640943877553,0.7979361284429697,66.0909090909091,303.3579999999996,282.19,303.1470581520006,118,0,0.33792158843250003,-0.4686455560793509,0.4686455560793509,0.33792158843250003,1.4090909090909092,2.227272727272727,2.9545454545454546,,,,,,,,,2.911451835596252,2.5562522445761755,1378.108769964867,34.11036598507973,31.580206757355413,10.58020675735541,18.80308911815424,16.145565264641526,5.645565264641527,3.89078703971932,3.89078703971932,2.6380209706405067,2.6380209706405067,1.6937805661141505,1.6937805661141505,-1.8799999999999994,262536384.38750577,3.955908591805757,6.084896581778482,2.6087203862984762,159.24845290362987,9.473725907600098,11.973975712313067,0.0,0.0,0.0,11.938610575903699,9.694446914922299,4.794537184071822,0.0,0.0,18.127256122989884,31.806514118267597,34.85781251207131,24.93823095611156,47.84872995531839,11.938610575903699,0.0,4.899909730850478,5.893957685363079,37.23457766763742,14.013779359164834,35.77554503001347,0.0,0.0,0.0,0.0,0.0,0.0,48.96810262956828,14.268263091671919,5.893957685363079,58.26269305933164,30.212093538316473,0.0,0.0,0.0,55.84,109.75638004893298,9.589074368143644,0.0,0.0,0.0,0.0,0.0,0.0,0.0,4.736862953800049,33.52279263337467,178.95185765656635,0.0,25.928272107064945,0.0,-1.4632932571176622,-9.87031602996137,-14.957416896517048,-17.945765266971758,-4.1400344366715665,-3.919970543058569,0.5294117647058824,22,0,5,0,2,2,1,0,1,5,0,5,5,0,2,2,3,1.8677,80.34150000000005,0,0,0,0,0,0,0,0,0,0,2,2,0,0,0,1,0,0,0,0,0,0,0,0,0,0,0,0,0,0,0,0,0,0,1,0,2,0,0,0,2,2,0,0,0,0,0,0,0,0,0,0,0,0,0,1,0,0,0,0,0,0,0,0,0,0,0,0,0,1,0,0,0,0,0,0,0,0,0,0,0,0,0,0,0\n",
            "12.073727251817981,12.073727251817981,0.6748771730914582,-3.5724790567627425,0.8810778082204156,27.294117647058822,230.2630000000001,216.15099999999995,230.094294308,88,0,0.31018572532324495,-0.49674510424610224,0.49674510424610224,0.31018572532324495,1.4705882352941178,2.2941176470588234,3.0588235294117645,,,,,,,,,2.6318928575279927,3.1368941047639702,1073.563182871799,24.26506652345898,22.22474487139159,8.22474487139159,13.912625572891221,11.22474487139159,4.316496580927726,2.9686436964131624,2.9686436964131624,1.9082482904638631,1.9082482904638631,1.135889663385923,1.135889663385923,-2.03,1913799.3146014826,3.2526784074698663,4.454042614687935,2.228492726961196,119.39839445104184,9.84567114490726,5.749511833283905,0.0,0.0,1.4311996572326342,5.969305287951849,4.794537184071822,0.0,0.0,0.0,24.16967483065318,35.272629453248854,5.483034224680881,25.268737149777643,32.460069559191936,16.74175371688144,1.4311996572326342,0.0,0.0,12.745849802658757,7.037952458882589,41.81796373767676,0.0,5.749511833283905,4.736862953800049,0.0,5.749511833283905,0.0,18.11606593794165,4.794537184071822,0.0,36.12916252456862,36.25451224597977,0.0,12.203648086162225,0.0,46.53,84.09303154938345,4.794537184071822,0.0,0.0,0.0,0.0,0.0,0.0,0.0,9.84567114490726,19.251060887445494,112.14988326726085,0.0,12.073727251817981,2.2334720306983122,-1.1814446727765178,-6.395534761004188,-6.096228374065674,0.0,-3.5724790567627425,-3.128062351834675,0.21428571428571427,17,1,3,0,0,0,2,0,2,3,1,3,5,0,0,0,2,3.036500000000001,66.55080000000004,1,0,0,0,0,0,0,0,1,1,1,0,0,0,0,0,0,0,0,0,0,0,0,0,0,0,0,0,0,0,0,0,0,0,2,0,1,0,0,0,0,1,0,0,0,0,0,0,0,0,0,0,0,0,0,1,0,0,0,0,0,0,0,0,0,0,0,0,0,0,0,0,0,0,0,0,0,0,0,0,0,0,0,0,0\n",
            "9.233830152431343,9.233830152431343,0.6174455199065136,-3.9342196948223753,0.8058613927728192,47.05,306.2359999999997,289.1,305.07380490400044,104,0,0.12248402098203715,-0.3129793397487151,0.3129793397487151,0.12248402098203715,1.25,2.05,2.85,,,,,,,,,2.7893683610402547,2.7837206608544425,1295.5986965302484,29.005553499465137,26.70314254151841,11.215000433555321,16.466878364870322,13.772391664009143,6.081107014527639,3.713374669634195,4.469303615652651,2.566705019406373,3.2303837781298865,1.6887698458466156,1.9249976414773824,-1.02,31268149.878854606,4.253688294135575,5.767688568006868,2.460403676879641,153.4063265164773,5.309813353288376,1.4118420783282006,0.0,0.0,0.0,0.0,0.0,0.0,0.0,0.0,53.41397331878151,48.49686859335858,22.87791860307448,21.01133507684441,23.34397897705172,23.20187978046503,0.0,5.309813353288376,0.0,24.65769995637148,6.975826900282246,69.0325520562167,0.0,0.0,5.309813353288376,0.0,0.0,23.20187978046503,6.975826900282246,0.0,0.0,63.280191330186035,42.29693095364306,11.457108705810853,0.0,0.0,12.03,105.97589226615882,1.3707585561702202,0.0,0.0,0.0,0.0,0.0,0.0,0.0,0.0,45.17510020134656,141.2912974213637,11.880622984624758,0.0,-1.9642496232350881,-3.5364934492315436,-3.4855717750063,-11.285861603643514,-7.816439712459062,-3.611082020190744,0.0,0.29411764705882354,20,1,1,1,0,1,2,0,2,1,1,3,3,0,0,0,3,5.179600000000004,85.78170000000004,0,0,0,0,0,0,0,0,0,0,0,0,0,0,0,0,1,0,0,0,0,0,0,0,0,0,0,0,0,0,0,0,0,0,2,0,1,0,0,0,0,0,0,0,2,0,0,0,0,0,0,0,0,0,0,0,0,0,0,0,0,0,0,0,0,0,0,0,0,0,0,0,0,0,0,0,0,0,0,0,0,0,0,0,0\n",
            "10.785,10.785,0.07296296296296312,-1.0828703703703704,0.4670416161550293,17.25,111.10399999999997,106.064,111.04326178,42,0,0.3459330851399115,-0.38510347203289846,0.38510347203289846,0.3459330851399115,2.25,3.125,3.875,,,,,,,,,2.0059487230184767,3.559223966507291,388.1012680192028,10.171208396324301,8.749889076963736,3.7498890769637367,5.947264862732149,4.1637989204817005,1.8221581339818262,1.0665911802100028,1.0665911802100028,0.5207955901050014,0.5207955901050014,0.2693183401944496,0.2693183401944496,-1.32,601.784616905543,1.5797466691686997,1.6512034657775698,0.8412053770519652,52.571134276000556,5.719716975726273,5.817862777835028,4.235526234984602,0.0,0.0,5.689743398203474,4.977003270229252,9.77851570501903,0.0,0.0,0.0,6.042418707663295,6.172895210814761,2.7415171123404405,6.977043347325043,5.817862777835028,0.0,9.960981791176462,0.0,0.0,5.719716975726273,22.69959450075335,0.0,0.0,11.409460373929747,5.817862777835028,0.0,0.0,9.960981791176462,0.0,0.0,2.7415171123404405,17.009851102549877,4.235526234984602,0.0,0.0,71.77,23.72292009451656,4.794537184071822,0.0,10.696720245955525,0.0,0.0,0.0,0.0,0.0,4.9839785209472085,6.977043347325043,34.74009259259259,0.0,13.931851851851853,0.0,-1.1558333333333335,-0.6064814814814812,-0.5975925925925927,-0.6453703703703704,0.0,0.0,0.0,8,3,4,0,0,0,0,1,1,3,2,4,1,0,0,0,1,-0.6479000000000001,29.270099999999996,0,0,0,1,0,2,1,0,0,0,0,0,0,0,0,1,1,1,0,0,0,1,0,0,0,0,0,0,0,1,0,0,0,0,0,0,0,0,0,0,0,0,0,0,0,0,0,0,0,0,0,0,0,0,0,0,0,0,0,0,0,0,0,0,0,0,0,0,0,0,0,0,0,0,0,0,0,0,0,0,0,0,0,0,0\n",
            "12.909780801209369,12.909780801209369,0.6321192365835218,-1.0943518518518516,0.628686275140444,18.88888888888889,240.21400000000003,232.14999999999995,240.042258736,88,0,0.29312973530746195,-0.5071590533791949,0.5071590533791949,0.29312973530746195,0.8333333333333334,1.3333333333333333,1.7777777777777777,,,,,,,,,2.6146761476773572,2.542212724115579,939.9721965843785,19.49711733102786,16.632993161855453,8.632993161855453,12.182845630151162,8.632993161855453,4.816496580927726,3.5664965809277263,3.5664965809277263,2.5894345083117605,2.5894345083117605,1.8019770297464954,1.8019770297464954,-2.6199999999999997,514254.5047251826,4.937315409401993,3.434031110454225,1.1976128029572313,113.53716662290151,10.217616382214425,11.49902366656781,5.783244946364939,5.783244946364939,2.8623993144652684,0.0,9.589074368143644,0.0,0.0,0.0,24.16967483065318,12.08483741532659,11.126902983393991,19.35145432041531,28.031242087379386,11.566489892729878,2.8623993144652684,0.0,0.0,0.0,0.0,58.50831821276775,0.0,11.49902366656781,0.0,0.0,11.49902366656781,0.0,24.646505589409575,0.0,0.0,40.06743167195296,36.25451224597977,0.0,0.0,0.0,74.6,81.57383177206545,9.589074368143644,0.0,0.0,0.0,0.0,0.0,0.0,0.0,10.217616382214425,11.086950651486587,60.80218710632401,0.0,25.753416477702185,8.476696900982613,-2.5451077097505657,-3.6303854875283443,-4.523473954396573,0.0,0.0,0.0,0.0,18,2,4,1,0,1,2,0,2,4,2,4,2,0,0,0,3,1.873199999999999,63.07860000000002,0,0,0,0,0,0,0,2,0,0,2,2,0,0,0,0,0,0,0,0,0,0,0,0,0,0,0,0,0,0,0,0,0,0,2,0,2,0,0,0,0,0,0,0,0,0,0,0,0,0,0,2,0,0,0,0,0,0,0,0,0,0,0,0,0,2,2,0,0,0,0,0,0,0,0,0,0,0,0,0,0,0,0,0,0\n",
            "15.157320562484248,15.157320562484248,2.2931310199891106,-5.609596206538175,0.7856923773821717,87.38461538461539,360.44999999999953,332.22600000000006,360.1936739960007,142,0,0.2115319277481168,-0.38846410124812436,0.38846410124812436,0.2115319277481168,1.4615384615384615,2.3461538461538463,3.076923076923077,,,,,,,,,3.0897577705710155,2.6564127823324815,1776.4160413778993,43.30096490832123,40.54124145231931,12.541241452319316,23.3681140291485,20.837117307087382,7.020620726159658,5.770620726159658,5.770620726159658,4.37173680533711,4.37173680533711,3.056659214567151,3.056659214567151,-1.3300000000000003,25538717592.37593,4.459880505580094,5.58503239376501,2.0724999742533408,192.910713994937,10.217616382214425,17.943281000264918,11.566489892729878,2.8623993144652684,0.0,0.0,14.383611552215466,0.0,0.0,0.0,19.276888764660626,55.119602092805394,55.58224474933373,4.1122756685106605,60.24095039485567,17.34973483909482,2.8623993144652684,0.0,28.5118539948828,63.91530935488069,6.558985242916289,11.625176276104835,0.0,0.0,0.0,0.0,0.0,0.0,42.58978658967448,14.383611552215466,28.5118539948828,93.95398100432266,11.625176276104835,0.0,0.0,0.0,91.67,127.96105970787947,13.701350036654302,4.794537184071822,0.0,0.0,0.0,0.0,0.0,0.0,10.217616382214425,34.389846106380325,242.52753397155283,0.0,42.49506893499958,7.731402543917285,-18.464772347478434,-25.635932635855198,-2.2931310199891106,-35.38319693024263,-14.643639183571096,0.0,0.7619047619047619,26,2,5,4,0,4,0,0,0,5,2,5,6,3,0,3,4,1.9898000000000002,94.14260000000004,0,2,0,0,0,0,0,0,0,0,3,3,0,0,0,0,0,0,0,0,0,0,0,0,0,0,1,0,0,0,0,0,0,0,0,0,5,0,0,0,0,0,0,0,0,0,0,0,0,0,0,3,2,0,0,0,0,0,0,0,0,0,0,0,0,0,0,0,0,0,0,0,0,0,0,0,0,0,0,0,0,0,0,0,0\n",
            "12.918181269421348,12.918181269421348,0.09436051272360801,-3.3963741916519705,0.79164533623487,27.05,284.74599999999975,271.642,284.0716407160004,100,0,0.24791727974282635,-0.31319991842941763,0.31319991842941763,0.24791727974282635,1.35,2.15,2.9,,,,,,,,,2.7980159973924907,2.6556314634680573,1225.6647664732582,25.36736081903094,22.68063995447301,10.43656890049146,14.945987975476354,11.76114037048644,5.639104843495668,3.625365390788002,4.00332986379723,2.425848948628515,2.6148311851331285,1.5763015024710714,1.7180381798495314,-2.129999999999999,7179932.890588922,4.707120427856545,5.097712849630266,2.207528872522681,140.32699561478861,4.899909730850478,6.496859684315945,0.0,5.907179729351506,0.0,0.0,9.786941916707491,0.0,0.0,0.0,41.81303342854899,18.127256122989884,27.237638865928222,25.10665683915646,22.61439841428468,28.907190897038284,0.0,0.0,4.992404732635669,0.0,18.372596315448668,64.48888595844167,0.0,0.0,4.899909730850478,5.687386274683562,0.0,11.600939890232516,25.0915513167204,4.794537184071822,0.0,28.946764213606848,53.33175439394203,5.022633313741326,0.0,0.0,32.67,95.26782354984566,4.794537184071822,0.0,4.899909730850478,0.0,0.0,0.0,0.0,0.0,4.992404732635669,29.420801120445372,103.73640931192436,5.977093201478121,16.412064646846392,-0.6673899806836314,-3.210897266313931,-1.7632044175694965,-6.795238033999605,0.0,-6.744393017237762,0.0,0.125,20,0,3,0,1,1,2,0,2,2,0,4,2,0,0,0,3,3.153800000000002,81.81000000000004,0,0,0,0,0,0,0,0,0,0,1,1,0,0,1,2,0,0,0,1,0,0,0,0,0,0,0,1,0,1,0,0,0,0,2,1,1,0,0,0,0,0,0,0,1,0,0,0,0,0,0,0,0,0,0,0,0,0,0,0,0,0,0,0,0,0,0,0,0,0,0,0,0,0,0,0,0,0,0,0,0,0,0,0,0\n",
            "14.835384178182041,14.835384178182041,0.9387164063156124,-3.6431465534892693,0.885185467376535,27.8,356.4179999999997,339.28200000000004,356.0882436240004,128,0,0.30734864008733426,-0.4809857797763111,0.4809857797763111,0.30734864008733426,1.4,2.2,2.88,,,,,,,,,3.261863198715298,2.7027126166284923,1609.2548377601593,32.59941162659982,29.01095763486468,12.827454215792406,18.95424190444888,14.83039377456287,7.571975398360066,4.5742925995844415,5.51999836861357,3.046510669433537,3.621425626564067,2.0666591505878285,2.354116629153093,-2.5299999999999994,401669308.17410845,6.02280899804153,6.763884813845741,3.4643192577969417,171.4897112425581,5.1088081911072125,5.817220841045895,0.0,0.0,1.4311996572326342,5.969305287951849,9.00343567623629,4.39041504767482,0.0,0.0,18.127256122989884,70.48330675928321,32.8450450689003,17.338993350691137,40.43479581374186,33.96715513703026,1.4311996572326342,0.0,0.0,18.120300494142832,6.1839241011164585,70.37761079984921,0.0,0.0,0.0,4.39041504767482,0.0,0.0,21.470936072339992,15.59410622697613,5.817220841045895,51.84730839243961,52.76551895923011,0.0,18.629480463406736,0.0,54.37,128.6489905321388,13.393850723911111,0.0,0.0,0.0,0.0,0.0,0.0,0.0,5.1088081911072125,23.363336555956153,162.9528287387903,0.0,11.224030135011184,3.6726083396950377,-6.76357810851911,-3.773399899357969,-9.915332258052016,-6.932825459939079,-3.5656173192693936,-3.0931586128033652,0.15,25,1,3,1,0,1,2,0,2,3,1,5,6,0,0,0,3,4.365500000000003,97.89220000000003,1,0,0,0,0,0,0,0,1,1,1,0,0,0,0,0,0,0,0,0,0,0,0,0,0,0,2,0,0,0,0,0,0,0,2,0,1,0,0,0,0,0,0,0,1,0,0,0,0,0,0,0,0,0,0,0,0,0,0,0,0,0,0,0,0,0,0,0,0,0,0,0,0,0,0,0,0,0,0,0,0,0,0,0,0\n",
            "13.46279195011338,13.46279195011338,0.581789965986395,-5.769754109977322,0.6699841555806898,28.1,331.29699999999985,323.233,330.9908323960002,112,0,0.41729938656373755,-0.3704318163338527,0.41729938656373755,0.3704318163338527,1.5,2.15,2.7,,,,,,,,,2.5089102332628097,3.2508975680703847,1062.1183876514951,22.196152422706632,16.925023948310734,10.558017110166185,12.31816089063478,8.216684813564251,7.307957089165699,3.3828373287053104,6.28217345478072,2.03479037442911,3.990210818273529,1.284995983853578,2.817006099616341,-1.3700000000000003,388853.4881431696,7.58500217508939,4.3110501611482945,2.586795284466095,123.08521978289448,5.309813353288376,9.131009710502378,1.4118420783282006,20.046582306815168,0.0,6.176298517443475,0.0,21.960617204829905,17.88636475675859,0.0,0.0,12.08483741532659,0.0,28.250149933881723,41.13724164967602,25.73396858149873,0.0,4.715119613734132,5.12502323617203,15.967265468479024,11.930607820590888,17.648288907023584,0.0,0.0,15.149956203194538,18.858631417708022,0.0,0.0,23.45638843596039,26.22288082425864,0.0,11.046485716377875,21.87580436636214,5.6473683133128025,0.0,0.0,118.35999999999999,81.12027362749839,30.006839111682332,0.0,0.0,0.0,0.0,0.0,0.0,0.0,0.0,11.130402537993684,146.7282356623205,0.0,-3.9512627551020403,-1.8108658116024197,-4.075262188208615,0.0,-3.9562037037037023,-5.726446641156464,-3.6029614276266058,-11.271899801587296,0.25,20,4,7,0,1,1,1,0,1,5,3,12,2,0,0,0,2,0.014100000000000557,61.6284,0,0,0,0,0,0,0,0,0,0,0,0,0,0,0,0,2,1,0,0,0,0,0,0,0,3,0,0,0,1,0,0,0,0,1,0,1,0,0,0,0,0,0,0,3,0,0,0,0,0,0,0,0,0,0,0,0,0,0,0,0,0,0,0,0,0,0,0,0,0,0,0,0,0,0,0,2,0,0,0,0,0,0,0,0\n",
            "15.2057208994709,15.2057208994709,0.8145637124352854,-3.644979962000617,0.8937504426107861,24.61111111111111,244.26500000000007,231.16099999999994,244.089957876,92,0,0.31018714849415946,-0.4807884920982788,0.4807884920982788,0.31018714849415946,1.4444444444444444,2.2222222222222223,2.888888888888889,,,,,,,,,2.696781156202779,3.075656449368037,1039.7729624107085,24.212660280651686,21.694461053936955,8.694461053936953,14.049541366069631,11.00547881743234,4.597230526968477,3.1014397150698785,3.1014397150698785,1.9708608226103916,1.9708608226103916,1.1576759704313493,1.1576759704313493,-2.1599999999999993,2439508.2339010336,3.9176473632384328,5.001422908877978,2.399039500976548,123.0559016842256,5.1088081911072125,5.817220841045895,0.0,0.0,1.4311996572326342,5.969305287951849,4.794537184071822,4.39041504767482,0.0,0.0,42.29693095364306,24.021213808352964,11.046485716377875,16.860026134724837,30.74286309689649,5.969305287951849,1.4311996572326342,0.0,0.0,12.745849802658757,0.0,59.72002199404925,0.0,11.126902983393991,0.0,4.39041504767482,0.0,0.0,11.078113479059063,4.794537184071822,5.817220841045895,34.7584039683984,48.33934966130636,0.0,12.558102640626625,0.0,37.3,89.56208006805386,4.794537184071822,4.39041504767482,0.0,0.0,0.0,0.0,0.0,0.0,5.1088081911072125,17.880302331275274,115.010502750266,0.0,11.95985633711193,3.566575399124551,-3.3047853940959095,-7.449284845378821,-8.471217618360475,0.0,-3.644979962000617,0.0,0.13333333333333333,18,1,2,0,0,0,2,0,2,2,1,3,4,0,0,0,2,3.6808000000000023,67.88680000000002,1,0,0,0,0,0,0,0,1,1,1,0,0,0,0,0,0,0,0,0,0,0,0,0,0,0,0,0,0,0,0,0,0,0,2,0,0,0,0,0,0,0,0,0,1,0,0,0,0,0,0,0,0,0,0,0,0,0,0,0,0,0,0,0,0,0,0,0,0,0,0,0,0,0,0,0,0,0,0,0,0,0,0,0,0\n",
            "11.65080707384988,11.65080707384988,0.23762037804713776,-5.27211542752014,0.28661243847385526,24.85,337.4559999999998,322.33600000000007,337.04493572000035,112,0,0.3183666112666898,-0.3864017949147059,0.3864017949147059,0.3183666112666898,1.6,2.45,3.15,,,,,,,,,3.0326799243933964,3.4879468420946584,1062.6103996089964,27.73168632863937,24.171736620819022,11.6212263636022,15.56390936485127,11.38154143193067,7.333789239793342,2.6528254719190723,5.116835629257339,1.2054830981519895,2.7692356989560074,0.6893956125926751,1.9537441186780322,-1.3699999999999999,8374518.160218035,5.119926717336136,7.422318703285096,7.275833665396974,145.82460669144177,17.15915092717882,8.65930394241367,14.43060703871304,5.131558479839333,0.0,10.209329170397666,0.0,10.109001757119238,25.17208666635572,15.734496871016162,0.0,0.0,31.363504418318612,7.064686551018681,29.307843504146074,50.23473283206396,0.0,4.9839785209472085,31.674289889067946,12.077881786479537,5.704956885150159,11.05004240451606,0.0,0.0,22.28417416335085,5.131558479839333,0.0,23.098670827325854,30.901906744927413,15.914286055547825,0.0,21.66216278936938,14.746230135384694,11.294736626625605,0.0,0.0,175.82999999999998,78.57556824217326,8.417796984328938,0.0,11.439433951452546,11.336785877934737,0.0,0.0,0.0,0.0,14.374094246664303,20.89004651981714,138.0408464562924,-0.12107682486064508,7.105897231225324,-2.153771385458084,-8.572289920155647,-2.664235517831314,0.0,-3.69658794502522,0.0,-5.27211542752014,0.375,20,8,9,0,0,0,0,1,1,6,4,12,8,0,0,0,1,-0.7679999999999998,83.0924,0,0,0,0,0,1,0,0,0,0,0,0,0,0,1,3,0,4,0,0,0,0,0,0,0,0,0,0,1,0,0,0,0,0,0,0,0,0,0,0,0,0,0,1,0,0,0,0,0,0,0,0,0,0,0,0,0,0,0,0,0,0,0,0,0,0,0,0,0,0,0,0,0,0,0,1,0,0,0,0,1,0,0,0,0\n",
            "13.304605358366182,13.304605358366182,0.20685185185185206,-5.3133005270009255,0.8882248174804238,17.95,281.2329999999998,271.15299999999996,281.0663632200003,104,0,0.41598550592029687,-0.4775833405203052,0.4775833405203052,0.41598550592029687,1.25,2.0,2.7,,,,,,,,,2.6497199200547663,3.0057400805537795,1060.2194660291025,23.290010549841313,19.397603595455365,9.397603595455365,13.677532898141484,9.777870481441482,4.922408595477662,3.344233541982848,3.344233541982848,1.9907127949263048,1.9907127949263048,1.1807541925156535,1.1807541925156535,-2.499999999999999,1623509.8922167558,5.865650969529086,5.241818181818182,3.0853254437869824,126.41503769102441,10.418621544395588,0.0,1.4118420783282006,0.0,1.4311996572326342,12.145603805395325,0.0,4.794537184071822,13.171245143024459,0.0,18.127256122989884,30.212093538316473,5.687386274683562,27.78035770743931,35.452501045893456,17.344077837318974,1.4311996572326342,0.0,0.0,6.176298517443475,5.309813353288376,59.46625264470035,0.0,0.0,5.309813353288376,24.546017692391587,0.0,0.0,11.078113479059063,6.176298517443475,0.0,26.88750861682757,48.33934966130636,1.4118420783282006,1.4311996572326342,0.0,49.33,82.9866289994628,17.96578232709628,0.0,5.309813353288376,0.0,0.0,0.0,0.0,0.0,5.1088081911072125,13.809110184922595,116.08304454575043,0.0,11.915303812883177,3.480508839338204,-5.389875152221382,-1.6744771326740573,-9.684537719408752,-5.3133005270009255,0.0,0.0,0.07142857142857142,20,2,3,0,0,0,2,0,2,3,2,6,3,0,0,0,2,4.1472000000000016,68.12800000000001,0,0,0,0,1,0,0,0,1,1,1,0,0,0,0,0,1,0,0,0,0,0,0,0,0,3,0,0,0,2,0,0,0,0,2,0,0,0,0,0,0,0,0,0,3,0,0,0,0,0,0,0,0,0,0,0,0,0,0,0,0,0,0,0,1,0,0,0,0,0,0,0,0,0,0,0,0,0,0,0,0,0,0,0,0\n",
            "13.630442164724272,13.630442164724272,1.0629738021751909,-4.365522841080881,0.7277739364016139,70.5,268.35599999999977,248.19599999999994,268.14632988000034,104,0,0.2930923269321341,-0.5079558292226948,0.5079558292226948,0.2930923269321341,1.6,2.55,3.4,,,,,,,,,2.871717410714051,2.454144924898481,1406.9653386432535,31.40325920389318,29.816496580927726,9.816496580927726,17.60616569309557,15.566496580927726,5.658248290463863,4.408248290463863,4.408248290463863,3.2436862178478973,3.2436862178478973,2.2411086270779395,2.2411086270779395,-1.57,106458467.07913104,3.262047215730607,3.9691587438394444,1.4788916842205588,147.24544811320754,5.1088081911072125,11.532756779648844,0.0,0.0,1.4311996572326342,0.0,4.794537184071822,0.0,0.0,0.0,24.519487101063806,54.59739768940117,38.24325139864255,5.483034224680881,35.94775794241322,5.783244946364939,1.4311996572326342,0.0,11.308948154759857,44.61047430930565,0.0,40.879335382488705,0.0,5.749511833283905,0.0,0.0,5.749511833283905,0.0,12.323252794704786,11.167462085401201,11.308948154759857,75.40886495860444,29.75243239909472,0.0,0.0,0.0,37.3,108.33151462620309,7.536054296412263,0.0,0.0,0.0,0.0,0.0,0.0,0.0,5.1088081911072125,24.734095112126372,169.13419685922912,0.0,13.630442164724272,4.15380391929499,-8.65691361961451,-11.518405596302646,-5.502988788107835,-20.263311930590532,-4.226823008632852,0.0,0.5,20,1,2,3,0,3,1,0,1,2,1,2,2,2,0,2,4,3.7375000000000025,77.70680000000003,0,0,0,0,0,0,0,1,0,0,1,1,0,0,0,0,0,0,0,0,0,0,0,0,0,0,2,0,0,0,0,0,0,0,1,0,5,0,0,0,0,0,0,0,0,0,0,0,0,0,0,1,1,0,0,0,0,0,0,0,0,0,0,0,0,1,1,0,0,0,0,0,0,0,0,0,0,0,0,0,0,0,0,0,0\n",
            "12.33842828798186,12.33842828798186,0.1962344104308391,-5.147947530864195,0.6544582690300507,29.88235294117647,297.7449999999999,289.68100000000004,296.96447541600014,94,0,0.24366456161935907,-0.37040168741078,0.37040168741078,0.24366456161935907,1.6470588235294117,2.3529411764705883,3.0,,,,,,,,,2.4673423736640845,3.1039573022867604,968.6758175247236,19.696152422706632,15.66909500229228,10.058017110166187,11.106836025229594,7.5887203405550245,7.057957089165699,2.824060496167289,6.101361095251926,1.7083529391070367,4.059300246764287,1.0475793545198993,2.861623336215683,-0.8700000000000001,126641.28201305647,5.846921273207415,3.8175416799939437,2.2392150460713234,114.52693768660085,5.309813353288376,14.026493186020152,1.4118420783282006,20.046582306815168,0.0,0.0,0.0,21.960617204829905,4.715119613734132,0.0,11.600939890232516,12.08483741532659,0.0,22.81384828040828,27.96599650665155,37.33490847173125,0.0,4.715119613734132,5.12502323617203,9.79096695103555,11.930607820590888,17.107470729067916,0.0,0.0,15.149956203194538,5.687386274683562,0.0,11.600939890232516,23.45638843596039,20.046582306815168,0.0,5.483034224680881,21.87580436636214,10.670001627054129,0.0,0.0,118.35999999999999,69.09334357881087,16.835593968657875,0.0,5.309813353288376,0.0,0.0,0.0,0.0,0.0,0.0,22.731342428226196,107.3376743197279,5.684220679012344,-2.6683306563366083,-2.100004133597884,-1.037998866213152,0.0,-2.5054243827160487,0.0,-3.269171430146133,-10.246521085285963,0.14285714285714285,17,4,7,0,1,1,1,0,1,5,3,10,2,0,0,0,2,-0.35129999999999967,61.63640000000001,0,0,0,0,0,0,0,0,0,0,0,0,0,0,0,0,2,1,0,0,0,0,0,0,0,0,0,0,0,1,0,0,0,0,1,0,1,0,0,0,0,0,0,0,1,0,0,0,0,0,0,0,0,0,0,0,0,0,0,0,0,0,0,0,0,0,0,0,0,0,0,0,0,0,0,0,2,0,0,0,0,0,0,0,0\n",
            "11.465040233686066,11.465040233686066,0.20687263794406663,-3.1571375425170087,0.5950261967780849,21.636363636363637,151.16500000000008,142.093,151.063328528,58,0,0.2930920966378401,-0.5079643157925783,0.5079643157925783,0.2930920966378401,1.8181818181818181,2.5454545454545454,3.090909090909091,,,,,,,,,2.3493145187649693,3.5145147197531204,526.854133465458,15.825908934703556,14.263710176427683,5.263710176427684,9.034798488049647,6.960923771927643,2.605461885963821,1.594686906265383,1.594686906265383,0.8022141162622034,0.8022141162622034,0.45187968107923093,0.45187968107923093,-1.5099999999999998,13543.798200680048,2.0008188514043375,3.0531381005525,2.292303972882069,77.45636677601388,10.418621544395588,5.749511833283905,1.4118420783282006,5.907179729351506,1.4311996572326342,0.0,4.794537184071822,0.0,0.0,0.0,0.0,24.16967483065318,16.6515540604899,5.483034224680881,20.910497346698772,11.594566004035068,1.4311996572326342,0.0,0.0,6.851892117295679,5.309813353288376,24.16967483065318,0.0,5.749511833283905,5.309813353288376,5.687386274683562,5.749511833283905,0.0,12.447187577691352,4.794537184071822,0.0,16.447202010487217,24.16967483065318,1.4118420783282006,0.0,0.0,49.33,48.36564478526783,4.794537184071822,0.0,5.309813353288376,0.0,0.0,0.0,0.0,0.0,5.1088081911072125,12.438351628752375,64.78879739858905,0.0,11.465040233686066,3.7522506849962203,-0.8176620370370362,-2.3506254724111857,-3.2639965986394532,0.0,-3.1571375425170087,0.0,0.125,11,2,3,0,0,0,1,0,1,2,2,3,3,0,0,0,1,1.3505999999999998,42.41050000000002,0,0,0,0,0,0,0,1,0,0,1,1,0,0,0,0,1,0,0,0,0,0,0,0,0,0,0,1,0,1,0,0,0,0,1,0,0,0,0,0,0,0,0,0,0,0,0,0,0,0,0,0,0,0,0,0,0,0,0,0,0,0,0,0,0,1,1,0,0,0,0,0,0,0,0,0,0,0,0,0,0,0,0,0,0\n",
            "12.01275738308409,12.01275738308409,1.4373630007558578,-4.012712191358027,0.8215995486924976,36.266666666666666,206.28500000000014,188.14099999999996,206.130679816,82,0,0.3101853515323108,-0.4807885019257389,0.4807885019257389,0.3101853515323108,1.6,2.3333333333333335,2.8666666666666667,,,,,,,,,2.614794598810607,4.245068196354043,897.6133951693004,26.74855866551393,25.316496580927726,7.316496580927726,14.36813182138298,12.566496580927726,3.658248290463863,2.412457478565265,2.412457478565265,1.3291241452319316,1.3291241452319316,0.7270620726159658,0.7270620726159658,-1.31,2223830.510396445,2.1952410435943577,4.964460295417243,3.387630631562938,116.31789303366082,5.1088081911072125,0.0,0.0,0.0,1.4311996572326342,5.969305287951849,4.794537184071822,0.0,0.0,0.0,37.87345906524454,30.245677687382127,17.819861230212858,11.376991910043959,33.20624083007277,5.969305287951849,1.4311996572326342,0.0,5.893957685363079,32.82255893857949,0.0,35.29657781404717,0.0,0.0,0.0,0.0,0.0,0.0,11.078113479059063,11.167462085401201,5.893957685363079,60.8794324755379,24.16967483065318,0.0,1.4311996572326342,0.0,37.3,79.9823997259416,4.794537184071822,0.0,0.0,0.0,0.0,0.0,0.0,0.0,5.1088081911072125,24.734095112126372,138.26587939092965,0.0,12.01275738308409,3.548795264604924,-2.941406840513983,-9.813481434240366,-6.019232804232802,-3.914287485827666,-11.472356807137203,0.0,0.46153846153846156,15,1,2,0,0,0,1,0,1,2,1,2,7,0,0,0,1,3.073200000000001,61.03480000000004,1,0,0,0,0,0,0,0,1,1,1,0,0,0,0,0,0,0,0,0,0,0,0,0,0,0,0,0,0,0,0,0,0,0,1,0,0,0,0,0,0,0,0,0,0,0,0,0,0,0,0,0,0,0,0,0,0,0,0,0,0,0,0,0,0,0,0,0,0,0,0,0,0,0,0,0,0,0,0,0,0,0,0,0,0\n",
            "8.2970857478794,8.2970857478794,0.721963114013078,-4.334065636285379,0.8375057924076362,34.05263157894737,259.34900000000005,238.18099999999995,259.1572289120001,102,0,0.2106904069895591,-0.49019502312328916,0.49019502312328916,0.2106904069895591,1.4736842105263157,2.3157894736842106,3.1578947368421053,,,,,,,,,2.8237282233406273,2.907903542551817,1297.1992508469202,31.765066523458984,30.263710176427683,9.263710176427683,17.68528094221026,15.165047917159574,4.809586031195753,3.0595860311957526,3.0595860311957526,1.7931342650312896,1.7931342650312896,1.0929846104882537,1.0929846104882537,-1.5799999999999996,78407997.6856527,3.022464553890366,6.547124220490315,3.9447395719001546,143.40946889681234,15.155484498195637,19.80035718147838,0.0,1.4311996572326342,0.0,0.0,0.0,0.0,0.0,0.0,49.95829648057113,11.428642922128091,30.237803372662363,13.7075855617022,37.301925790469646,10.772448428929591,1.4311996572326342,5.309813353288376,0.0,25.80169472989099,13.055844927232233,42.29693095364306,0.0,5.749511833283905,10.046676307088426,0.0,5.749511833283905,0.0,31.693763270871717,0.0,0.0,39.74819680182555,42.29693095364306,1.4118420783282006,10.772448428929591,0.0,41.489999999999995,102.98624422626816,0.0,0.0,0.0,0.0,0.0,0.0,0.0,0.0,5.1088081911072125,33.62431725659506,169.88406056949572,0.0,0.0,1.2586582089664244,0.0,-1.23816192680776,-10.997723880576567,-4.281464947089949,-16.458701357321146,0.0,0.375,19,2,3,0,0,0,2,0,2,3,2,3,9,0,0,0,2,2.5775000000000006,78.58850000000005,0,1,0,0,0,0,0,0,0,0,0,0,0,0,0,0,1,0,0,0,0,0,0,0,0,0,0,0,0,0,0,0,0,0,2,0,1,0,0,0,0,1,0,0,0,0,0,0,0,0,0,0,0,0,0,0,0,0,0,0,0,0,0,0,0,0,0,0,0,0,0,0,0,0,0,0,0,0,0,0,0,0,0,0,0\n",
            "8.053660241874528,8.053660241874528,0.9982095616024182,-3.5538599537037046,0.6522740358347691,33.09090909090909,150.22100000000012,136.10899999999998,150.104465068,60,0,0.29310824760586435,-0.5076548360000178,0.5076548360000178,0.29310824760586435,1.7272727272727273,2.6363636363636362,3.272727272727273,,,,,,,,,2.3718703595271595,4.14300200380292,652.39609293602,20.171208396324303,19.408248290463863,5.408248290463863,10.924756148408916,9.612372435695795,2.7041241452319316,1.8291241452319316,1.8291241452319316,1.0280931089239487,1.0280931089239487,0.5650775907699572,0.5650775907699572,-0.9800000000000001,73774.65566273277,1.4129760170715355,2.9516118607817234,1.7320313091781339,87.44166258975598,5.1088081911072125,5.749511833283905,0.0,0.0,1.4311996572326342,0.0,0.0,0.0,0.0,0.0,25.78862164991795,29.915171493716045,13.7075855617022,4.1122756685106605,22.92866942132007,0.0,1.4311996572326342,0.0,0.0,26.449634037250117,0.0,29.254159106383874,0.0,5.749511833283905,0.0,0.0,5.749511833283905,0.0,6.5400078483398465,0.0,6.851892117295679,48.54450613356133,18.127256122989884,0.0,0.0,0.0,20.23,61.45330497691789,0.0,0.0,0.0,0.0,0.0,0.0,0.0,0.0,5.1088081911072125,19.251060887445494,104.93451719576716,0.0,0.0,4.073449074074073,-2.215339191232048,-4.665587207105064,-3.4503009259259247,0.0,-10.176738945578233,0.0,0.4,11,1,1,0,0,0,1,0,1,1,1,1,5,0,0,0,1,2.824020000000001,46.93280000000003,0,0,0,0,0,0,0,1,0,0,0,0,0,0,0,0,0,0,0,0,0,0,0,0,0,0,0,0,0,0,0,0,0,0,1,0,0,0,0,0,0,0,0,0,0,0,0,0,0,0,0,0,0,0,0,0,0,0,0,0,0,0,0,0,0,1,1,0,0,0,0,0,0,0,0,0,0,0,0,0,0,0,0,0,0\n",
            "13.264383818342147,13.264383818342147,0.16610571276133124,-4.5116335978836,0.7314900236053014,29.2,278.31199999999967,260.168,278.1378904360005,108,0,0.3319688564518087,-0.3278633112499939,0.3319688564518087,0.3278633112499939,1.45,2.3,3.0,,,,,,,,,3.0131306004983376,3.137046975933304,1402.693586036562,30.403259203893185,27.513599253391423,9.513599253391423,16.48593999732696,13.822047210945565,4.8220472109455645,3.293901878600314,3.293901878600314,2.097592389389735,2.097592389389735,1.3013274398666534,1.3013274398666534,-2.18,24163900.284006234,3.71870831011061,5.439070630183458,2.42918078649709,140.30465869319667,9.361636831863176,7.15400350253516,11.16387793838399,0.0,5.559266895052008,5.689743398203474,13.928736479654532,9.77851570501903,0.0,0.0,0.0,19.597741919954437,47.38281672876315,9.044888826306668,29.468191195135777,16.94712288474893,0.0,18.685277464321274,13.951653800564491,32.467526505599764,0.0,27.14145637536535,0.0,0.0,11.24901029325548,0.0,0.0,0.0,24.468522410686212,25.24305066895226,0.0,50.644320832347816,15.89244608210987,0.0,11.16387793838399,0.0,78.89,90.05288449371758,14.383611552215466,0.0,4.567099647791355,0.0,0.0,0.0,0.0,0.0,4.9839785209472085,24.673654011063956,136.37770539562118,0.0,41.801087210857446,0.0,-6.956221738727376,-2.4891640308812013,0.0,-14.583529043223763,-15.39987779364629,0.0,0.5384615384615384,20,0,7,0,0,0,0,2,2,7,0,7,8,0,0,0,2,0.19300000000000006,74.74700000000003,0,0,0,0,0,4,0,0,0,0,1,1,0,0,0,4,0,0,0,0,0,0,0,0,0,0,0,0,0,0,2,0,0,0,0,0,1,0,0,0,0,0,0,0,0,0,0,1,0,0,0,1,1,0,0,0,0,0,0,0,0,0,0,0,0,0,0,0,0,0,0,0,0,0,0,0,0,0,0,0,0,0,0,0,0\n",
            "12.502588458994705,12.502588458994705,0.5420937263794414,-3.6805196529560744,0.792432787473538,31.733333333333334,206.28900000000013,188.14499999999995,206.141913196,82,0,0.32081664002315324,-0.3306530434691106,0.3306530434691106,0.32081664002315324,1.5333333333333334,2.2,2.7333333333333334,,,,,,,,,2.549700470994205,3.940256357144279,867.7990862239831,26.696152422706632,25.30267548146378,7.30267548146378,14.330127018922195,12.519371729481785,3.572158133981827,2.328394579084993,2.328394579084993,1.260537437126271,1.260537437126271,0.6324469453337536,0.6324469453337536,-1.5099999999999998,1955722.2492713952,2.1222253855080186,4.823126730687161,3.273629291246834,116.4397993949907,10.209723084138854,0.0,1.4118420783282006,0.0,0.0,6.031114512338072,0.0,4.794537184071822,0.0,0.0,25.78862164991795,23.542246592386665,37.45890130546092,5.483034224680881,29.509274717293756,11.718500787021634,0.0,4.899909730850478,0.0,19.597741919954437,19.261467153852866,29.733126322350174,0.0,0.0,5.309813353288376,10.481923458755384,0.0,0.0,24.882678043753042,0.0,0.0,48.46408886654521,24.16967483065318,1.4118420783282006,0.0,0.0,32.34,85.21074591402959,4.794537184071822,0.0,0.0,0.0,0.0,0.0,0.0,0.0,0.0,24.71473753322194,136.1486373325348,0.0,11.814772061602415,-0.5420937263794414,-2.651591159611992,-3.654189106198034,-7.612424492945327,0.0,-14.586444242335753,0.0,0.4166666666666667,15,1,3,0,0,0,1,0,1,1,1,3,6,0,0,0,1,2.903500000000001,63.23670000000004,0,0,0,0,0,0,0,0,0,0,1,1,0,0,0,1,1,0,0,0,0,0,0,0,0,0,0,2,0,1,0,0,0,0,1,0,0,0,0,0,0,0,0,0,0,0,0,0,0,0,0,0,0,0,0,0,0,0,0,0,0,0,0,0,0,0,0,0,0,0,0,0,0,0,0,0,0,0,0,0,0,0,0,0,1\n",
            "11.518703703703704,11.518703703703704,0.023354119425547992,-0.9268518518518516,0.4597512677791772,16.545454545454547,151.12900000000005,146.089,151.04940978,56,0,0.27997631858079963,-0.36925164920285747,0.36925164920285747,0.27997631858079963,1.9090909090909092,2.8181818181818183,3.6363636363636362,,,,,,,,,2.4966027683420555,2.945104660592352,617.6774063815293,12.033015715890102,10.144316267963653,5.144316267963653,7.430428110326542,5.005439706981575,2.7165853249817427,1.8245797554083993,1.8245797554083993,1.139531724725469,1.139531724725469,0.7102247372157682,0.7102247372157682,-1.85,4176.816431436259,2.647957716563736,1.8152833600191707,0.7592026919690413,67.7396638419349,10.696720245955525,1.3707585561702202,16.811246251696794,5.948339280986494,5.559266895052007,0.0,9.771540454301075,4.9839785209472085,4.9839785209472085,0.0,0.0,0.0,0.0,6.303371713966227,7.018126869483023,17.112217219370486,0.0,19.921963582352923,0.0,0.0,5.719716975726273,16.657175793090055,0.0,0.0,11.27898387077828,5.948339280986494,0.0,0.0,19.921963582352923,0.0,0.0,1.3707585561702202,11.09790889803805,5.6473683133128025,11.16387793838399,0.0,100.44999999999999,17.81097789000473,4.794537184071822,0.0,21.860598184339516,4.977003270229252,0.0,0.0,0.0,0.0,9.967957041894417,7.018126869483023,35.66067082388511,0.0,19.25920068027211,0.0,-1.5070578231292506,-0.57787037037037,0.0,-0.5016099773242628,0.0,0.0,0.0,11,4,6,0,0,0,0,2,2,4,3,6,1,0,0,0,2,-0.7716000000000003,38.92179999999999,0,0,0,1,0,4,2,0,0,0,0,0,0,0,0,2,2,1,0,0,0,2,0,0,0,0,0,0,0,1,0,0,0,0,0,0,1,0,0,0,0,0,0,0,0,0,0,1,0,0,0,0,0,0,0,0,0,0,0,0,0,0,0,0,0,0,0,0,0,0,0,0,0,0,0,0,0,0,0,0,0,0,0,0,0\n",
            "11.553798343411438,11.553798343411438,0.12293745275888135,-3.045987260644999,0.34574784602989994,24.823529411764707,238.15900000000002,232.11099999999996,238.033819292,88,0,0.4330616376402305,-0.39959224840943924,0.4330616376402305,0.39959224840943924,1.8235294117647058,2.588235294117647,3.1176470588235294,,,,,,,,,2.8370701463971058,2.4884513827030443,760.3871202237592,17.687716254269354,13.830095834319149,7.830095834319148,10.495812251228752,6.92049933459767,3.9732857390977117,2.578388913084926,2.578388913084926,1.4789921388063798,1.4789921388063798,0.8524523910517602,0.8524523910517602,-2.71,89030.09826408757,5.56840568004393,4.040253449723967,2.2746039733648105,102.31872360337005,4.417150937053347,11.420170733133617,7.172089497202643,5.907179729351506,0.0,11.91529671419908,20.21866880612577,9.803449708026353,5.101407525739723,0.0,0.0,6.042418707663295,0.0,19.086863707251396,27.19517121319396,24.01312866228759,0.0,10.318725877242908,5.101407525739723,0.0,6.496859684315945,27.959403102966604,0.0,0.0,5.309813353288376,10.67871938593283,0.0,0.0,34.55802971751473,4.794537184071822,10.114318268765572,12.614040199725542,21.60339587811966,1.4118420783282006,0.0,0.0,118.05000000000001,53.27838422962224,19.703392636909214,0.0,10.318725877242908,0.0,0.0,0.0,0.0,0.0,9.51855846279307,8.265634859179302,48.65023237457288,0.0,32.42226314446169,13.318111713055796,0.0,-3.5307077244478027,-3.2971761358864526,-1.1000694444444445,-3.045987260644999,0.0,0.125,17,1,9,0,1,1,0,1,1,6,1,9,3,0,1,1,2,0.07349999999999995,53.20110000000001,0,0,0,0,0,0,0,0,0,0,2,2,0,0,0,3,1,0,0,0,0,0,0,0,0,0,0,3,0,0,0,0,0,0,0,0,0,0,0,0,0,0,1,0,0,0,1,0,1,0,0,0,0,0,0,0,0,0,1,0,0,0,0,0,0,0,0,0,0,0,0,0,0,0,0,0,0,0,0,0,0,0,0,0,1\n",
            "11.66910753653313,11.66910753653313,0.7197446617535905,-3.560093655517764,0.5125069246930146,26.214285714285715,197.19000000000005,186.10199999999995,197.068807832,76,0,0.32031552163797705,-0.5042598930844389,0.5042598930844389,0.32031552163797705,1.7857142857142858,2.642857142857143,3.2857142857142856,,,,,,,,,2.5502378060501267,3.9068742965558236,684.250868050857,19.740122497076648,17.580206757355413,6.580206757355411,11.426192233873428,8.40927544106921,3.290103378677705,2.169312566779107,2.169312566779107,1.1825416768695864,1.1825416768695864,0.6095103265154349,0.6095103265154349,-1.75,145715.48776209215,2.868106139438085,3.972117202268431,2.366714454376792,96.24114305703564,21.04614154904791,8.841576625006047,11.49902366656781,0.0,4.293598971697903,5.969305287951849,4.794537184071822,0.0,0.0,0.0,6.042418707663295,24.021213808352964,2.7415171123404405,5.483034224680881,31.169197251071175,5.969305287951849,4.293598971697903,0.0,5.719716975726273,12.390817369679024,0.0,23.69070761468688,0.0,11.49902366656781,5.719716975726273,0.0,11.49902366656781,0.0,30.176021644088404,11.167462085401201,0.0,13.788002828718314,18.127256122989884,2.8236841566564013,1.4311996572326342,0.0,103.78000000000002,59.26957091461183,4.794537184071822,0.0,0.0,0.0,0.0,0.0,0.0,0.0,15.326424573321638,15.341834465375623,81.41581481743931,0.0,11.66910753653313,11.529958112874779,-1.8813650321239603,-3.7946580792810947,-6.764687854308391,-3.5075028344671217,0.0,0.0,0.2222222222222222,14,5,5,0,0,0,1,0,1,5,4,5,6,0,0,0,1,0.052200000000000135,49.08680000000002,1,0,0,0,0,0,0,2,1,1,1,0,0,0,0,0,0,1,0,0,0,0,0,0,0,0,0,0,0,0,0,0,0,0,1,0,0,0,0,0,0,0,0,0,0,0,0,0,0,0,0,0,0,0,0,0,0,0,0,0,0,0,0,0,0,2,2,0,0,0,0,0,0,0,0,0,0,0,0,0,0,0,0,0,0\n",
            "13.195044307852971,13.195044307852971,0.08425240929705202,-3.65205537528883,0.94038427563492,29.428571428571427,281.3109999999997,266.191,281.1051933400004,106,0,0.3101853697099849,-0.480788501877823,0.480788501877823,0.3101853697099849,1.4285714285714286,2.1904761904761907,2.9047619047619047,,,,,,,,,2.9888158064522035,2.4214676481213537,1309.296645180491,27.86736081903094,25.171958466891546,10.171958466891548,16.29355830192592,12.941441119409596,5.533192828945732,3.8884304362236857,3.8884304362236857,2.6175971028903517,2.6175971028903517,1.6333451897347697,1.6333451897347697,-2.619999999999999,28511673.888939504,4.43536529662126,5.052450041410947,2.2889723063382372,143.34571612714612,10.00871792195769,0.0,0.0,0.0,7.33837938658414,5.969305287951849,9.589074368143644,0.0,0.0,0.0,30.212093538316473,36.10605122367956,16.733871991061438,26.09840293138122,33.88850234563394,17.563871291986917,1.4311996572326342,0.0,0.0,19.242709486974704,4.899909730850478,65.02970413639734,0.0,0.0,4.899909730850478,5.687386274683562,0.0,0.0,16.985293208410567,11.291396868387768,0.0,53.42136124820469,48.33934966130636,0.0,1.4311996572326342,0.0,57.61,101.83628491535899,9.589074368143644,0.0,4.899909730850478,0.0,0.0,0.0,0.0,0.0,5.1088081911072125,20.621819443615713,119.01886331984358,0.0,25.42296412940912,3.6299753090965696,-3.992575711375765,-7.068298120154858,-8.66143913794957,0.0,-6.766156455535745,0.0,0.17647058823529413,21,1,4,0,1,1,2,0,2,3,1,4,4,0,0,0,3,3.0351000000000017,79.44830000000003,1,0,0,0,0,0,0,0,1,1,2,1,0,0,0,1,0,0,0,0,0,0,0,0,0,0,0,1,0,1,0,0,0,0,2,0,1,0,0,0,0,0,0,0,0,0,0,0,0,0,0,0,0,0,0,0,0,0,0,0,0,0,0,0,0,0,0,0,0,0,0,0,0,0,0,0,0,0,0,0,0,0,0,0,0\n",
            "13.337381975938522,13.337381975938522,0.3696586431649802,-4.569311106387,0.7558132464087878,31.3,299.80199999999957,277.626,299.1400546240006,112,0,0.2546465849307497,-0.4958418391220392,0.4958418391220392,0.2546465849307497,1.7,2.5,3.15,,,,,,,,,2.7291458385616925,4.090108276862454,1164.9964289603915,33.98060947308281,31.536101840436828,10.292030786455282,18.207954103763768,15.484636245200155,5.020959931709509,2.918355007510889,3.2963194805201166,1.7604300248533138,2.033927686830779,0.9432841159761232,1.0850207933545832,-1.4600000000000002,84564906.31094265,3.4705748809425008,7.968039579443504,4.28252067886105,155.66238104233307,20.66630301366518,5.749511833283905,4.235526234984602,0.0,5.907179729351506,0.0,4.794537184071822,0.0,0.0,0.0,25.304724124823874,19.036138076295185,35.48524075033783,32.90673343219601,39.81133894009066,23.195505894267583,0.0,10.209723084138854,0.0,13.703784234591359,38.74510817187264,22.67092222076491,0.0,5.749511833283905,15.766393282814697,5.687386274683562,5.749511833283905,11.600939890232516,43.832480656348345,0.0,0.0,50.106185477594394,12.08483741532659,9.258159548725928,0.0,0.0,67.59,96.95389857296045,4.794537184071822,0.0,5.719716975726273,0.0,0.0,0.0,0.0,0.0,4.736862953800049,41.880878692451304,173.78115540137603,5.847742422528903,12.177982860048756,-2.1233101157767464,-2.9105180863262348,-3.7125591301335366,-2.672157038805216,0.0,-25.8328111224639,-3.527747412670302,0.5,20,3,5,0,0,0,1,0,1,4,2,6,11,0,0,0,1,2.0023999999999997,82.53760000000004,0,0,0,1,0,0,0,0,0,0,1,1,0,0,0,1,1,1,0,1,0,0,0,0,0,0,0,1,0,1,0,0,0,0,1,0,0,0,0,0,0,1,0,0,1,0,0,0,0,0,0,0,0,0,0,1,0,0,0,0,0,0,0,0,0,0,0,0,0,0,0,0,0,0,0,0,0,0,0,0,0,0,0,0,0\n",
            "10.909075018896448,10.909075018896448,0.18365740740740755,-3.465092592592593,0.5158680082581498,24.5,171.15600000000006,162.08399999999997,171.064391148,66,0,0.3424297029647619,-0.39228693465174963,0.39228693465174963,0.3424297029647619,2.25,3.0833333333333335,3.6666666666666665,,,,,,,,,2.6642597935599754,3.78664182061857,565.8097121407661,16.800964908321227,14.566385657891463,5.5663856578914634,9.269891162799384,7.069161593865779,2.660913303401916,1.6772058464509094,1.6772058464509094,1.0157938929690224,1.0157938929690224,0.5772821122479104,0.5772821122479104,-1.43,18886.937676546666,2.527651594096791,3.310964147709046,1.42412717427458,81.34362358557625,15.223126459872784,12.669754895130705,5.824404497999927,1.4311996572326342,0.0,5.817862777835028,0.0,9.551078168738563,0.0,0.0,0.0,4.923311048817671,10.964167785806339,13.412778023767387,20.99818768928664,5.817862777835028,1.4311996572326342,9.551078168738563,0.0,13.348751801611623,6.558985242916289,22.11161797758026,0.0,0.0,0.0,5.817862777835028,0.0,0.0,27.57338230881237,6.496859684315945,16.966210386061253,16.790472947361685,6.172895210814761,0.0,0.0,0.0,81.19,42.6462105799953,10.114318268765572,0.0,4.567099647791355,0.0,0.0,0.0,0.0,0.0,10.092786712054421,12.397268106594394,64.73456490929706,0.0,12.766802721088435,14.469833711262284,0.0,-2.544282407407407,0.0,-1.1427957294028717,-10.034123204837492,0.0,0.5,12,1,6,0,0,0,0,1,1,5,1,6,5,0,0,0,1,0.09201999999999994,40.704200000000014,0,1,0,0,0,2,0,0,0,0,0,0,0,0,0,3,0,0,0,0,0,0,0,0,0,0,0,0,0,0,1,0,0,0,0,0,0,0,0,0,0,0,0,0,0,0,0,1,0,0,0,0,0,0,0,0,0,0,1,0,0,0,0,0,0,0,0,0,0,0,0,0,0,0,0,0,0,0,0,0,0,0,0,0,0\n",
            "8.89964805366591,8.89964805366591,0.8689856722328761,-3.4831606670445963,0.6824184549395481,25.36,339.3909999999997,318.22300000000007,339.14705815200057,130,0,0.16092111982774784,-0.4928699753745373,0.4928699753745373,0.16092111982774784,0.88,1.56,2.32,,,,,,,,,2.835964996345139,2.5930995594577015,1689.8682116135517,35.695787943777134,33.08020675735541,12.08020675735541,20.48250545867328,16.83020675735541,6.33020675735541,4.296958466891548,4.296958466891548,2.9161418103235226,2.9161418103235226,1.8689892246028856,1.8689892246028856,-2.9499999999999997,1172665703.7525775,4.814189746009182,7.298718628776461,3.3086838848277416,176.17308183177724,18.947451815200196,0.0,22.99804733313562,0.0,0.0,0.0,4.9839785209472085,0.0,0.0,0.0,6.042418707663295,41.161769244478265,20.673561438949374,59.890150397613056,47.73338149477485,10.772448428929591,0.0,4.9839785209472085,0.0,6.372924901329379,28.151809835530354,53.68478694333999,0.0,22.99804733313562,18.947451815200196,0.0,22.99804733313562,0.0,33.13578835647756,6.372924901329379,0.0,40.04330916612009,42.42740745679453,0.0,10.772448428929591,0.0,49.81,121.98001744226492,0.0,0.0,0.0,0.0,0.0,0.0,0.0,0.0,14.457704428547306,38.25965558717473,184.24346965903325,0.0,3.6423565444696395,-1.8138187667361092,-2.406333511799782,-4.970736301498666,-7.253258724684141,-4.585867089151496,0.0,-13.605811809632716,0.25,25,0,5,0,0,0,2,1,3,5,0,5,10,0,0,0,3,3.860000000000003,97.19900000000005,0,0,0,0,0,1,0,0,0,0,0,0,0,0,0,1,0,0,0,0,0,0,0,0,0,0,0,0,0,0,0,0,0,0,2,0,1,0,0,0,0,4,0,0,0,0,0,0,0,0,0,0,0,0,0,4,0,0,0,0,0,0,0,0,0,0,0,0,0,0,0,0,0,1,0,0,0,0,0,0,0,0,0,0,0\n",
            "12.64799319727891,12.64799319727891,0.032037037037036864,-3.4979308390022696,0.849523695002097,23.058823529411764,232.23900000000006,220.14299999999994,232.084792244,88,0,0.340724876931317,-0.477497012873671,0.477497012873671,0.340724876931317,1.7647058823529411,2.6470588235294117,3.3529411764705883,,,,,,,,,2.5456722332503,3.2949199255895683,1069.4313839088102,22.687716254269354,20.119172062391506,8.119172062391506,12.979286601049226,10.138654714909553,4.23040642444569,2.9596156125470916,2.9596156125470916,1.9526754814637794,1.9526754814637794,1.2472407810879926,1.2472407810879926,-2.17,757169.4750245698,3.6623436954694784,4.008920169778624,1.79576665863494,114.28569776973144,9.675907838898567,11.210628712464723,0.0,5.428790391900541,1.4311996572326342,5.969305287951849,4.794537184071822,9.77851570501903,0.0,0.0,0.0,25.78862164991795,29.329751339340923,9.498499882975455,24.98168949305145,17.00270672318437,1.4311996572326342,9.551078168738563,0.0,20.200643918907303,0.0,39.73843968865916,0.0,0.0,5.428790391900541,0.0,0.0,0.0,20.629191647797622,6.496859684315945,6.851892117295679,37.98215290578539,23.052269810213172,0.0,12.464601092465157,0.0,72.19,72.14725314667902,9.589074368143644,0.0,4.567099647791355,0.0,0.0,0.0,0.0,0.0,10.092786712054421,16.509543775105055,90.60038475266649,0.0,27.991930114638443,2.6791196617535906,-4.769089952338959,-1.73349966143865,-2.0983668745275885,-1.3453727324263036,-10.075105308327036,0.0,0.25,17,1,5,0,0,0,0,2,2,5,1,5,4,0,0,0,2,1.4230200000000002,63.37330000000001,0,0,0,0,1,2,0,0,1,1,1,0,0,0,0,2,0,0,0,0,0,0,0,0,0,0,0,0,0,0,2,0,0,0,0,0,1,0,0,0,0,0,0,0,0,0,0,0,0,0,0,0,0,0,0,0,0,0,0,0,0,0,0,0,0,0,0,0,0,0,0,0,0,2,0,0,0,0,0,0,0,0,0,0,0\n",
            "7.751666666666666,7.751666666666666,0.21365740740740713,-0.5439531368102795,0.6020160700037418,20.0,144.17300000000006,136.10899999999998,144.057514876,54,0,0.2931261484259259,-0.5073115174760925,0.5073115174760925,0.2931261484259259,1.0909090909090908,1.9090909090909092,2.8181818181818183,,,,,,,,,2.3953373343265816,3.2063943778027792,688.2098475486209,14.480609473082806,13.408248290463863,5.408248290463863,8.82347362264446,6.862372435695795,2.9541241452319316,1.9541241452319316,1.9541241452319316,1.2780931089239487,1.2780931089239487,0.7895620726159658,0.7895620726159658,-1.5,15011.579074224686,2.0054784514243975,2.274078478002378,0.9444444444444444,76.23373566289789,5.1088081911072125,5.749511833283905,0.0,0.0,1.4311996572326342,0.0,0.0,0.0,0.0,0.0,36.25451224597977,11.428642922128091,5.386224214464796,9.59530989319154,14.704118084298752,10.772448428929591,1.4311996572326342,0.0,0.0,0.0,0.0,42.29693095364306,0.0,5.749511833283905,0.0,0.0,5.749511833283905,0.0,6.5400078483398465,0.0,0.0,9.59530989319154,42.29693095364306,0.0,10.772448428929591,0.0,20.23,48.04644278692697,0.0,0.0,10.772448428929591,0.0,0.0,0.0,0.0,0.0,5.1088081911072125,11.026509550424175,60.39468348450491,0.0,0.0,3.8066562736205602,0.0,-0.4416666666666662,-3.5930064247921365,0.0,0.0,0.0,0.0,11,1,1,0,0,0,2,0,2,1,1,1,1,0,0,0,2,2.5454000000000008,45.61280000000003,0,0,0,0,0,0,0,1,0,0,0,0,0,0,0,0,0,0,0,0,0,0,0,0,0,0,0,0,0,0,0,0,0,0,2,0,1,0,0,0,0,0,0,0,0,0,0,0,0,0,0,0,0,0,0,0,0,0,0,0,0,0,0,0,0,1,1,0,0,0,0,0,0,0,0,0,0,0,0,0,0,0,0,0,0\n",
            "13.246734987995811,13.246734987995811,0.16750000000000043,-5.281917661354667,0.9034245288795607,17.25,282.2209999999998,273.14899999999994,282.06161218800025,104,0,0.4159855115665516,-0.4775405370390114,0.4775405370390114,0.4159855115665516,1.4,2.2,2.9,,,,,,,,,2.6186291468603313,2.9209041058456107,1016.7352935638621,22.419767061838236,18.344817190955325,9.344817190955323,13.250012543212916,9.225084076941442,4.86962219097762,3.2928403397328267,3.2928403397328267,1.945917893238789,1.945917893238789,1.1437684021039294,1.1437684021039294,-2.569999999999999,1065268.8114593702,6.253467523935582,5.198975853293884,3.0549541102261673,124.22971517180311,10.418621544395588,11.381314269532023,1.4118420783282006,0.0,1.4311996572326342,12.145603805395325,0.0,9.77851570501903,13.171245143024459,0.0,6.042418707663295,30.212093538316473,11.860281485498323,15.158761384888534,34.08174248972323,17.47455434047044,1.4311996572326342,4.9839785209472085,0.0,6.176298517443475,5.309813353288376,53.554310440188516,0.0,0.0,5.309813353288376,24.67649419554305,0.0,0.0,16.06209200000627,6.176298517443475,0.0,25.51675006065735,42.42740745679453,1.4118420783282006,1.4311996572326342,0.0,62.22,77.20516329810243,17.96578232709628,0.0,5.309813353288376,0.0,0.0,0.0,0.0,0.0,10.092786712054421,12.438351628752375,107.496972526665,0.0,15.16882469345763,3.508194024523389,-4.156574887671118,-2.6795650011547827,-7.348614536092215,-6.239236819727894,0.0,0.0,0.07692307692307693,20,2,4,0,0,0,1,1,2,4,2,7,3,0,0,0,2,3.542200000000001,65.923,0,0,0,0,1,1,0,0,1,1,1,0,0,0,0,1,1,0,0,0,0,0,0,0,0,3,0,0,0,2,0,0,0,0,1,0,0,0,0,0,0,0,0,0,3,0,0,0,0,0,0,0,0,0,0,0,0,0,0,0,0,0,0,0,0,0,0,0,0,0,0,0,0,1,0,0,0,0,0,0,0,0,0,0,0\n",
            "14.795421705719317,14.795421705719317,1.0608683993885086,-5.198433130196525,0.26155458511612795,55.90909090909091,460.43899999999985,436.2470000000003,460.1481803480006,176,0,0.29312943315019974,-0.509648748334625,0.509648748334625,0.29312943315019974,1.303030303030303,2.1818181818181817,2.787878787878788,,,,,,,,,3.0862537365064995,2.6644603374541003,1990.0439071546966,44.40289472496367,39.568661805174685,15.568661805174685,25.789582293899535,19.825461431870394,8.481544498087299,6.951286865870815,6.951286865870815,5.265085336584999,5.265085336584999,3.8833911511622925,3.8833911511622925,-3.25,265399255572.8215,7.635384928875003,6.874357158105145,2.6118528069827414,221.57889742267758,36.37256612236955,22.840946106665523,14.20797991400503,10.076843918062842,10.200778701049408,0.0,19.28352128306594,0.0,0.0,0.0,12.08483741532659,32.40941611722046,15.078344117872419,47.47722547962685,69.79228175423869,17.473669622081385,8.587197943395806,4.899909730850478,17.507632346452432,30.151904234562693,13.951653800564491,51.91869790983476,0.0,5.749511833283905,5.719716975726273,0.0,5.749511833283905,0.0,90.40184223535351,15.190125179127332,11.787915370726157,44.70546918348504,40.79179492644077,2.8236841566564013,2.8623993144652684,0.0,201.84999999999997,141.6529794776302,19.866645776896345,0.0,0.0,0.0,0.0,0.0,0.0,0.0,30.652849146643273,27.859984774094848,200.96879402682578,0.0,41.77079058644058,26.43397747531315,-18.34264590363197,-23.69076451866202,-9.545196554675067,-5.149207294028723,-13.529081150915125,0.0,0.4090909090909091,33,8,11,3,0,3,1,0,1,10,7,11,11,0,0,0,4,-1.2435999999999974,110.9307,0,5,2,0,0,0,0,1,0,0,3,3,0,0,0,1,0,1,0,1,0,0,0,0,0,0,0,1,0,0,0,0,0,0,1,0,3,0,0,0,0,0,0,0,0,0,0,0,0,0,0,2,2,0,0,0,0,0,0,0,0,0,0,0,0,1,1,0,0,0,0,1,0,0,0,0,0,0,0,0,0,0,0,0,0\n",
            "12.880175264550264,12.880175264550264,0.6540721844293276,-3.9846324640967516,0.7368838068366227,31.41176470588235,232.2390000000001,220.14299999999997,232.084792244,88,0,0.32765101857785744,-0.27652301806617985,0.32765101857785744,0.27652301806617985,1.2941176470588236,1.8823529411764706,2.411764705882353,,,,,,,,,2.6273536374079276,3.18992502861503,890.0290666719791,22.850852961085884,20.119172062391506,8.119172062391506,12.972861429014031,10.151226817695628,4.256799626695711,2.991486112402001,2.991486112402001,2.098473999182911,2.098473999182911,1.2787163604711604,1.2787163604711604,-2.17,840227.6932430553,3.6623436954694784,4.008920169778624,1.5954555917347284,115.17527458618518,0.0,0.0,8.23867462605318,11.814359458703011,0.0,6.031114512338072,20.208701074720395,4.794537184071822,0.0,0.0,37.06398565561216,11.936376393026375,6.853792780851101,6.853792780851101,30.91488127057406,17.845473971041084,0.0,10.619626706576751,0.0,18.639807488021837,0.0,35.77554503001347,0.0,0.0,10.619626706576751,4.794537184071822,0.0,0.0,17.845473971041084,15.004064837540422,0.0,32.49585407202425,30.212093538316473,2.8236841566564013,0.0,0.0,75.27000000000001,82.88045319565315,14.383611552215466,0.0,0.0,0.0,0.0,0.0,0.0,0.0,0.0,16.5312697183586,92.37138417789956,0.0,37.5341416813639,-1.3081443688586551,-5.189837962962963,-4.2024896069538915,-7.654235586209791,-3.9846324640967516,-3.8161858701814078,0.0,0.25,17,2,5,0,1,1,1,0,1,3,2,5,3,0,1,1,2,0.7004,60.092400000000026,0,0,0,0,0,0,0,0,0,0,3,3,0,0,0,0,2,0,0,0,0,0,0,0,0,0,0,4,0,0,0,0,0,1,1,0,0,0,0,0,0,0,0,0,0,0,0,0,2,0,0,0,0,0,0,0,0,0,0,0,0,0,0,0,0,0,0,0,0,0,0,0,0,0,0,0,0,0,0,0,0,0,0,0,1\n",
            "11.264595616024186,11.264595616024186,0.7621012849584277,-1.4422222222222219,0.688908808436835,15.666666666666666,166.13200000000003,160.08399999999997,166.026608672,62,0,0.33606691885784895,-0.47762033859383274,0.47762033859383274,0.33606691885784895,1.1666666666666667,1.5833333333333333,1.9166666666666667,,,,,,,,,2.3790582674346856,3.753168586957784,482.053849939974,14.033015715890103,11.632993161855453,5.6329931618554525,8.361478425105243,5.6329931618554525,2.8164965809277263,1.8249149571305299,1.8249149571305299,1.0957482904638631,1.0957482904638631,0.6186862178478973,0.6186862178478973,-1.8399999999999999,7520.203183361041,3.2643892755612196,3.0419304797471987,1.420632141751023,76.67596257003107,10.217616382214425,0.0,0.0,0.0,2.8623993144652684,11.938610575903699,0.0,9.589074368143644,0.0,0.0,12.08483741532659,12.08483741532659,0.0,16.60993720807487,25.289724975038947,11.938610575903699,2.8623993144652684,0.0,0.0,0.0,0.0,35.29657781404717,0.0,0.0,0.0,0.0,0.0,0.0,22.156226958118122,0.0,0.0,26.199011576218513,24.16967483065318,0.0,2.8623993144652684,0.0,74.6,47.23518838995087,9.589074368143644,0.0,0.0,0.0,0.0,0.0,0.0,0.0,10.217616382214425,8.34543353914615,42.37746031746032,0.0,22.529191232048372,7.192921390778534,-1.6791666666666663,-2.8844444444444437,-3.202628495842781,0.0,0.0,0.0,0.0,12,2,4,0,0,0,1,0,1,4,2,4,2,0,0,0,1,1.083,40.360600000000005,0,0,0,0,2,0,0,0,2,2,2,0,0,0,0,0,0,0,0,0,0,0,0,0,0,0,0,0,0,0,0,0,0,0,1,0,0,0,0,0,0,0,0,0,0,0,0,0,0,0,0,0,0,0,0,0,0,0,0,0,0,0,0,0,0,0,0,0,0,0,0,0,0,0,0,0,0,0,0,0,0,0,0,0,0\n",
            "13.156878306878303,13.156878306878303,0.20420823885109618,-3.097453703703703,0.8001945345367882,26.736842105263158,252.27300000000005,240.17699999999994,252.089877624,94,0,0.3224087250655885,-0.31568219910677586,0.3224087250655885,0.31568219910677586,0.8947368421052632,1.368421052631579,1.736842105263158,,,,,,,,,2.8990243611491606,2.680102533305212,1056.051290767042,23.73760430703402,21.210923771927643,9.210923771927643,14.237604307034015,10.947102672463696,5.05267548146378,3.5217437446184863,3.5217437446184863,2.4936532528259683,2.4936532528259683,1.69652914916103,1.69652914916103,-2.619999999999999,4224748.201502671,4.198083082794588,4.2423570760462965,1.688635569813371,126.97602034901563,5.309813353288376,0.0,8.362609409039747,0.0,5.907179729351506,6.031114512338072,10.104350537360197,4.794537184071822,0.0,0.0,60.42418707663295,11.126902983393991,0.0,13.7075855617022,26.12034408650224,11.938294241689578,0.0,10.619626706576751,0.0,5.538925252383345,0.0,71.55109006002695,0.0,0.0,10.619626706576751,4.794537184071822,0.0,0.0,11.938294241689578,10.333462436455168,0.0,24.83448854509619,60.42418707663295,2.8236841566564013,0.0,0.0,58.2,89.02830955409988,9.589074368143644,0.0,10.619626706576751,0.0,0.0,0.0,0.0,0.0,0.0,16.5312697183586,95.5534819328966,0.0,25.502979182413704,-0.5291581632653064,-5.069434051398336,-1.6346655328798183,-11.239870034433526,0.0,0.0,0.0,0.06666666666666667,19,2,4,0,1,1,2,0,2,2,2,4,2,0,1,1,3,1.7696,70.33840000000004,0,0,0,0,0,0,0,0,0,0,2,2,0,0,0,0,2,0,0,0,0,0,0,0,0,0,0,3,0,0,0,0,0,0,2,0,0,0,0,0,0,0,0,0,0,0,0,0,1,0,0,0,0,0,0,0,0,0,0,0,0,0,0,0,0,0,0,0,0,0,0,0,0,0,0,0,0,0,0,0,0,0,0,0,1\n",
            "8.25072515117158,8.25072515117158,0.1952000319756002,-4.2966299366969025,0.7315916457547719,34.72222222222222,248.32600000000016,228.16599999999997,248.15247788,98,0,0.21069040698967487,-0.4901351406236708,0.4901351406236708,0.21069040698967487,1.7777777777777777,2.7222222222222223,3.5555555555555554,,,,,,,,,3.003159165265552,2.828867355039259,1219.7346020934922,30.187716254269354,28.710923771927643,8.710923771927643,16.774597339687297,14.309475108159491,4.506799626695711,2.881799626695711,2.881799626695711,1.6844461610937533,1.6844461610937533,1.0227502124698655,1.0227502124698655,-1.52,35291180.463061675,2.81125315358515,5.887242090843924,3.2439068615073854,135.2717154498972,20.132487768424888,19.80035718147838,1.4118420783282006,1.4311996572326342,0.0,0.0,0.0,0.0,0.0,0.0,19.746202942254655,18.127256122989884,41.927399301093416,10.96606844936176,35.9722507564574,10.902924932081056,1.4311996572326342,10.286816623517627,0.0,25.80169472989099,13.055844927232233,30.34257004146794,0.0,5.749511833283905,10.046676307088426,0.0,5.749511833283905,0.0,36.67076654110097,0.0,0.0,37.006679689485104,30.34257004146794,2.8236841566564013,10.902924932081056,0.0,57.279999999999994,91.16235981724449,0.0,0.0,4.977003270229252,0.0,0.0,0.0,0.0,0.0,5.1088081911072125,32.29464222258282,160.84311220509656,0.0,0.1952000319756002,2.0814203698454694,-0.6719631140130777,-1.1664026675485009,-8.004723846596592,-5.124537973183356,-16.31877167224278,0.0,0.42857142857142855,18,3,4,0,0,0,1,1,2,3,3,4,9,0,0,0,2,1.9055999999999995,72.93920000000004,0,1,0,0,0,1,1,0,0,0,0,0,0,0,0,0,2,0,0,0,0,1,0,0,0,0,0,0,0,0,0,0,0,0,1,0,1,0,0,0,0,1,0,0,0,0,0,0,0,0,0,0,0,0,0,0,0,0,0,0,0,0,0,0,0,0,0,0,0,0,0,0,0,0,0,0,0,0,0,0,0,0,0,0,0\n",
            "13.866029248412453,13.866029248412453,2.287935121611393,-5.600526738473172,0.7013194281770768,100.6086956521739,314.4689999999994,284.229,314.22458020000084,126,0,0.15519729043717378,-0.29969370556608593,0.29969370556608593,0.15519729043717378,1.2608695652173914,2.1739130434782608,2.9565217391304346,,,,,,,,,3.008421443107615,2.686193823136046,1727.051146497781,42.809401076758505,41.316496580927726,11.316496580927726,22.59209314720961,21.408248290463863,6.408248290463863,5.158248290463863,5.158248290463863,3.8291241452319316,3.8291241452319316,2.6786086270779395,2.6786086270779395,-0.9200000000000002,11375217712.583988,3.2340923639689065,5.036596433775879,2.056976312427387,181.79732487458236,0.0,5.783244946364939,5.783244946364939,0.0,0.0,0.0,9.589074368143644,0.0,0.0,0.0,19.276888764660626,86.0262921675197,52.018880715628875,1.3707585561702202,50.71183105325028,11.566489892729878,0.0,0.0,34.405811680245876,71.53907556252206,0.0,11.625176276104835,0.0,0.0,0.0,0.0,0.0,0.0,11.566489892729878,9.589074368143644,34.405811680245876,112.66183224762854,11.625176276104835,0.0,0.0,0.0,34.14,129.13655341160268,16.442867148994743,0.0,0.0,0.0,0.0,0.0,0.0,0.0,0.0,34.2689639042555,262.83208690669494,0.0,27.109093096629792,0.0,-13.108071525678175,-27.4573031526788,-2.287935121611393,-40.643388618890086,-14.527814917799589,0.0,0.8095238095238095,23,0,2,4,0,4,0,0,0,2,0,2,4,3,0,3,4,4.723500000000005,90.88100000000006,0,0,0,0,0,0,0,0,0,0,2,2,0,0,0,0,0,0,0,0,0,0,0,0,0,0,1,0,0,0,0,0,0,0,0,0,5,0,0,0,0,0,0,0,0,0,0,0,0,0,0,2,1,0,0,0,0,0,0,0,0,0,0,0,0,0,0,0,0,0,0,0,0,0,0,0,0,0,0,0,0,0,0,0,0\n",
            "11.658423306841867,11.658423306841867,0.3234843868102799,-3.353018313807004,0.770678866809672,26.923076923076923,179.2190000000001,166.11499999999998,179.094628656,70,0,0.22074743631883423,-0.4938874337901201,0.4938874337901201,0.22074743631883423,1.7692307692307692,2.5384615384615383,3.1538461538461537,,,,,,,,,2.463717253979722,3.5499028233837158,694.1007603199397,20.825908934703556,19.263710176427686,6.263710176427685,11.431245097456372,9.506799626695711,3.0595860311957526,1.798811051497315,1.798811051497315,0.9553072251861522,0.9553072251861522,0.5539417536951968,0.5539417536951968,-1.5100000000000002,134198.67882427547,2.1081108079713875,4.499571342364573,3.15128754635011,96.03877422466195,10.046676307088426,5.749511833283905,1.4118420783282006,5.907179729351506,0.0,0.0,4.794537184071822,0.0,0.0,0.0,0.0,31.02156694794886,20.76382972900056,14.783536579937607,27.392344890242704,11.594566004035068,0.0,0.0,0.0,13.703784234591359,11.868798596204664,24.16967483065318,0.0,5.749511833283905,10.046676307088426,5.687386274683562,5.749511833283905,0.0,12.466164972267794,4.794537184071822,0.0,30.152886908633995,24.16967483065318,1.4118420783282006,0.0,0.0,38.33,61.776522145479795,4.794537184071822,0.0,5.309813353288376,0.0,0.0,0.0,0.0,0.0,4.736862953800049,17.86094475237084,99.67208582184277,0.0,11.658423306841867,-0.3234843868102799,-0.9972963907785333,-2.84315054957168,-4.306187641723354,0.0,-9.94372349313412,0.0,0.3,13,1,3,0,0,0,1,0,1,2,1,3,5,0,0,0,1,2.0437,51.914700000000025,0,0,0,0,0,0,0,0,0,0,1,1,0,0,0,0,1,0,0,0,0,0,0,0,0,0,0,1,0,1,0,0,0,0,1,0,0,0,0,0,0,1,0,0,0,0,0,0,0,0,0,0,0,0,0,0,0,0,0,0,0,0,0,0,0,0,0,0,0,0,0,0,0,0,0,0,0,0,0,0,0,0,0,0,0\n",
            "8.238832199546486,8.238832199546486,0.0740740740740744,-0.5045781893004115,0.3658985689510571,20.5,202.25600000000006,192.17599999999996,202.07825032,74,0,0.06294657574988084,-0.06103258638098143,0.06294657574988084,0.06103258638098143,0.5,0.8125,1.125,,,,,,,,,2.597520845767481,2.626195130990261,1084.8632448825006,19.237604307034015,18.0,8.0,12.106836025229592,9.75,4.75,3.5,3.5,2.625,2.625,1.9375,1.9375,-2.079999999999999,608297.8217452118,3.2063738025165103,2.732404740131078,0.8919499118477439,107.50512659651625,0.0,0.0,0.0,0.0,0.0,0.0,0.0,0.0,0.0,0.0,60.42418707663295,32.31734528678877,0.0,13.7075855617022,13.7075855617022,32.31734528678877,0.0,0.0,0.0,0.0,0.0,60.42418707663295,0.0,0.0,0.0,0.0,0.0,0.0,0.0,0.0,0.0,13.7075855617022,60.42418707663295,0.0,32.31734528678877,0.0,0.0,60.42418707663295,0.0,0.0,32.31734528678877,0.0,0.0,0.0,0.0,0.0,0.0,13.7075855617022,81.38717981019568,0.0,0.0,-0.2647014361300055,0.0,0.0,-4.455811707399006,0.0,0.0,0.0,0.0,16,0,0,0,0,0,4,0,4,0,0,0,0,0,0,0,4,4.584000000000002,70.14600000000003,0,0,0,0,0,0,0,0,0,0,0,0,0,0,0,0,0,0,0,0,0,0,0,0,0,0,0,0,0,0,0,0,0,0,4,0,0,0,0,0,0,0,0,0,0,0,0,0,0,0,0,0,0,0,0,0,0,0,0,0,0,0,0,0,0,0,0,0,0,0,0,0,0,0,0,0,0,0,0,0,0,0,0,0,0\n",
            "11.012668178382464,11.012668178382464,0.2588170823885112,-1.156481481481481,0.5507568071868295,16.22222222222222,123.11499999999998,118.075,123.04326178,46,0,0.26840075469440844,-0.36420935692148526,0.36420935692148526,0.26840075469440844,1.8888888888888888,2.7777777777777777,3.5555555555555554,,,,,,,,,2.097163755540043,3.2243704024842073,381.87501464849447,10.878315177510851,9.249889076963736,4.249889076963737,6.430428110326542,4.466585324981742,2.0721581339818265,1.2127763565334093,1.2127763565334093,0.63798647882921,0.63798647882921,0.3074469453337534,0.3074469453337534,-1.45,1021.318748948001,2.056563387882732,2.212180313039664,1.2183138294288087,58.87801975815882,5.719716975726273,5.693927994848461,2.8236841566564013,0.0,5.907179729351506,0.0,9.77851570501903,4.9839785209472085,0.0,0.0,0.0,0.0,12.345790421629522,10.28517087932542,11.730497009238883,5.907179729351506,0.0,9.967957041894417,5.719716975726273,0.0,0.0,24.212613627292743,0.0,0.0,5.719716975726273,0.0,0.0,0.0,15.875136771245923,0.0,0.0,14.600740847430941,18.51868563244428,2.8236841566564013,0.0,0.0,68.87,30.11979335664425,4.794537184071822,0.0,5.719716975726273,0.0,0.0,0.0,0.0,0.0,9.967957041894417,6.935959825167062,34.4666477702192,0.0,17.549797808012094,0.0,-0.8319652305366592,-1.156481481481481,0.0,-1.6946655328798184,0.0,0.0,0.0,9,2,4,0,0,0,0,1,1,3,1,4,1,0,0,0,1,-0.4245000000000001,30.549899999999997,0,0,0,0,0,2,0,0,0,0,1,1,0,0,0,2,0,1,0,0,0,0,0,0,0,0,0,1,0,0,0,0,0,0,0,0,0,0,0,0,0,0,0,0,0,0,0,0,0,0,0,0,0,0,0,0,0,0,0,0,0,0,0,0,0,0,0,0,0,0,0,1,0,0,0,0,0,0,0,0,0,0,0,0,0\n",
            "11.108779289493576,11.108779289493576,0.6307586923658348,-1.3108796296296295,0.6102585058580265,16.8,138.12200000000004,132.07399999999998,138.031694052,52,0,0.33896908736073095,-0.507052890945198,0.507052890945198,0.33896908736073095,1.6,2.4,3.1,,,,,,,,,2.2934768804348424,3.638276525627961,446.4836833016152,12.455665446700477,10.72474487139159,4.724744871391589,7.450794822582285,5.178869016623521,2.3623724356957947,1.4915816237971966,1.4915816237971966,0.8572172541558802,0.8572172541558802,0.4447597755906153,0.4447597755906153,-1.51,3020.5090515326874,2.268477910803053,2.389632707443791,1.0748936229840518,66.14949835559072,10.217616382214425,11.3129633249809,0.0,0.0,2.8623993144652684,5.969305287951849,0.0,4.794537184071822,0.0,0.0,12.08483741532659,12.08483741532659,0.0,5.483034224680881,20.495187790967126,5.969305287951849,2.8623993144652684,0.0,0.0,0.0,0.0,29.733126322350174,0.0,5.749511833283905,0.0,0.0,5.749511833283905,0.0,17.61812132739891,0.0,0.0,15.841022900449696,24.16967483065318,0.0,1.4311996572326342,0.0,57.53,41.45194344358593,4.794537184071822,0.0,0.0,0.0,0.0,0.0,0.0,0.0,10.217616382214425,8.34543353914615,42.29231386999244,0.0,11.108779289493576,7.580035903250189,-0.6703703703703703,-1.9745370370370363,-2.6695549886621306,0.0,0.0,0.0,0.0,10,2,3,0,0,0,1,0,1,3,2,3,2,0,0,0,1,1.0903999999999998,35.066100000000006,0,0,0,0,1,0,0,1,1,1,1,0,0,0,0,0,0,0,0,0,0,0,0,0,0,0,0,0,0,0,0,0,0,0,1,0,0,0,0,0,0,0,0,0,0,0,0,0,0,0,0,0,0,0,0,0,0,0,0,0,0,0,0,0,1,1,0,0,0,0,0,0,0,0,0,0,0,0,0,0,0,0,0,0,0\n",
            "13.561632224233735,13.561632224233735,0.8860675658512713,-6.324033763441277,0.5981616815314104,37.74193548387097,445.54499999999973,418.32900000000024,445.1783753440008,166,0,0.32840989085221617,-0.35031779946173125,0.35031779946173125,0.32840989085221617,1.2580645161290323,2.0,2.7096774193548385,,,,,,,,,3.0732851657109133,2.181612094628905,2118.685389480349,46.07446760021749,41.777309429819105,15.593806010746832,25.46589693051022,20.98238192111387,9.080804463414633,4.93664851359602,6.47760366955125,2.8406764732644896,3.957251686425089,1.6072441676516904,2.3049892790988333,-3.01,185230427527.3951,6.277856056361541,10.34007512930902,6.744800730100012,219.77810543686007,10.619626706576751,5.693927994848461,4.235526234984602,0.0,15.930470882759089,6.031114512338072,9.77851570501903,22.911432303082098,0.0,0.0,31.20361211931473,43.618955728307405,41.99054281837411,26.357616574372535,55.140602935542496,21.96158539509716,0.0,25.3027033622053,0.0,56.002817469139366,6.496859684315945,53.46677273367661,0.0,0.0,15.334746320310884,4.794537184071822,0.0,0.0,42.83880042057852,16.396216054736964,6.851892117295679,86.50867452019787,41.41094872780047,4.235526234984602,0.0,0.0,130.14999999999998,153.26278160254003,18.00687135247258,0.0,0.0,0.0,0.0,0.0,0.0,0.0,9.967957041894417,37.13373158306989,241.95431519651206,0.0,30.742086765933365,-2.2399545342264506,-4.200954481741753,-2.063976158017983,-15.014095903842547,-28.378717094091872,-7.308003360416915,-6.324033763441277,0.42857142857142855,31,3,9,1,0,1,1,1,2,6,3,10,8,1,0,1,3,2.0781199999999993,114.97440000000005,0,0,0,0,0,2,0,0,0,0,2,2,0,0,0,2,3,0,0,0,0,0,0,0,0,0,0,3,0,0,1,0,0,0,1,0,0,0,0,0,0,0,0,0,0,0,0,0,0,0,0,0,0,0,0,0,0,0,0,0,0,0,0,0,0,0,0,0,0,0,0,0,0,0,0,0,1,0,0,0,0,0,0,0,1\n",
            "11.837784664540916,11.837784664540916,0.15518754724111883,-3.296952357331823,0.8807285394160607,18.94736842105263,296.15299999999974,285.06499999999994,295.01668395200034,98,0,0.30739587692442316,-0.4809852135804913,0.4809852135804913,0.30739587692442316,1.3157894736842106,2.0,2.6842105263157894,,,,,,,,,2.7005975568469607,3.014606909791554,1034.3996616794564,23.290010549841313,20.019639122446137,10.531497014483048,13.71022496859259,10.08888824493687,5.489355304991504,3.09943894594944,3.855367891967895,1.878675029530884,2.425670353485815,1.1479799425243051,1.564334747358913,-1.7099999999999995,1826684.1874512841,5.348086445792717,5.9544053534163845,3.397616957868233,135.92993443617686,10.418621544395588,0.0,1.4118420783282006,0.0,1.4311996572326342,5.969305287951849,4.794537184071822,0.0,0.0,0.0,47.37155461111821,23.69070761468688,8.428903387024002,31.700887696687133,23.65201445903921,40.545957617784005,1.4311996572326342,0.0,0.0,6.372924901329379,5.309813353288376,57.905649072822705,0.0,0.0,5.309813353288376,11.374772549367124,0.0,23.20187978046503,11.078113479059063,11.167462085401201,0.0,17.900278497228975,42.29693095364306,11.457108705810853,1.4311996572326342,0.0,49.33,81.62265181147106,4.794537184071822,0.0,5.309813353288376,0.0,0.0,0.0,0.0,0.0,5.1088081911072125,38.38174852155785,85.77864516737384,11.99160913748215,11.837784664540916,2.572252662955976,-2.5802963592844543,-1.8164428487444353,-5.847711178103269,-3.296952357331823,0.0,0.0,0.07142857142857142,19,2,3,0,0,0,2,0,2,3,2,5,4,0,0,0,2,4.364100000000001,77.52650000000003,1,0,0,0,0,0,0,0,1,1,1,0,0,0,0,0,1,0,0,0,0,0,0,0,0,0,0,0,0,2,0,0,0,0,2,0,0,0,0,0,0,0,0,0,2,0,0,0,0,0,0,0,0,0,0,0,0,0,0,0,0,0,0,0,2,0,0,0,0,0,0,0,0,0,0,0,0,0,0,0,0,0,0,0,0\n",
            "12.689804421768706,12.689804421768706,0.22444707155385402,-5.177638888888886,0.804736706639606,21.058823529411764,253.28300000000007,242.19499999999996,253.052112212,90,0,0.26263766546728673,-0.3987277171275083,0.3987277171275083,0.26263766546728673,1.588235294117647,2.3529411764705883,2.9411764705882355,,,,,,,,,2.9329491803522454,2.711605169620952,1004.4531411480932,21.765066523458984,18.974633948355326,8.791130529283052,12.634657471562507,9.36919117521712,5.467613717517885,2.7043895045445616,4.2453446604997955,1.5022002023534708,2.6355269091816043,0.8584434491696539,1.616393895501248,-2.02,679740.3020384364,4.022001845256707,4.095983503072133,2.5628629762604866,114.09814716234706,10.242811912699622,5.760247418874442,10.05338901281963,0.0,10.023291153407584,0.0,4.715119613734132,8.417796984328938,0.0,0.0,5.156663257125445,31.02156694794886,15.842080650857515,11.749276256368875,28.14248660564864,21.528540205926173,0.0,5.156663257125445,0.0,11.747375592813455,10.434836589460405,35.972340957190916,0.0,0.0,10.434836589460405,11.50524905251859,0.0,0.0,13.574460241454382,10.023291153407584,6.851892117295679,16.726315868236203,39.630671950807596,4.235526234984602,0.0,0.0,98.22,73.96337636966467,8.417796984328938,0.0,5.719716975726273,0.0,0.0,0.0,0.0,0.0,9.679758194098794,15.201594684346363,111.48964029727287,0.0,-1.2769132653061217,3.076199609473419,-1.0459419558048706,-2.0429821162216544,-5.401487859032501,0.0,-2.9542091548255875,-5.177638888888886,0.1,17,3,6,0,0,0,1,1,2,5,2,7,5,0,0,0,2,1.3660199999999998,62.90290000000002,0,0,0,1,0,1,0,0,0,0,0,0,0,0,0,1,1,1,0,0,0,0,0,0,0,0,0,0,0,2,1,0,0,0,1,0,0,0,0,0,0,0,0,0,0,0,0,0,0,0,0,0,0,0,0,0,0,0,0,0,0,0,0,0,0,0,0,0,0,0,0,0,0,0,0,0,1,0,0,0,0,0,0,0,0\n",
            "12.98303193499622,12.98303193499622,0.266954808859571,-5.3877314814814765,0.8285267006028038,22.94736842105263,278.3369999999997,264.22499999999997,278.0837466880004,100,0,0.26372364518031377,-0.3987277171274398,0.3987277171274398,0.26372364518031377,1.3157894736842106,1.9473684210526316,2.473684210526316,,,,,,,,,2.636155634498722,2.860262183804435,1146.1175738766751,25.842416792648606,23.01359925339142,9.830095834319147,14.739829187085045,11.403313237400068,6.001735779700835,3.0899047689775334,4.630859924932766,1.709058231501648,2.8327475035050265,1.010422885630768,1.7583584602673337,-2.15,4213631.166182757,4.172915254738535,4.8483458693548895,3.194614632941851,131.15196318834745,5.719716975726273,0.0,4.235526234984602,5.948339280986494,10.023291153407584,0.0,0.0,23.100873639957484,0.0,0.0,0.0,43.915877772907834,25.299793601401802,11.749276256368875,27.73166733718595,21.65901670907764,0.0,9.967957041894417,0.0,18.59926771010913,10.434836589460405,41.5999495280134,0.0,0.0,10.434836589460405,11.635725555670057,0.0,0.0,18.385754026223353,10.023291153407584,13.703784234591359,26.46620010756934,35.107577013834245,4.235526234984602,0.0,0.0,97.97,86.57335356093432,8.417796984328938,0.0,5.719716975726273,0.0,0.0,0.0,0.0,0.0,9.967957041894417,19.31387035285702,131.23686035048135,0.0,5.259683799445704,0.0,-3.484797302198095,-1.3270395040732341,-5.818001996967544,0.0,-6.395640531873399,-5.3877314814814765,0.16666666666666666,19,3,6,0,0,0,1,1,2,5,2,7,6,0,0,0,2,1.4764399999999998,73.16890000000002,0,0,0,1,0,2,0,0,0,0,0,0,0,0,0,2,1,1,0,0,0,0,0,0,0,0,0,0,0,2,2,0,0,0,1,0,0,0,0,0,0,0,0,0,0,0,0,0,0,0,0,0,0,0,0,0,0,0,0,0,0,0,0,0,0,0,0,0,0,0,0,0,0,0,0,0,1,0,0,0,0,0,0,0,0\n",
            "12.201114890400603,12.201114890400603,0.260717435122197,-5.335671296296293,0.6828174314400922,21.714285714285715,214.24600000000007,204.16599999999997,214.04121318,76,0,0.26353569028383816,-0.3987277171274519,0.3987277171274519,0.26353569028383816,1.6428571428571428,2.2857142857142856,2.7857142857142856,,,,,,,,,2.4187255951543927,3.7216783931578394,761.2685852831576,19.196152422706632,16.52742035285537,7.3439169337830945,10.651494223968113,7.963010191632085,4.56143273393285,2.049236940136079,3.5901920960913123,1.0499097228676668,2.176122370853021,0.5782056656357245,1.247813598032184,-1.56,62935.239985917295,3.2331564782775843,3.6669516894800975,2.461795458009449,96.19721311976292,5.719716975726273,0.0,4.235526234984602,5.907179729351506,10.023291153407584,0.0,4.794537184071822,13.132916598063069,0.0,0.0,0.0,24.16967483065318,16.6515540604899,10.378517700198655,27.043170296576893,21.61785715744265,0.0,4.715119613734132,0.0,11.747375592813455,5.719716975726273,24.16967483065318,0.0,0.0,10.434836589460405,5.687386274683562,0.0,0.0,14.324976713680442,14.817828337479405,0.0,16.447202010487217,29.065158306170954,4.235526234984602,0.0,0.0,89.26,62.250027194643415,13.212334168400758,0.0,5.719716975726273,0.0,0.0,0.0,0.0,0.0,0.0,13.830836128176143,95.46848169669101,0.0,10.0577379377677,0.0,-1.119394723167044,-2.119400615184345,-4.6381490929705205,0.0,-3.4802705735071813,-5.335671296296293,0.125,14,3,5,0,0,0,1,0,1,4,2,6,4,0,0,0,1,0.0935999999999998,51.85690000000002,0,0,0,1,0,0,0,0,0,0,1,1,0,0,0,0,1,1,0,0,0,0,0,0,0,0,0,1,0,1,0,0,0,0,1,0,0,0,0,0,0,0,0,0,0,0,0,0,0,0,0,0,0,0,0,0,0,0,0,0,0,0,0,0,0,0,0,0,0,0,0,0,0,0,0,0,1,0,0,0,0,0,0,0,0\n",
            "12.642470710506423,12.642470710506423,0.20393827993395064,-5.096064814814811,0.7871395577774678,19.058823529411764,250.28300000000007,240.20299999999997,250.05244656,88,0,0.2637233954888739,-0.3987277171274398,0.3987277171274398,0.2637233954888739,1.2941176470588236,1.9411764705882353,2.5294117647058822,,,,,,,,,2.56175943335553,2.7396722139425953,979.1173846974036,20.842416792648606,18.013599253391423,8.830095834319149,12.31717945627467,8.90331323740007,5.5017357797008355,2.6162979712275543,4.157253127182787,1.4722548326266585,2.5959441046300356,0.8232711861932731,1.5712067608298383,-2.15,437138.62970778765,4.262897650109057,4.380095906611953,2.6977263506132765,112.80219695888297,5.719716975726273,0.0,4.235526234984602,5.948339280986494,10.023291153407584,0.0,0.0,23.100873639957484,0.0,0.0,0.0,30.212093538316473,18.033176696313085,14.490793368709314,22.24863311250508,21.65901670907764,0.0,9.967957041894417,0.0,4.895483475517775,10.434836589460405,42.557883959946,0.0,0.0,10.434836589460405,11.635725555670057,0.0,0.0,18.385754026223353,10.023291153407584,0.0,9.59530989319154,47.45336743546377,4.235526234984602,0.0,0.0,97.97,69.11238414454141,8.417796984328938,0.0,10.434836589460405,0.0,0.0,0.0,0.0,0.0,9.967957041894417,13.830836128176141,99.8861527271096,0.0,5.369122574955909,0.0,-0.9982174038883989,-0.9957895040732343,-4.927068354992235,-1.654801890963507,0.0,-5.096064814814811,0.0,17,3,6,0,0,0,1,1,2,5,2,7,4,0,0,0,2,0.8596000000000001,63.69490000000001,0,0,0,1,0,2,0,0,0,0,0,0,0,0,0,2,1,1,0,0,0,0,0,0,0,0,0,0,0,2,0,0,0,0,1,0,0,0,0,0,0,0,0,0,0,0,0,0,0,0,0,0,0,0,0,0,0,0,0,0,0,0,0,0,0,0,0,0,0,0,0,0,0,0,0,0,1,0,0,0,0,0,0,0,0\n",
            "8.528828735523135,8.528828735523135,1.3508773858933947,-4.746681928280956,0.641468123492022,56.68181818181818,309.4059999999995,282.19,309.19400834400074,124,0,0.21069040880015483,-0.4905466186270664,0.4905466186270664,0.21069040880015483,1.6363636363636365,2.4545454545454546,3.1818181818181817,,,,,,,,,2.9158535524881666,3.118610346009366,1402.1267457415865,39.36987900907357,37.58020675735541,10.58020675735541,21.407883811534354,18.639792788551162,5.467834321659616,3.8296377205346053,3.8296377205346053,2.0948267763673827,2.0948267763673827,1.2740285691309499,1.2740285691309499,-1.1400000000000001,2429908969.537385,3.4464014721905873,6.959388449702855,4.678256471765859,169.7383148051843,25.37310088041006,19.80035718147838,0.0,4.293598971697903,0.0,0.0,0.0,0.0,0.0,0.0,12.08483741532659,32.161546551247326,50.90646457360839,23.126104503261733,53.00257639736498,0.0,4.293598971697903,5.309813353288376,0.0,57.0805054877791,13.055844927232233,29.254159106383874,0.0,5.749511833283905,10.046676307088426,0.0,5.749511833283905,0.0,56.45484780548508,12.745849802658759,0.0,63.21002612719616,18.127256122989884,1.4118420783282006,0.0,0.0,81.95,110.44983470796751,0.0,0.0,0.0,0.0,0.0,0.0,0.0,0.0,15.326424573321638,41.96975079574122,221.41901138800557,0.0,0.0,10.528567506705219,-7.826085435764873,-1.814524400037793,-4.497457330728434,-20.56051258298465,-22.498999145195047,0.0,0.6470588235294118,22,4,5,1,0,1,1,0,1,5,4,5,8,0,0,0,2,0.6347999999999998,85.12110000000003,0,3,0,0,0,0,0,0,0,0,0,0,0,1,0,0,1,0,0,0,0,0,0,0,0,0,0,0,0,0,0,0,0,0,1,0,1,0,0,0,0,1,0,0,0,0,0,0,0,0,0,0,0,0,0,0,0,0,0,0,0,0,0,0,0,0,0,0,0,0,0,0,0,0,0,0,0,0,0,0,0,0,0,0,0\n",
            "7.259876543209877,7.259876543209877,0.12407407407407356,-0.22432098765432062,0.5730891206161023,14.333333333333334,181.449,178.42499999999998,179.930033136,48,0,0.06542045202477342,-0.08423332104428229,0.08423332104428229,0.06542045202477342,0.8888888888888888,1.1111111111111112,1.3333333333333333,,,,,,,,,2.0815718239857546,3.6035674514745475,232.30309024251744,9.464101615137755,7.133893419027682,6.4016802570830444,5.464101615137755,3.566946709513841,3.2008401285415222,1.3169467095138407,2.4508401285415227,0.6584733547569204,1.2254200642707613,0.38280810594988873,1.0948528892782379,0.08999999999999991,416.3143647971509,4.070130411491974,2.7822002817304186,2.0527237406793954,72.5561133006454,0.0,0.0,0.0,0.0,0.0,0.0,0.0,0.0,0.0,0.0,34.802819670697545,18.127256122989884,15.067899941223978,4.1122756685106605,4.1122756685106605,34.802819670697545,0.0,0.0,0.0,0.0,0.0,33.19515606421386,0.0,0.0,0.0,0.0,0.0,34.802819670697545,0.0,0.0,0.0,4.1122756685106605,18.127256122989884,15.067899941223978,0.0,0.0,0.0,0.0,0.0,0.0,33.19515606421386,0.0,0.0,0.0,0.0,0.0,0.0,38.915095339208214,21.779629629629632,16.598888888888887,0.0,-0.3722222222222207,0.0,0.0,-0.6729629629629617,0.0,0.0,0.0,0.0,9,0,0,0,0,0,1,0,1,0,0,3,0,0,0,0,1,3.6468000000000007,41.47200000000001,0,0,0,0,0,0,0,0,0,0,0,0,0,0,0,0,0,0,0,0,0,0,0,0,0,0,0,0,0,0,0,0,0,0,1,0,0,0,0,0,0,0,0,0,3,0,0,0,0,0,0,0,0,0,0,0,0,0,0,0,0,0,0,0,0,0,0,0,0,0,0,0,0,0,0,0,0,0,0,0,0,0,0,0,0\n",
            "12.811946806500377,12.811946806500377,0.3603472222222228,-3.8223712679516266,0.7233587999857974,39.78947368421053,258.233,248.15299999999996,258.06405680000006,96,0,0.2617990793734749,-0.2946356316273462,0.2946356316273462,0.2617990793734749,1.263157894736842,1.8421052631578947,2.4210526315789473,,,,,,,,,2.912119140018536,2.3346731605102264,994.1564793838537,22.428203230275514,19.02742035285537,9.02742035285537,13.062177826491071,9.88174416517758,4.934530569677621,3.5164306508838696,3.5164306508838696,2.4385199334966554,2.4385199334966554,1.643032619556926,1.643032619556926,-2.5,1340908.5549746552,4.8804247460757155,4.012157586949831,1.6402235447815359,122.0378815011177,0.0,6.017892468349645,1.4118420783282006,11.814359458703011,11.814359458703011,0.0,29.387871820426138,0.0,0.0,0.0,12.08483741532659,18.45776231665597,11.855959126010259,17.98069576424509,32.92681782014746,23.628718917406022,0.0,10.209723084138854,0.0,18.763742271008404,0.0,35.29657781404717,0.0,0.0,5.309813353288376,0.0,0.0,0.0,34.546521116606144,9.589074368143644,0.0,45.7986541597284,24.16967483065318,1.4118420783282006,0.0,0.0,83.55000000000001,82.99885235574999,19.178148736287287,0.0,4.899909730850478,0.0,0.0,0.0,0.0,0.0,0.0,13.74866908386018,77.59291699548916,0.0,49.642539091266535,-0.6597973356009073,-1.8514503023431592,-7.283177542621987,-7.529870428109517,-7.494493811413457,0.0,0.0,0.23076923076923078,19,1,6,0,2,2,1,0,1,4,1,6,1,0,1,1,3,0.08779999999999993,63.113700000000016,0,0,0,0,0,0,0,0,0,0,4,4,0,0,0,1,1,0,0,0,0,0,0,0,0,0,0,4,0,0,0,0,0,0,1,0,1,0,0,0,0,0,0,0,0,0,0,0,2,0,0,0,0,0,0,0,0,0,0,0,0,0,0,0,0,0,0,0,0,1,0,0,0,0,0,0,0,0,0,0,0,0,0,0,0\n",
            "11.208078703703704,11.208078703703704,0.11497685185185169,-2.9231481481481483,0.4857813089921775,20.444444444444443,126.11499999999997,120.067,126.042927432,48,0,0.3251845359423132,-0.3138499072175502,0.3251845359423132,0.3138499072175502,1.8888888888888888,2.6666666666666665,3.3333333333333335,,,,,,,,,2.094639700632517,3.8516986387056247,511.9693683650495,11.964101615137755,10.210923771927643,4.210923771927642,6.675426480542942,4.9471026724636955,2.052675481463779,1.2981369468685071,1.2981369468685071,0.6744029086172258,0.6744029086172258,0.3193150328988267,0.3193150328988267,-1.32,1235.837423373185,1.8312260182620292,1.8894292247050735,1.072463407768812,59.10462166135769,4.977003270229252,0.0,2.8236841566564013,0.0,5.559266895052008,5.689743398203474,9.771540454301075,4.794537184071822,0.0,0.0,0.0,6.851892117295679,15.848622371022415,1.3707585561702202,8.306718381337282,0.0,0.0,9.954006540458504,0.0,6.851892117295679,0.0,32.57443136391088,0.0,0.0,11.24901029325548,0.0,0.0,0.0,9.954006540458504,0.0,6.851892117295679,11.046485716377875,15.761969578958404,2.8236841566564013,0.0,0.0,65.72,29.83724911306292,9.589074368143644,0.0,9.954006540458504,0.0,0.0,0.0,0.0,0.0,0.0,8.306718381337282,41.866277872260014,0.0,21.772518424036278,0.0,-3.7790740740740736,0.0,0.0,-1.019907407407407,-2.9231481481481483,0.0,0.2,9,2,4,0,0,0,0,1,1,2,2,4,1,0,0,0,1,-0.6283800000000002,32.420399999999994,0,0,0,0,0,2,2,0,0,0,0,0,0,0,0,0,2,0,0,0,0,2,0,0,0,0,0,0,0,0,0,0,0,0,0,0,0,0,0,0,0,0,0,0,0,0,0,0,0,0,0,0,0,0,0,0,0,0,0,0,0,0,0,0,0,0,0,0,0,0,0,0,0,0,0,0,0,0,0,0,0,0,0,0,0\n",
            "9.470075113378684,9.470075113378684,0.49774813397581275,-4.02421910430839,0.8392202113085693,62.17391304347826,311.38099999999963,290.213,311.1521435320006,120,0,0.16909436330600053,-0.4971050607977231,0.4971050607977231,0.16909436330600053,1.434782608695652,2.391304347826087,3.260869565217391,,,,,,,,,3.065596447129948,2.172826601506905,1569.7440426367846,33.97217330464553,32.171958466891546,11.171958466891548,19.404207196688418,16.895565264641526,6.395565264641527,5.04350319202556,5.04350319202556,4.049440017559955,4.049440017559955,3.13817709522524,3.13817709522524,-1.9400000000000002,704395326.7713139,3.9945913474636807,4.322538112640453,1.412480728444047,165.37796979041545,14.210588861400147,5.759164871656176,17.579041693517798,0.0,0.0,0.0,4.899909730850478,0.0,0.0,0.0,12.09449045369886,49.44958286272207,23.918170965578618,35.9399980612046,42.99651854097479,0.0,0.0,4.899909730850478,0.0,30.258750767355174,27.54859150236337,46.64815329251716,0.0,11.49902366656781,9.473725907600098,0.0,11.49902366656781,0.0,44.546411728513476,16.52477832452621,0.0,46.28575756429802,35.52125030912317,0.0,0.0,0.0,30.930000000000003,120.85442895965399,2.7415171123404405,0.0,0.0,0.0,0.0,0.0,0.0,0.0,0.0,40.255001428634344,192.3350847984587,0.0,-0.49774813397581275,0.0,-7.181239134542705,-3.844904612307886,-9.159727458112876,-11.331074026832958,-7.910141802416558,-6.9935829636032585,0.47368421052631576,23,0,4,2,2,4,1,0,1,4,0,4,5,0,1,1,5,2.424500000000001,87.00200000000005,0,0,0,0,0,0,0,0,0,0,0,0,0,0,0,1,0,0,0,1,1,0,0,0,0,0,2,0,0,0,0,0,0,0,1,0,0,0,0,0,0,3,0,0,0,0,0,0,0,0,0,0,0,0,0,2,0,0,0,0,0,0,0,0,0,0,0,0,0,1,0,0,0,0,0,0,0,0,0,0,0,0,0,0,0\n",
            "10.733703703703704,10.733703703703704,0.010648148148148184,-1.2490740740740736,0.4546939811074878,16.0,112.08799999999998,108.056,112.027277368,42,0,0.3251675603228361,-0.3141180372098682,0.3251675603228361,0.3141180372098682,1.75,2.5,3.25,,,,,,,,,2.0815718239857546,3.85837635403996,396.6596052668356,9.464101615137755,7.710923771927642,3.710923771927642,5.464101615137755,3.6971026724636946,1.8026754814637789,1.0481369468685067,1.0481369468685067,0.5115684734342534,0.5115684734342534,0.2634133334613319,0.2634133334613319,-1.32,416.3143647971509,1.8894292247050735,1.6512034657775698,0.8412053770519652,49.92973854662546,4.977003270229252,0.0,2.8236841566564013,0.0,5.559266895052007,5.689743398203474,9.771540454301075,4.794537184071822,0.0,0.0,0.0,0.0,12.215313918478056,2.7415171123404405,5.565201268996842,0.0,0.0,9.954006540458504,0.0,0.0,0.0,33.05339857987718,0.0,0.0,11.24901029325548,0.0,0.0,0.0,9.954006540458504,0.0,0.0,2.7415171123404405,21.8043882866217,2.8236841566564013,0.0,0.0,65.72,23.464324211733533,9.589074368143644,0.0,9.954006540458504,0.0,0.0,0.0,0.0,0.0,0.0,5.565201268996842,27.424814814814816,0.0,21.32277777777778,0.0,-2.435648148148147,0.0,-0.8337037037037038,-0.811574074074074,0.0,0.0,0.0,8,2,4,0,0,0,0,1,1,2,2,4,0,0,0,0,1,-0.9368000000000001,27.6834,0,0,0,0,0,2,2,0,0,0,0,0,0,0,0,0,2,0,0,0,0,2,0,0,0,0,0,0,0,0,0,0,0,0,0,0,0,0,0,0,0,0,0,0,0,0,0,0,0,0,0,0,0,0,0,0,0,0,0,0,0,0,0,0,0,0,0,0,0,0,0,0,0,0,0,0,0,0,0,0,0,0,0,0,0\n",
            "11.390092592592593,11.390092592592593,0.04481481481481442,-1.3156481481481477,0.37290778449938766,15.333333333333334,168.11200000000002,164.07999999999998,168.028339988,62,0,0.32687971464622734,-0.29979822420824903,0.32687971464622734,0.29979822420824903,0.9166666666666666,1.5,2.1666666666666665,,,,,,,,,2.4808188047698017,3.363889360790428,765.0327050871889,12.196152422706634,9.513599253391423,5.513599253391422,7.374785217660714,4.690081199695459,2.9012268176956266,1.9897281270785103,1.9897281270785103,1.2221059105605245,1.2221059105605245,0.7910192379233714,0.7910192379233714,-2.0500000000000003,3959.3868124126034,3.566044563259918,1.9688738350693085,0.7970171906538467,69.31784684484192,0.0,11.16387793838399,5.6473683133128025,0.0,5.559266895052008,11.379486796406947,24.70255026498883,9.589074368143644,0.0,0.0,0.0,0.0,0.0,0.0,5.6473683133128025,11.16387793838399,0.0,19.90801308091701,0.0,0.0,0.0,31.32236524367442,0.0,0.0,16.938753691458956,0.0,0.0,0.0,19.90801308091701,0.0,0.0,0.0,14.383611552215466,5.6473683133128025,11.16387793838399,0.0,114.36999999999998,28.102631629842943,14.383611552215466,0.0,19.90801308091701,0.0,0.0,0.0,0.0,0.0,0.0,5.6473683133128025,28.619293272864702,0.0,33.748762282690855,0.0,-5.0347222222222205,0.0,0.0,0.0,0.0,0.0,0.0,12,4,7,0,0,0,0,2,2,3,4,7,0,0,0,0,2,-1.7672000000000003,40.16079999999998,0,0,0,0,0,4,4,0,0,0,0,0,0,0,0,0,4,0,0,0,0,4,0,0,0,0,0,0,0,0,0,0,0,0,0,0,1,0,0,0,0,0,0,0,0,0,0,1,0,0,0,0,0,0,0,0,0,0,0,0,0,0,0,0,0,0,0,0,0,0,0,0,0,0,0,0,0,0,0,0,0,0,0,0,0\n",
            "13.738502102229777,13.738502102229777,0.7467424471255191,-4.62770396352986,0.8605899449393155,68.85714285714286,289.3749999999995,266.1909999999999,289.16779359600065,114,0,0.3155498550108651,-0.4617237756087618,0.4617237756087618,0.3155498550108651,1.6666666666666667,2.380952380952381,3.0,,,,,,,,,2.9725297906735264,2.471937191995878,1339.9460051239237,35.0330157158901,33.171958466891546,10.171958466891546,19.229939140948776,16.895565264641526,5.487316974177664,3.7283295611540543,3.7283295611540543,2.4613284593044154,2.4613284593044154,1.5271577294479355,1.5271577294479355,-1.3899999999999997,432585156.0905186,3.41276114379116,6.1594002436145106,2.965447272746595,157.6642305847381,14.745580875757739,11.973975712313067,0.0,1.4311996572326342,0.0,5.969305287951849,4.794537184071822,0.0,0.0,0.0,30.212093538316473,38.03097799729676,31.226404723082364,17.525053692278046,44.796896564723944,5.969305287951849,1.4311996572326342,4.899909730850478,0.0,49.50146025432987,13.534812143198534,35.77554503001347,0.0,0.0,0.0,0.0,0.0,0.0,49.05983797398998,9.53140013787187,0.0,67.10579701812247,30.212093538316473,0.0,0.0,0.0,49.769999999999996,109.68103244634423,4.794537184071822,0.0,0.0,0.0,0.0,0.0,0.0,0.0,9.84567114490726,31.58788789297747,192.41595807001738,0.0,12.991759655104257,3.7801554388973213,-1.620180487318384,-6.975462962962965,-15.188795732391878,-22.08654021110664,-8.150227103572444,0.0,0.5882352941176471,21,1,4,0,2,2,1,0,1,4,1,4,6,0,2,2,3,1.9308999999999996,79.95580000000005,0,1,0,0,0,0,0,0,0,0,1,1,0,0,0,1,0,0,0,0,0,0,0,0,0,0,0,0,0,0,0,0,0,0,1,0,2,0,0,0,1,1,0,0,0,0,0,0,0,0,0,0,0,0,0,0,0,0,0,0,0,0,0,0,0,0,0,0,0,1,0,0,0,0,0,0,0,0,0,0,0,0,0,0,0\n",
            "12.205399187452757,12.205399187452757,0.2747762345679017,-3.4075605254962076,0.8182421638748345,21.2,249.09700000000007,239.01699999999997,248.01193292,82,0,0.34498232274683377,-0.3060098096798753,0.34498232274683377,0.3060098096798753,1.6666666666666667,2.466666666666667,3.1333333333333333,,,,,,,,,2.457131621827908,3.432923327999577,663.4295118361727,19.90325920389318,16.966852717946097,8.478710609983004,11.09192869997933,8.31042773580802,4.119143086326516,2.1316135330968233,2.8875424791152784,1.1839701344753164,1.8476488931988295,0.5950256488131576,0.8262655980541972,-0.9699999999999999,95803.56193507013,4.125142550519022,5.207126085454582,3.266378033585612,111.77932523320659,5.309813353288376,0.0,1.4118420783282006,0.0,0.0,6.031114512338072,4.8375885837366335,9.85775490903717,0.0,0.0,23.20187978046503,18.127256122989884,16.775488843476467,25.307770423386557,23.380794851668632,34.92038056748667,0.0,5.063217724965349,0.0,0.0,19.32359271245321,28.172522750472538,0.0,0.0,5.309813353288376,10.481923458755384,0.0,23.20187978046503,25.108111596468255,4.8375885837366335,0.0,12.33682700553198,18.127256122989884,11.457108705810853,0.0,0.0,41.57,58.96802062162435,4.794537184071822,0.0,5.309813353288376,0.0,0.0,0.0,0.0,0.0,4.8375885837366335,36.95054886432522,72.8816504685807,11.337838435005414,16.307258659122084,-1.8391802616108173,-0.8677853363567645,0.0,-4.200627873834718,0.0,-3.4075605254962076,-3.322704676520816,0.2222222222222222,15,1,4,0,0,0,1,0,1,2,1,6,4,0,0,0,1,3.0185000000000013,60.252700000000026,0,0,0,0,0,0,0,0,0,0,1,1,0,0,0,1,1,0,2,0,0,0,0,0,0,0,0,2,0,1,0,0,0,0,1,0,0,0,0,0,0,0,0,0,2,0,0,0,0,0,0,0,0,0,0,0,0,0,0,0,0,0,0,0,0,0,0,0,0,0,0,0,0,0,0,0,0,0,0,0,0,0,0,0,1\n",
            "12.13797163695725,12.13797163695725,0.08247685185185194,-3.36219706632653,0.8600549198257493,23.22222222222222,241.2900000000001,226.16999999999996,241.11027872,92,0,0.33730974624233334,-0.47758334051759543,0.47758334051759543,0.33730974624233334,1.2777777777777777,2.111111111111111,2.888888888888889,,,,,,,,,2.6934697825638785,3.171297830754386,1138.562805874072,25.790010549841313,23.763710176427686,8.763710176427685,14.888857763546673,11.960923771927643,4.6054618859638214,3.096474472940213,3.096474472940213,1.9506411396068795,1.9506411396068795,1.1294683648559405,1.1294683648559405,-2.2899999999999996,5058058.824267359,3.3807187823742866,4.918407118135079,2.3483829738413826,127.30822609748137,10.418621544395588,0.0,1.4118420783282006,0.0,1.4311996572326342,5.969305287951849,0.0,4.794537184071822,0.0,0.0,24.16967483065318,42.957943340975234,13.91193761170488,20.846147659572097,29.13504868372009,17.344077837318974,1.4311996572326342,0.0,0.0,13.703784234591359,5.309813353288376,58.98728542873405,0.0,0.0,5.309813353288376,11.374772549367124,0.0,0.0,11.078113479059063,0.0,13.703784234591359,39.304752889375685,42.29693095364306,1.4118420783282006,1.4311996572326342,0.0,49.33,90.03514750064438,4.794537184071822,0.0,5.309813353288376,0.0,0.0,0.0,0.0,0.0,5.1088081911072125,20.662902965773693,116.91846325953217,0.0,12.13797163695725,3.6979220337826493,-5.543360129545644,-1.6430854093180487,-7.260122131414294,0.0,-6.641122593327455,0.0,0.13333333333333333,18,2,3,0,0,0,2,0,2,3,2,3,5,0,0,0,2,3.7452400000000017,72.60000000000002,0,0,0,0,1,0,0,0,1,1,1,0,0,0,0,0,1,0,0,0,0,0,0,0,0,0,0,0,0,2,0,0,0,0,2,0,0,0,0,0,0,0,0,0,0,0,0,0,0,0,0,0,0,0,0,0,0,0,0,0,0,0,0,0,1,0,0,0,0,0,0,0,0,0,0,0,0,0,0,0,0,0,0,0,0\n",
            "12.797975836167797,12.797975836167797,1.172246315192743,-5.825340529730405,0.8008194430489943,29.333333333333332,270.3539999999997,252.20999999999995,270.1038134360004,100,0,0.32819354018729163,-0.33731986458409735,0.33731986458409735,0.32819354018729163,1.5,2.2222222222222223,2.8333333333333335,,,,,,,,,2.679376480042381,3.680252311290154,1128.3195557936444,29.196152422706632,26.52742035285537,9.343916933783094,15.6128190893733,12.989403393882105,5.535039531682829,2.526658561562651,4.067613717517885,1.3282345519140528,2.4448097650746528,0.7025960283904477,1.4003411398375898,-1.5599999999999996,7813865.6287475955,3.3042288563253988,6.393460366483331,4.3668002603657445,133.04866043304878,5.309813353288376,0.0,2.8236841566564013,0.0,10.023291153407584,6.031114512338072,0.0,17.92745378213489,0.0,0.0,30.873105925648645,25.30965443395165,22.94596235835858,10.378517700198655,37.968155223780684,16.054405665745655,0.0,10.024932967022508,0.0,31.345117512767892,6.496859684315945,29.733126322350174,0.0,0.0,10.024932967022508,4.794537184071822,0.0,0.0,20.945771180982955,10.023291153407584,6.851892117295679,47.09333031037499,29.065158306170954,2.8236841566564013,0.0,0.0,75.27000000000001,93.65444215220217,13.212334168400758,0.0,0.0,0.0,0.0,0.0,0.0,0.0,0.0,24.75582105537992,159.16821857436005,0.0,10.768400691295033,-1.172246315192743,-1.1825451167173326,0.0,-8.351928099082453,-8.262562318559953,-11.308663553038887,-5.825340529730405,0.4166666666666667,18,2,5,0,0,0,1,0,1,3,2,6,7,0,0,0,1,1.78302,69.80720000000004,0,0,0,0,0,0,0,0,0,0,1,1,0,0,0,0,2,0,0,0,0,0,0,0,0,0,0,2,0,0,0,0,0,0,1,0,0,0,0,0,0,0,0,0,0,0,0,0,0,0,0,0,0,0,0,0,0,0,0,0,0,0,0,0,0,0,0,0,0,0,0,0,0,0,0,0,1,0,0,0,0,0,0,0,1\n",
            "9.6092470946712,9.6092470946712,0.6360848922902491,-4.162682232615268,0.7981444096668123,77.18181818181819,299.3699999999996,278.202,299.1521435320006,116,0,0.21110573894730084,-0.4928574808156397,0.4928574808156397,0.21110573894730084,1.6363636363636365,2.6363636363636362,3.5,,,,,,,,,3.120309673722743,2.226508140172539,1503.36073269292,33.31747276626628,31.671958466891546,10.671958466891548,18.997723886149622,16.59968940987346,6.191441119409595,4.941441119409593,4.941441119409593,3.947377944943988,3.947377944943988,3.0663127255839266,3.0663127255839266,-1.52,525479519.9373644,3.75722276756327,4.059867674858224,1.2776232367596778,159.46998948901944,19.482443829557788,12.160036053899976,11.49902366656781,1.4311996572326342,0.0,0.0,0.0,0.0,0.0,0.0,18.146562199734426,37.824406586617236,37.96863623267893,19.374779464414566,41.997705222111726,0.0,1.4311996572326342,4.899909730850478,5.893957685363079,36.33876879430516,20.51063904348078,35.31588389079171,0.0,11.49902366656781,9.473725907600098,0.0,11.49902366656781,0.0,50.12848514492072,11.787915370726159,5.893957685363079,44.91499900812779,24.18898090739772,0.0,0.0,0.0,41.93,114.45818281135904,4.1122756685106605,0.0,0.0,0.0,0.0,0.0,0.0,0.0,5.1088081911072125,34.207821019726474,190.0337408280001,0.0,-0.6360848922902491,4.335739087301587,-6.424041005291004,-6.515674524439406,-10.13911478017133,-15.722300760582016,-8.130194476263876,-3.4687361429305454,0.5555555555555556,22,1,4,2,2,4,1,0,1,4,1,4,4,0,1,1,5,1.5010999999999999,82.46380000000003,0,1,0,0,0,0,0,0,0,0,0,0,0,0,0,1,0,0,0,1,1,0,0,0,0,0,0,0,0,0,0,0,0,0,1,0,0,0,0,0,0,2,0,0,0,0,0,0,0,0,0,0,0,0,0,1,0,0,0,0,0,0,0,0,0,0,0,0,0,1,0,0,0,0,0,0,0,0,0,0,0,0,0,0,0\n",
            "14.3793464584908,14.3793464584908,0.21667800453514774,-4.44500566893424,0.6813170466380937,85.92,334.41899999999964,312.24300000000005,334.1681279440006,128,0,0.22941833439143058,-0.3732279075432878,0.3732279075432878,0.22941833439143058,1.4,2.32,3.28,,,,,,,,,3.224415876744509,1.9424416218864229,1829.16383039027,36.05795974227243,34.21092377192764,12.210923771927643,20.76928460767762,18.45401322219567,7.45401322219567,6.028648439122199,6.028648439122199,4.962693164256211,4.962693164256211,4.039259670869841,4.039259670869841,-1.6499999999999997,4710243831.172269,4.4234491987989335,4.183106986570093,1.3322788891531836,177.88503055573565,9.636772684650527,0.0,0.0,5.907179729351506,0.0,0.0,9.694446914922299,0.0,0.0,0.0,29.75243239909472,36.74253737169807,47.3309478123219,37.366647645077286,39.68808837361672,11.594566004035068,0.0,4.899909730850478,11.787915370726157,42.649568137034194,24.452614342398657,41.358302598455005,0.0,0.0,4.899909730850478,5.687386274683562,0.0,0.0,48.47559703539944,14.94639060726865,11.787915370726157,54.83891443143003,35.79485110675802,0.0,0.0,0.0,32.78,131.8429664526491,17.1313641896038,0.0,4.899909730850478,0.0,0.0,0.0,0.0,0.0,0.0,22.556724184012907,204.99794276738476,0.0,13.727002826593598,0.0,-8.622472705131434,-10.914212726757368,-15.404098915028973,-17.129353741496605,-12.15480750556396,0.0,0.5714285714285714,25,0,4,1,5,6,1,0,1,3,0,4,0,1,3,4,7,2.0925000000000002,93.40900000000005,0,0,0,0,0,0,0,0,0,0,1,1,0,0,0,2,0,0,0,0,0,0,0,0,0,0,0,1,0,1,0,0,0,0,1,0,2,0,0,0,0,1,0,0,0,0,0,0,0,0,0,0,0,0,0,0,0,0,0,0,0,0,0,0,1,0,0,0,0,2,0,0,0,0,0,0,0,0,0,0,0,0,0,0,0\n",
            "11.116948223733937,11.116948223733937,0.07286139455782337,-1.3240173847316707,0.5665891872452881,18.2,137.13800000000003,130.08199999999997,137.047678464,52,0,0.3351808337675886,-0.4776392362026082,0.4776392362026082,0.3351808337675886,1.7,2.4,2.9,,,,,,,,,2.2585839134097436,3.641762691207116,446.77539351870337,13.325908934703554,11.763710176427685,4.763710176427685,7.82347362264446,5.684530569677621,2.3818550882138423,1.5110642763152438,1.5110642763152438,0.815927544106921,0.815927544106921,0.4079637720534605,0.4079637720534605,-1.5099999999999998,4110.622722405734,1.985036469518851,2.389632707443791,1.2539046385226678,68.12956880692467,10.828525166833487,0.0,2.8236841566564013,0.0,1.4311996572326342,5.969305287951849,0.0,4.794537184071822,0.0,0.0,0.0,24.16967483065318,5.687386274683562,11.046485716377875,18.210063756516316,11.656691562635412,1.4311996572326342,0.0,0.0,0.0,5.719716975726273,29.733126322350174,0.0,0.0,5.719716975726273,5.687386274683562,0.0,0.0,11.078113479059063,0.0,0.0,15.841022900449696,24.16967483065318,2.8236841566564013,1.4311996572326342,0.0,63.32000000000001,41.38981788498558,4.794537184071822,0.0,5.719716975726273,0.0,0.0,0.0,0.0,0.0,5.1088081911072125,9.737918038569916,50.03533163265306,0.0,11.116948223733937,3.6053113189720336,-1.3486663832199541,-1.3240173847316707,-2.91824074074074,0.0,0.0,0.0,0.0,10,3,3,0,0,0,1,0,1,3,2,3,2,0,0,0,1,0.9670000000000001,37.81370000000001,0,0,0,1,1,0,0,0,1,1,1,0,0,0,0,0,0,1,0,0,0,0,0,0,0,0,0,0,0,1,0,0,0,0,1,0,0,0,0,0,0,0,0,0,0,0,0,0,0,0,0,0,0,0,0,0,0,0,0,0,0,0,0,0,0,0,0,0,0,0,0,0,0,0,0,0,0,0,0,0,0,0,0,0,0\n",
            "11.232503779289493,11.232503779289493,0.0961947278911568,-1.3636007180650036,0.5176060263674482,17.272727272727273,153.13700000000003,146.08099999999996,153.042593084,58,0,0.33897181287083294,-0.5069720908890245,0.5069720908890245,0.33897181287083294,1.8181818181818181,2.727272727272727,3.3636363636363638,,,,,,,,,2.3170653743326453,3.706735938211989,492.66282752106804,14.033015715890102,12.171958466891548,5.171958466891548,8.361478425105245,5.796903005373416,2.5859792334457734,1.7151884215471753,1.7151884215471753,0.9690206530308697,0.9690206530308697,0.5234832482574919,0.5234832482574919,-1.71,7023.025149602247,2.4059278892661062,2.4943628247787246,1.402945662258468,73.01047281724792,15.937333357940698,11.3129633249809,2.8236841566564013,0.0,2.8623993144652684,5.969305287951849,0.0,4.794537184071822,0.0,0.0,0.0,12.08483741532659,11.729804982346856,4.1122756685106605,21.948113391453305,11.656691562635412,2.8623993144652684,0.0,0.0,0.0,5.719716975726273,23.69070761468688,0.0,5.749511833283905,5.719716975726273,5.687386274683562,5.749511833283905,0.0,17.61812132739891,0.0,0.0,14.470264344279476,18.127256122989884,2.8236841566564013,1.4311996572326342,0.0,83.55000000000001,41.09691101060619,4.794537184071822,0.0,5.719716975726273,0.0,0.0,0.0,0.0,0.0,10.217616382214425,9.79835913963233,49.64741496598639,0.0,11.232503779289493,7.631052059712774,-1.4532497165532878,-2.106424792139077,-2.284629629629629,0.0,0.0,0.0,0.0,11,4,4,0,0,0,1,0,1,4,3,4,3,0,0,0,1,0.6726000000000001,39.478500000000004,0,0,0,1,1,0,0,1,1,1,1,0,0,0,0,0,0,1,0,0,0,0,0,0,0,0,0,0,0,1,0,0,0,0,1,0,0,0,0,0,0,0,0,0,0,0,0,0,0,0,0,0,0,0,0,0,0,0,0,0,0,0,0,0,0,1,0,0,0,0,0,0,0,0,0,0,0,0,0,0,0,0,0,0,0\n",
            "12.434781746031742,12.434781746031742,0.012479213907785391,-3.2727278202947847,0.6656235641878139,24.571428571428573,188.2300000000001,176.134,188.094963004,72,0,0.2711127146041771,-0.28536317880956974,0.28536317880956974,0.2711127146041771,1.3571428571428572,2.142857142857143,2.7857142857142856,,,,,,,,,2.760772126882058,3.1532952507629983,919.2823317057052,20.350852961085884,18.80267548146378,6.80267548146378,11.618802153517008,9.548551336231847,3.548551336231848,2.37597295765842,2.37597295765842,1.528114706750586,1.528114706750586,0.9488633143572502,0.9488633143572502,-1.7699999999999998,230745.3343648024,2.422989145128394,3.178135834949779,1.2667253288419447,99.05675459996787,0.0,0.0,0.0,0.0,5.559266895052007,0.0,9.476340119217006,4.681802935145185,0.0,0.0,18.127256122989884,18.93672953262227,26.93672493981532,13.91193761170488,16.44910267404264,0.0,0.0,9.36360587029037,6.975826900282246,6.851892117295679,0.0,52.30224431995206,0.0,5.687386274683562,5.559266895052007,0.0,0.0,0.0,9.36360587029037,6.975826900282246,6.851892117295679,22.143030668891097,41.04904943005159,0.0,5.687386274683562,0.0,26.93,67.02281242814172,4.794537184071822,0.0,9.36360587029037,0.0,0.0,0.0,0.0,0.0,0.0,16.44910267404264,91.30902262062232,0.0,12.434781746031742,0.0,-3.3877621882086153,0.0,-5.4198493401990415,0.0,-6.43619283824641,0.0,0.18181818181818182,14,0,3,0,0,0,1,1,2,3,0,3,3,0,0,0,2,1.4844199999999999,55.74700000000003,0,0,0,0,0,2,0,0,0,0,0,0,0,0,0,2,0,0,0,0,0,0,0,0,0,0,0,0,0,0,0,0,0,0,1,0,0,0,0,0,0,0,0,0,0,0,0,0,0,0,0,0,0,0,0,0,0,0,0,0,0,0,0,0,1,0,0,0,0,0,0,0,0,0,0,0,0,0,0,0,0,0,0,0,0\n",
            "12.24123588015453,12.24123588015453,0.8991956412194511,-4.141590844671204,0.4090709280478973,26.7,323.1319999999997,311.03599999999994,322.01232684400037,110,0,0.26894513302429984,-0.3941232075520646,0.3941232075520646,0.26894513302429984,1.65,2.3,2.75,,,,,,,,,2.6874887437950443,4.192615319740448,919.9060588411143,25.61036598507973,21.191597589337686,10.703455481374597,14.272814567527757,10.290015850052754,5.282234619643525,2.937876369649562,3.8872694140873603,1.7082062675221448,2.0315404684299403,0.8928677343980207,0.9773831598708723,-1.4099999999999997,2278184.208115059,6.146842915310221,7.392954608862727,4.309031435917423,140.90651680629352,15.5274297355028,6.080018026949988,6.22416340777994,2.8623993144652684,11.594566004035068,0.0,14.908855452837393,0.0,0.0,0.0,23.20187978046503,17.648288907023584,12.08483741532659,29.83701576561558,33.6841336989641,34.7964457845001,2.8623993144652684,5.309813353288376,0.0,16.91023182475137,6.558985242916289,39.847444591115746,0.0,0.0,5.309813353288376,5.687386274683562,0.0,23.20187978046503,41.299705515566544,4.794537184071822,10.114318268765572,23.98029652417896,24.16967483065318,1.4118420783282006,0.0,0.0,112.70000000000002,75.03003379615895,14.908855452837393,0.0,0.0,0.0,0.0,0.0,0.0,0.0,10.217616382214425,39.81294817879049,92.55243849378425,10.510367789533252,18.761572146688486,17.90408639548182,-2.8836009542705967,-2.1225924876123283,-9.875204624030683,-3.969362087427564,-3.98881578325775,0.0,0.36363636363636365,20,3,7,0,0,0,1,0,1,5,3,9,8,0,0,0,1,0.9089999999999998,72.56670000000003,0,2,0,0,0,0,0,0,0,0,1,1,0,0,0,1,1,0,0,0,0,0,0,0,0,2,0,1,0,0,0,0,0,0,1,0,0,0,0,0,0,0,0,0,2,0,0,0,0,0,0,0,0,0,0,0,0,0,1,1,0,0,0,0,0,0,0,0,0,0,0,0,0,0,0,0,0,0,0,0,0,0,0,0,0\n",
            "14.10164149331041,14.10164149331041,2.3250471197623526,-5.684758243575212,0.8060203920942326,97.36,346.4669999999995,316.22700000000003,346.2144094400008,138,0,0.21067537116919235,-0.3927746595045805,0.3927746595045805,0.21067537116919235,1.52,2.44,3.2,,,,,,,,,3.088859699224739,2.7105301108064914,1778.635760928723,44.2236146391316,42.13299316185545,12.132993161855453,23.71341349076925,21.632993161855453,6.816496580927726,5.4644345083117605,5.4644345083117605,4.07491495713053,4.07491495713053,2.9337638086178535,2.9337638086178535,-1.0000000000000002,35766440329.655945,3.907663896583564,5.75,2.3285123966942147,191.55913289522886,10.217616382214425,6.558985242916289,11.566489892729878,2.8623993144652684,0.0,0.0,9.589074368143644,0.0,0.0,0.0,19.276888764660626,72.80147514889464,45.16508793477776,11.563052251630868,58.187930323124284,11.566489892729878,2.8623993144652684,0.0,34.405811680245876,64.394276570847,6.558985242916289,11.625176276104835,0.0,0.0,0.0,0.0,0.0,0.0,37.28550885927584,9.589074368143644,34.405811680245876,96.69549811666309,11.625176276104835,0.0,0.0,0.0,74.6,128.55073966284388,19.184384261335182,0.0,0.0,0.0,0.0,0.0,0.0,0.0,10.217616382214425,31.648328994039886,263.23247800058783,0.0,27.411914020830064,7.767094692894518,-13.328860475785309,-27.9103545648528,-2.3250471197623526,-41.193905783228274,-14.736652104017054,0.0,0.8095238095238095,25,2,4,4,0,4,0,0,0,4,2,4,6,3,0,3,4,2.666700000000002,93.68260000000004,0,2,0,0,0,0,0,0,0,0,2,2,0,0,0,0,0,0,0,0,0,0,0,0,0,0,1,0,0,0,0,0,0,0,0,0,5,0,0,0,0,0,0,0,0,0,0,0,0,0,0,2,1,0,0,0,0,0,0,0,0,0,0,0,0,0,0,0,0,0,0,0,0,0,0,0,0,0,0,0,0,0,0,0,0\n",
            "13.060285336356763,13.060285336356763,0.22353919963046964,-5.148518518518515,0.7916266736810947,20.705882352941178,248.30700000000007,236.21099999999996,248.061948624,88,0,0.2060918054967559,-0.39872772934829437,0.39872772934829437,0.2060918054967559,0.8235294117647058,1.1764705882352942,1.4705882352941178,,,,,,,,,2.576315777569403,3.0053144151191864,979.3295748879331,22.582903768654766,20.119172062391506,8.935668643319232,13.172220166131805,9.977649601296989,5.671958466891547,2.858898673657097,4.682268829971376,1.7151884215471758,3.198351669141568,0.9596562833895538,1.9053620524186812,-2.01,942931.5745904016,3.744822736288326,4.101809822106994,2.236161413591126,116.88554963234013,11.439433951452546,0.0,5.6473683133128025,9.837253136417502,0.0,0.0,0.0,8.417796984328938,0.0,0.0,0.0,48.33934966130636,11.374772549367124,20.757035400397307,25.031233747003494,21.212025685784624,0.0,0.0,0.0,9.79096695103555,11.439433951452546,48.33934966130636,0.0,0.0,11.439433951452546,11.374772549367124,0.0,0.0,8.417796984328938,9.837253136417502,0.0,10.96606844936176,58.13031661234191,5.6473683133128025,0.0,0.0,86.18,79.34234229812654,8.417796984328938,0.0,11.439433951452546,0.0,0.0,0.0,0.0,0.0,0.0,16.613436762674564,117.38978530408181,0.0,-2.499531368102796,0.0,-2.099102512446668,0.0,-8.72596623834719,0.0,0.0,-5.148518518518515,0.0,17,4,4,0,0,0,2,0,2,4,2,5,4,0,0,0,2,1.6838000000000002,67.16060000000002,0,0,0,2,0,0,0,0,0,0,0,0,0,0,0,0,0,2,0,0,0,0,0,0,0,0,0,0,0,2,0,0,0,0,2,0,0,0,0,0,0,0,0,0,0,0,0,0,0,0,0,0,0,0,0,0,0,0,0,0,0,0,0,0,0,0,0,0,0,0,0,0,0,0,0,0,0,1,0,0,0,0,0,0,0\n",
            "13.066216931216928,13.066216931216928,0.6610166288737718,-4.016576908541197,0.7116448391760646,37.5,218.2560000000001,204.14399999999998,218.105527688,84,0,0.24107687820318055,-0.33746571961989924,0.33746571961989924,0.24107687820318055,1.5,2.125,2.6875,,,,,,,,,2.632834550929292,3.1951834316278873,888.825804283546,23.77350269189626,21.710923771927643,7.710923771927643,13.306194762347367,10.947102672463696,4.05267548146378,2.8089119265669455,2.8089119265669455,2.0071869062653835,2.0071869062653835,1.1958050143874004,1.1958050143874004,-1.84,1136331.3921810824,2.884031454103089,3.9626300355797675,1.3773138680608406,113.82369348647703,10.619626706576751,0.0,8.23867462605318,11.814359458703011,0.0,0.0,9.589074368143644,0.0,0.0,0.0,37.06398565561216,11.936376393026375,6.853792780851101,16.21610436049405,28.86186119884268,11.814359458703011,0.0,10.619626706576751,0.0,18.639807488021837,6.620794467302512,35.77554503001347,0.0,0.0,10.619626706576751,0.0,0.0,0.0,18.435153926005523,15.004064837540422,0.0,35.2373711843647,30.212093538316473,2.8236841566564013,0.0,0.0,58.2,83.47013315061758,9.589074368143644,0.0,0.0,0.0,0.0,0.0,0.0,0.0,0.0,19.27278683069904,108.23606527410348,0.0,26.132433862433857,-1.3220332577475435,-5.254166666666666,-4.276563681027966,-5.863021056416394,-4.016576908541197,-7.302804232804235,0.0,0.3333333333333333,16,2,4,0,1,1,1,0,1,2,2,4,3,0,1,1,2,0.5378999999999999,59.56340000000003,0,0,0,0,0,0,0,0,0,0,2,2,0,0,0,0,2,0,0,0,0,0,0,0,0,0,0,2,0,0,0,0,0,0,1,0,0,0,0,0,0,0,0,0,0,0,0,0,0,0,0,0,0,0,0,0,0,0,0,0,0,0,0,0,0,0,0,0,0,0,0,0,0,0,0,0,0,0,0,0,0,0,0,0,0\n",
            "13.755054787551177,13.755054787551177,1.1953528649113963,-4.716628283257748,0.7778844237760111,81.7,270.37199999999973,248.19599999999994,270.1619799440004,106,0,0.29309232468190016,-0.5079560321952997,0.5079560321952997,0.29309232468190016,1.5,2.45,3.3,,,,,,,,,2.9120620133897104,2.5152318806735487,1429.244630386298,33.248558665513926,31.816496580927726,9.816496580927726,18.32945668678817,16.566496580927726,5.658248290463863,4.408248290463863,4.408248290463863,3.2436862178478973,3.2436862178478973,2.2411086270779395,2.2411086270779395,-1.3099999999999998,215885889.17430496,3.0640854868103857,4.094792569960965,1.5377621231173344,150.74499214572742,5.1088081911072125,11.532756779648844,0.0,0.0,1.4311996572326342,0.0,4.794537184071822,0.0,0.0,0.0,12.894310824958975,72.75823796145671,36.46156938179013,4.1122756685106605,38.689275054753665,5.783244946364939,1.4311996572326342,0.0,17.202905840122938,50.98339921063503,0.0,29.254159106383874,0.0,5.749511833283905,0.0,0.0,5.749511833283905,0.0,12.323252794704786,11.167462085401201,17.202905840122938,84.52330697227421,18.127256122989884,0.0,0.0,0.0,37.3,108.97322093679071,8.906812852582483,0.0,0.0,0.0,0.0,0.0,0.0,0.0,5.1088081911072125,26.10485366829659,188.2512148817159,0.0,13.755054787551177,4.119831649831649,-7.730123653628118,-17.5077504800895,-4.260077317964223,-26.273201858784034,-4.438281341966186,0.0,0.6111111111111112,20,1,2,3,0,3,1,0,1,2,1,2,2,2,0,2,4,3.817400000000002,77.73080000000004,0,0,0,0,0,0,0,1,0,0,1,1,0,0,0,0,0,0,0,0,0,0,0,0,0,0,0,0,0,0,0,0,0,0,1,0,5,0,0,0,0,0,0,0,0,0,0,0,0,0,0,1,1,0,0,0,0,0,0,0,0,0,0,0,0,1,1,0,0,0,0,0,0,0,0,0,0,0,0,0,0,0,0,0,0\n",
            "11.41952762460203,11.41952762460203,0.8371834845049129,-3.163772505144033,0.7852220850465939,21.533333333333335,226.65900000000008,215.57099999999997,226.039671892,80,0,0.30731569450998447,-0.48798856929345297,0.48798856929345297,0.30731569450998447,2.0,2.8666666666666667,3.6,,,,,,,,,2.5460783818785764,3.646473754157272,744.1362446558185,20.610365985079728,18.102709344400814,7.858638290419271,11.695317643342326,8.913727107896204,3.883443290441567,2.1346880055337416,2.512652478542969,1.1663152462066928,1.4324491576923526,0.6833269571283974,0.8636394719973808,-1.48,186194.71206678028,3.524880658063863,5.413038093450929,3.6364379535071216,108.4804237278972,9.84567114490726,12.308497076200194,0.0,0.0,1.4311996572326342,5.969305287951849,4.794537184071822,0.0,0.0,0.0,30.226469305933243,17.648288907023584,2.7415171123404405,22.361626664432464,28.347793890681277,17.570245178184365,1.4311996572326342,0.0,0.0,6.372924901329379,6.558985242916289,41.29645163646563,0.0,5.749511833283905,4.736862953800049,0.0,5.749511833283905,11.600939890232516,17.63709872197535,11.167462085401201,0.0,19.271037053399194,30.71036683102732,5.022633313741326,1.4311996572326342,0.0,46.53,65.94717890194705,4.794537184071822,0.0,0.0,0.0,0.0,0.0,0.0,0.0,5.1088081911072125,31.476588062967398,86.09153937137297,5.800677437641722,11.41952762460203,2.6918931429321047,-0.9852108003695299,-2.6668016525238296,-4.256029709219417,-3.163772505144033,-4.320711798180909,0.0,0.18181818181818182,15,1,3,0,0,0,1,0,1,3,1,4,5,0,0,0,1,2.5319000000000003,58.48380000000002,1,0,0,0,0,0,0,0,1,1,1,0,0,0,0,0,0,0,0,0,0,0,0,0,0,0,0,0,0,0,0,0,0,0,1,0,0,0,0,0,0,1,0,0,1,0,0,0,0,0,0,0,0,0,0,0,0,0,0,0,0,0,0,0,0,0,0,0,0,0,0,0,0,0,0,0,0,0,0,0,0,0,0,0,0\n",
            "12.511851851851851,12.511851851851851,0.17685185185185182,-1.5837037037037038,0.482564502908463,14.11111111111111,130.078,127.05399999999999,130.017855556,48,0,0.3253471361874118,-0.3111557027192775,0.3253471361874118,0.3111557027192775,1.7777777777777777,2.4444444444444446,3.111111111111111,,,,,,,,,2.0815718239857546,3.85837635403996,399.90471776467217,9.464101615137755,7.08888824493687,4.08888824493687,5.464101615137755,3.3860849089683085,1.9916577179683925,1.2371191833731205,1.2371191833731205,0.6346597363976281,0.6346597363976281,0.30567104619775776,0.30567104619775776,-1.3900000000000001,416.3143647971509,2.95363487933511,1.8479763724759504,1.042170728106469,52.69030344938387,4.977003270229252,0.0,2.8236841566564013,5.817220841045895,5.559266895052007,5.689743398203474,9.771540454301075,4.794537184071822,4.39041504767482,0.0,0.0,0.0,6.172895210814761,1.3707585561702202,8.584857760501441,0.0,0.0,9.954006540458504,0.0,0.0,0.0,32.82820071325978,0.0,0.0,11.24901029325548,4.39041504767482,0.0,0.0,9.954006540458504,0.0,5.817220841045895,1.3707585561702202,15.761969578958404,2.8236841566564013,0.0,0.0,65.72,23.239126345116134,13.979489415818463,0.0,9.954006540458504,0.0,0.0,0.0,0.0,0.0,0.0,4.194442712826621,32.60731481481481,0.0,20.676944444444445,0.0,-2.888981481481481,-1.5837037037037038,0.0,-1.144907407407407,0.0,0.0,0.0,9,2,4,0,0,0,0,1,1,2,2,5,0,0,0,0,1,-0.7977000000000001,27.641399999999994,0,0,0,0,0,2,2,0,0,0,0,0,0,0,0,0,2,0,0,0,0,2,0,0,0,0,0,0,0,0,0,0,0,0,0,0,0,0,0,0,0,0,0,0,1,0,0,0,0,0,0,0,0,0,0,0,0,0,0,0,0,0,0,0,0,0,0,0,0,0,0,0,0,0,0,0,0,0,0,0,0,0,0,0,0\n",
            "14.168060712711007,14.168060712711007,1.130222978080121,-4.195298130826407,0.8326610784751867,43.291666666666664,352.76999999999975,335.63400000000007,352.07136594400043,128,0,0.2307250674399266,-0.49616751844746326,0.49616751844746326,0.2307250674399266,1.375,2.125,2.8333333333333335,,,,,,,,,3.0630242319088667,2.604143798311254,1357.3529293527067,32.10192981664245,28.327454215792407,12.08338316181086,18.049983473961113,14.48022368882393,6.358188161833157,4.503161616207963,4.881126089217191,3.3254692884221386,3.6687548748888443,2.3097258264427003,2.5286141788022056,-2.21,130156960.03948574,5.66055218156775,5.7015415541703725,2.0215869901261305,167.7094908864664,18.947451815200196,22.08510847200613,17.29192165130502,11.384295757348628,0.0,0.0,9.589074368143644,0.0,0.0,0.0,18.452832007528194,0.0,32.58592437741264,36.19220149452019,51.839421638237624,23.167429782962394,0.0,0.0,5.893957685363079,18.825867829608747,21.113857376647765,28.439740130793357,0.0,17.248535499851716,14.210588861400147,0.0,17.248535499851716,11.600939890232516,38.281398080361335,9.53140013787187,5.893957685363079,46.88570114928765,17.853655325355035,5.022633313741326,0.0,0.0,71.06,103.08844841499455,9.589074368143644,0.0,0.0,0.0,0.0,0.0,0.0,0.0,9.473725907600098,44.37756125272638,151.36631750220118,6.154996251329749,27.02098236015616,-1.130222978080121,-5.231616000566895,-13.882524570045089,-3.0540677227681194,-4.033754251700681,-4.090027399848828,-10.592305412899528,0.4117647058823529,24,0,6,1,1,2,1,0,1,6,0,7,7,0,0,0,3,2.8103000000000007,86.12550000000006,0,0,0,0,0,0,0,0,0,0,2,2,0,0,0,0,0,0,0,0,0,0,0,0,0,0,1,0,0,0,0,0,0,0,1,0,1,0,0,0,0,4,0,0,1,0,0,0,0,0,0,2,1,0,0,3,0,0,0,0,0,0,0,0,0,0,0,0,0,0,0,0,0,0,0,0,0,0,0,0,0,0,0,0,0\n",
            "13.06320530990174,13.06320530990174,0.6843981481481487,-5.357097505668938,0.7928812498481534,22.5625,232.20500000000004,221.11699999999993,232.082347632,88,0,0.41598552440333647,-0.33065304227102926,0.41598552440333647,0.33065304227102926,1.5625,2.25,2.8125,,,,,,,,,2.3970697496319104,3.713777829174199,744.9653063298153,21.696152422706632,18.43656890049146,7.4365689004914595,11.830127018922195,9.086318438995626,3.6391048434956668,2.4511536481276273,2.4511536481276273,1.2940107918831907,1.2940107918831907,0.6771344724309608,0.6771344724309608,-1.7200000000000002,171093.25044972723,3.9406713667681452,4.422334219006161,3.1476482438299556,106.37172787380153,10.209723084138854,0.0,1.4118420783282006,0.0,0.0,12.207413029781547,0.0,4.794537184071822,13.171245143024459,0.0,6.042418707663295,18.127256122989884,27.863591412269372,11.046485716377875,33.08520996712668,11.718500787021634,0.0,4.899909730850478,0.0,6.176298517443475,19.261467153852866,29.733126322350174,0.0,0.0,5.309813353288376,23.653168601779846,0.0,0.0,24.882678043753042,6.176298517443475,0.0,19.271037053399194,24.16967483065318,1.4118420783282006,0.0,0.0,32.34,71.78930251151863,17.96578232709628,0.0,0.0,0.0,0.0,0.0,0.0,0.0,0.0,15.1194276400304,118.92074979528849,0.0,11.434372637944065,-0.6843981481481487,-3.5095441232048383,0.0,-8.13350678697405,-5.357097505668938,-7.25390920256992,0.0,0.3,16,1,3,0,0,0,1,0,1,1,1,6,3,0,0,0,1,2.7989000000000006,54.14970000000002,0,0,0,0,0,0,0,0,0,0,1,1,0,0,0,1,1,0,0,0,0,0,0,0,0,3,0,2,0,1,0,0,0,0,1,0,0,0,0,0,0,0,0,0,3,0,0,0,0,0,0,0,0,0,0,0,0,0,0,0,0,0,0,0,0,0,0,0,0,0,0,0,0,0,0,0,0,0,0,0,0,0,0,0,1\n",
            "15.30302484882842,15.30302484882842,0.09788359788359724,-3.9242592592592604,0.7515159753061997,20.818181818181817,306.2759999999998,294.18,306.1040654440003,114,0,0.21154775600786352,-0.38113798436276414,0.38113798436276414,0.21154775600786352,1.1818181818181819,1.8181818181818181,2.3181818181818183,,,,,,,,,3.276322016666457,2.595684645972768,1192.5360615557875,25.963737136208252,22.347458809482063,10.347458809482065,15.555490988648465,11.376404886204813,5.4681565957409495,3.729971084107062,3.729971084107062,2.293872595989213,2.293872595989213,1.4583161058439518,1.4583161058439518,-2.6799999999999993,16339804.21439962,5.840473735712772,5.6024467573223475,2.8375736961451246,140.36580156881902,5.1088081911072125,47.93201357362128,0.0,1.4311996572326342,0.0,0.0,0.0,28.11239300753443,10.197363616602075,0.0,6.042418707663295,6.042418707663295,11.60587019936029,22.589029261823427,28.96798240432927,0.0,1.4311996572326342,29.52892652878686,0.0,18.59477017961558,0.0,60.538636152643576,0.0,0.0,0.0,8.78083009534964,0.0,0.0,36.0689343771267,18.59477017961558,11.63444168209179,20.641795609569414,43.34074297885479,0.0,0.0,0.0,81.64999999999999,79.13340633225917,4.39041504767482,4.39041504767482,9.36360587029037,0.0,0.0,0.0,0.0,0.0,25.274128849603706,16.509543775105055,124.6395466952213,0.0,6.437642563198118,10.940770660115897,-5.593924792139079,-3.952777357856723,-4.714438040648357,-4.22023904006047,-7.619914021164024,0.0,0.23076923076923078,22,1,7,0,0,0,1,2,3,7,1,9,6,0,0,0,3,0.7357999999999993,70.29880000000001,0,1,0,0,0,6,0,0,0,0,0,0,0,0,0,6,0,0,0,0,0,0,0,0,0,0,0,0,0,0,0,0,0,0,1,0,0,0,0,0,0,0,0,0,2,0,0,0,0,0,0,0,0,0,0,0,0,0,0,0,0,0,0,0,0,0,0,0,0,0,0,0,0,0,0,0,0,0,0,0,0,0,0,0,0\n",
            "12.885976946334086,12.885976946334086,0.5961030801209375,-3.198918178382466,0.7085712012777102,22.31578947368421,260.24499999999995,248.14899999999994,260.06847348400015,98,0,0.20580271386149943,-0.4950531898511939,0.4950531898511939,0.20580271386149943,1.263157894736842,2.1052631578947367,2.8947368421052633,,,,,,,,,2.8529242625943794,2.67618354536447,1244.2291391598228,23.679280085832076,21.041241452319316,9.041241452319316,13.921339401989709,10.837117307087384,4.837117307087384,3.4850552344714183,3.4850552344714183,2.5122023499568544,2.5122023499568544,1.7914540594929909,1.7914540594929909,-2.43,2534004.4180517416,4.298420077410458,4.04936789559114,1.5103346567844445,124.7369631753143,18.30802778170679,18.266742022793363,16.594830675185023,5.749511833283905,0.0,0.0,4.794537184071822,0.0,0.0,0.0,0.0,12.894310824958975,10.154694376173955,36.66741221643249,34.75713045574943,21.938488712214074,0.0,0.0,0.0,6.851892117295679,14.075904917765177,34.30762704501414,0.0,11.49902366656781,14.90251629950064,0.0,11.49902366656781,0.0,14.075904917765177,0.0,6.851892117295679,22.20935009291708,31.952891108345845,0.0,21.938488712214074,0.0,61.81,83.87839927478505,4.794537184071822,0.0,0.0,0.0,0.0,0.0,0.0,0.0,0.0,34.75713045574943,109.75614626637692,0.0,12.885976946334086,-1.447792894935752,-2.9490325018896444,-2.8654620181405885,-1.930029328861175,-0.8558513243260271,-3.1190264786470143,-6.391595332577479,0.21428571428571427,19,0,5,0,0,0,1,2,3,5,0,5,5,0,0,0,3,2.8648200000000017,70.09700000000002,0,0,0,0,0,0,0,0,0,0,0,0,0,0,0,0,0,0,0,0,0,0,0,0,0,0,0,0,0,0,1,0,0,0,1,0,2,0,0,0,0,2,1,0,0,0,0,0,0,0,0,0,0,0,0,2,0,0,0,0,0,0,0,0,0,0,0,0,0,0,0,0,0,0,0,0,0,0,0,0,0,0,0,0,0\n",
            "8.702185610355253,8.702185610355253,0.1953130511463841,-3.898787797269115,0.8001222420891723,39.34782608695652,326.83099999999973,307.6790000000001,326.1298242880005,118,0,0.16660267269619608,-0.35347061187973944,0.35347061187973944,0.16660267269619608,1.2173913043478262,2.0434782608695654,2.869565217391304,,,,,,,,,2.954902845507353,2.285314786643976,1523.0969951270415,32.444711088220565,30.16681885500906,11.922747801027512,18.789358009941758,15.622263809504362,6.553014687013631,4.275050214004404,4.653014687013632,2.8347387025021593,3.0237209390067727,1.8782524562130287,2.0150012872017613,-2.0399999999999996,348696265.1869407,4.52463766909758,5.870760385193409,2.799077045717136,167.68710207706548,15.109632814989332,5.835619785757269,1.4118420783282006,0.0,0.0,0.0,0.0,4.992404732635669,0.0,0.0,23.685777305559107,37.187920438598724,51.85621971057722,26.45311666723954,26.08549608939216,34.49871850004047,0.0,9.799819461700956,4.992404732635669,0.0,38.2730789908344,52.88301575908139,0.0,0.0,5.309813353288376,17.062158824050687,0.0,11.600939890232516,48.598704885004246,0.0,0.0,30.23710550276095,47.28933568627873,6.434475392069527,0.0,0.0,30.869999999999997,113.64396973728587,0.0,0.0,10.209723084138854,0.0,0.0,0.0,0.0,0.0,4.992404732635669,37.68643597962468,157.9942761255099,6.021664140127191,3.113341217264376,-0.5087031178531001,-3.441279420718904,-1.2614452632905013,-6.551416093924136,0.0,-19.338659809337045,0.0,0.2777777777777778,23,1,4,0,2,2,2,0,2,4,1,5,1,0,1,1,4,3.7227000000000023,96.44370000000004,0,0,0,0,0,0,0,0,0,0,0,0,0,0,1,3,1,0,0,1,0,0,0,0,0,0,0,0,1,2,0,0,0,0,2,0,2,0,0,0,0,0,0,0,1,0,0,0,0,0,0,0,0,0,0,0,0,0,0,0,0,0,0,0,1,0,0,0,0,0,1,0,0,0,0,0,0,0,0,0,0,0,0,0,0\n",
            "13.003497538112194,13.003497538112194,1.1589764480682592,-5.184340513983375,0.6950885218084817,100.0909090909091,298.4259999999995,272.21799999999996,298.19328007200073,118,0,0.21221268931774748,-0.37703386990900173,0.37703386990900173,0.21221268931774748,1.5,2.4545454545454546,3.272727272727273,,,,,,,,,3.0007904412302437,2.604632429312948,1597.3191123369,38.35337115112852,36.816496580927726,10.816496580927726,20.808712952390003,19.066496580927726,6.158248290463863,4.885310363079829,4.885310363079829,3.6697172541558802,3.6697172541558802,2.4911086270779395,2.4911086270779395,-1.07,2242210005.794279,3.3347301310960122,4.7123736531989255,1.7524204432637707,169.53110806165327,5.1088081911072125,6.9718093671539085,5.783244946364939,1.4311996572326342,0.0,0.0,4.794537184071822,0.0,0.0,6.399401534821945,18.34543096622059,74.23837679679353,43.31536216264124,1.3707585561702202,44.17230927943456,5.783244946364939,1.4311996572326342,0.0,28.990821210849095,63.43634213891439,0.0,11.625176276104835,0.0,12.319835853677588,0.0,0.0,0.0,0.0,17.924303605688475,4.794537184071822,41.31065706452667,92.10425523218613,11.625176276104835,0.0,0.0,0.0,37.3,109.83558457223327,10.277571408752703,0.0,0.0,0.0,6.399401534821945,5.920434318855644,0.0,0.0,5.1088081911072125,30.21712933680725,227.60604676197576,0.0,13.003497538112194,4.327382893539775,-11.529853644389856,-21.012648600105543,-2.051483250203714,-36.378573955689326,-4.71436774323927,0.0,0.75,22,1,2,4,0,4,0,0,0,2,1,2,2,3,0,3,4,3.4925000000000024,85.87580000000005,0,1,0,0,0,0,0,0,0,0,1,1,0,0,0,0,0,0,0,0,0,0,0,0,0,0,1,0,0,0,0,0,0,0,0,0,5,0,0,0,0,0,0,0,0,0,0,0,0,0,0,1,0,0,0,0,0,0,0,0,0,0,0,0,0,0,0,0,0,0,0,0,0,0,0,0,0,0,1,0,0,0,0,0,0\n",
            "10.884334845049132,10.884334845049132,0.5541383219954648,-1.2212962962962963,0.5998689433499305,16.22222222222222,123.11099999999996,118.07099999999998,123.0320284,46,0,0.33675850149875663,-0.47759863228441196,0.47759863228441196,0.33675850149875663,2.0,2.888888888888889,3.6666666666666665,,,,,,,,,2.137828659085186,3.4372131656296214,394.298520592175,10.878315177510851,9.263710176427685,4.263710176427685,6.485269665192934,4.513710176427685,2.105461885963821,1.2478676751902336,1.2478676751902336,0.6711326424194053,0.6711326424194053,0.326879681079231,0.326879681079231,-1.38,1094.5682734516151,2.0967769821755518,2.2593342006647616,1.2528322001978998,59.083271826046165,5.1088081911072125,0.0,0.0,0.0,1.4311996572326342,5.969305287951849,4.9839785209472085,4.794537184071822,0.0,0.0,0.0,12.08483741532659,12.345790421629522,11.046485716377875,15.386379599859913,5.969305287951849,1.4311996572326342,4.9839785209472085,0.0,0.0,0.0,29.994079328653108,0.0,0.0,0.0,0.0,0.0,0.0,16.06209200000627,0.0,0.0,15.841022900449696,24.430627836956113,0.0,1.4311996572326342,0.0,50.19,35.963384616604955,4.794537184071822,0.0,0.0,0.0,0.0,0.0,0.0,0.0,10.092786712054421,6.914233881913516,34.953378684807255,0.0,14.128964474678762,3.5792951625094482,-0.5685185185185182,-1.2212962962962963,-1.1864351851851849,-1.1853883219954646,0.0,0.0,0.0,9,1,3,0,0,0,0,1,1,3,1,3,1,0,0,0,1,0.7797999999999999,31.196299999999994,0,0,0,0,1,1,0,0,1,1,1,0,0,0,0,1,0,0,0,0,0,0,0,0,0,0,0,0,0,0,0,0,0,0,0,0,0,0,0,0,0,0,0,0,0,0,0,0,0,0,0,0,0,0,0,0,0,0,0,0,0,0,0,0,0,0,0,0,0,0,0,0,0,1,0,0,0,0,0,0,0,0,0,0,0\n",
            "9.108865893005504,9.108865893005504,0.0010145557304648278,-4.685368362622829,0.7886610933771963,41.74074074074074,403.9789999999997,377.7710000000002,403.1485111320007,144,0,0.21010335117369147,-0.3950445544207227,0.3950445544207227,0.21010335117369147,1.037037037037037,1.7777777777777777,2.5925925925925926,,,,,,,,,3.0093191661169807,2.103795660636288,1772.8057073259135,41.57446760021749,39.03610184043683,14.608527367383008,23.433351515054913,19.972064142414084,8.258276905887174,4.6624226497002,6.061007848869084,3.0549176323423155,4.242970635609709,1.9956603107397402,3.018642856176849,-1.2399999999999998,31337872429.911686,5.266477831947204,8.842005109125582,4.437891045741215,206.87732832561537,14.908627652808168,0.0,0.0,1.4311996572326342,0.0,0.0,4.899909730850478,0.0,0.0,0.0,35.447662254950224,43.08187812396179,75.72689526939605,30.27058479781539,39.37777209536272,34.73759738899076,1.4311996572326342,9.799819461700956,0.0,16.16389185236493,56.93691276397837,47.319564267384386,0.0,0.0,4.899909730850478,11.374772549367124,0.0,23.36282483962363,68.3768303431687,0.0,0.0,40.64188880558489,52.08789790467861,5.022633313741326,0.0,0.0,29.950000000000003,136.69505116394532,0.0,0.0,4.899909730850478,11.761884949391115,0.0,0.0,0.0,0.0,5.1088081911072125,47.30110345172068,219.11632211408238,6.435625188095199,-3.238093048851514,2.7960771629264602,-1.9280376459631228,0.0,-6.696650109609151,-4.58265069916856,-35.20814851706724,0.0,0.42857142857142855,27,1,4,0,2,2,2,0,2,5,1,6,7,0,1,1,4,3.942700000000003,113.60580000000004,0,1,0,0,0,0,0,0,0,0,0,0,0,1,0,3,0,0,0,0,0,0,0,0,0,0,0,0,0,2,0,0,0,0,2,0,2,0,0,0,0,0,0,0,1,0,0,0,0,0,0,0,0,0,0,0,0,0,0,0,0,0,0,0,1,0,0,0,0,0,1,0,0,0,0,0,0,0,0,0,0,0,0,0,0\n",
            "7.353518518518518,7.353518518518518,0.010185185185185519,-0.3389531368102794,0.5208798044315195,15.6,132.12600000000003,128.094,132.043596128,48,0,0.1807559318552541,-0.24966012948719002,0.24966012948719002,0.1807559318552541,1.2,2.1,3.1,,,,,,,,,2.083229161656322,2.8852625767600575,514.6479306436569,10.292528739883945,8.788854381999831,4.7888543819998315,6.57538740046941,4.5388543819998315,2.538854381999832,1.5548373876248849,1.5548373876248849,0.9590169943749478,0.9590169943749478,0.5650657780874824,0.5650657780874824,-1.5799999999999998,1472.8430172910196,2.5740375043587767,1.982580223575813,0.699499318290727,62.61154157568947,0.0,13.190830987752708,5.647177220767728,0.0,0.0,0.0,0.0,19.935914083788834,0.0,0.0,0.0,0.0,12.345790421629522,10.28517087932542,5.483034224680881,11.16387793838399,0.0,19.935914083788834,0.0,0.0,0.0,24.82205734641051,0.0,0.0,0.0,0.0,0.0,0.0,19.935914083788834,0.0,0.0,5.483034224680881,24.82205734641051,0.0,11.16387793838399,0.0,51.56,0.0,0.0,0.0,35.9859352847945,0.0,0.0,0.0,0.0,0.0,19.935914083788834,5.483034224680881,28.881130007558575,0.0,14.303813303099018,0.0,0.05370370370370425,0.0,0.0,-1.2386470143612989,0.0,0.0,0.0,10,0,4,0,0,0,0,2,2,4,0,4,0,0,0,0,2,0.41979999999999984,35.12800000000001,0,0,0,0,0,4,0,0,0,0,0,0,0,0,0,4,0,0,0,0,0,0,0,0,0,0,0,0,0,0,0,0,0,0,0,0,1,0,0,0,0,0,0,0,0,0,0,0,0,0,0,0,0,0,0,0,0,0,0,0,0,0,0,0,0,0,0,0,0,0,0,0,0,0,0,0,0,0,0,0,0,0,0,0,0\n",
            "11.400445956160242,11.400445956160242,0.3488170823885115,-1.3062499999999997,0.5912712208356959,18.2,137.13800000000006,130.082,137.047678464,52,0,0.2931306834408045,-0.5071219157350979,0.5071219157350979,0.2931306834408045,1.8,2.6,3.3,,,,,,,,,2.293441923803925,3.637125670095916,476.0253935187034,13.325908934703554,11.763710176427685,4.763710176427685,7.82347362264446,5.684530569677621,2.381855088213842,1.5092767096404145,1.5092767096404145,0.8669585804149039,0.8669585804149039,0.4516188786161758,0.4516188786161758,-1.51,4279.562629818124,1.985036469518851,2.389632707443791,1.0748936229840518,68.12956880692468,10.828525166833487,5.749511833283905,2.8236841566564013,0.0,7.33837938658414,0.0,4.794537184071822,0.0,0.0,0.0,12.08483741532659,12.08483741532659,0.0,11.046485716377875,18.210063756516316,5.907179729351506,1.4311996572326342,0.0,5.719716975726273,0.0,0.0,29.733126322350174,0.0,5.749511833283905,5.719716975726273,0.0,5.749511833283905,0.0,12.447187577691352,0.0,0.0,15.841022900449696,24.16967483065318,2.8236841566564013,0.0,0.0,63.32000000000001,41.38981788498558,4.794537184071822,0.0,5.719716975726273,0.0,0.0,0.0,0.0,0.0,5.1088081911072125,9.737918038569916,49.64817554799697,0.0,11.400445956160242,3.9890740740740736,-1.0608541194255483,-2.00949074074074,-2.8006840513983366,0.0,0.0,0.0,0.0,10,3,3,0,0,0,1,0,1,2,2,3,2,0,0,0,1,0.49110000000000004,36.62470000000002,0,0,0,0,0,0,0,1,0,0,1,1,0,0,0,0,0,1,0,0,0,0,0,0,0,0,0,1,0,0,0,0,0,0,1,0,0,0,0,0,0,0,0,0,0,0,0,0,0,0,0,0,0,0,0,0,0,0,0,0,0,0,0,0,1,1,0,0,0,0,0,1,0,0,0,0,0,0,0,0,0,0,0,0,0\n",
            "11.596114890400603,11.596114890400603,0.1703316326530615,-4.814999999999999,0.5805509816764027,21.545454545454547,172.20900000000006,164.14499999999998,172.030648496,60,0,0.237547699257619,-0.3987277210995827,0.3987277210995827,0.237547699257619,1.3636363636363635,2.0,2.4545454545454546,,,,,,,,,2.255661387329797,3.8277946476405766,587.150552618355,15.118802153517006,13.119172062391506,5.935668643319231,8.529485756039968,6.232492844150132,3.8837017909509397,1.6527972828100679,3.011178252930246,0.8468192310751496,1.5668508954754696,0.4234096155375748,0.7834254477377348,-1.07,7849.701627907693,2.463154123257422,2.5192903206703843,1.9239700742334507,76.34395093623333,5.719716975726273,2.8236841566564013,2.8236841566564013,10.023291153407584,0.0,0.0,0.0,13.542820220500968,0.0,0.0,0.0,24.16967483065318,5.687386274683562,10.378517700198655,19.54819952232262,15.710677428091145,0.0,0.0,5.12502323617203,4.895483475517775,5.719716975726273,24.16967483065318,0.0,0.0,10.844740211898303,5.687386274683562,0.0,0.0,8.417796984328938,10.023291153407584,0.0,5.483034224680881,29.065158306170954,5.6473683133128025,0.0,0.0,86.18,49.90085897043413,8.417796984328938,0.0,5.719716975726273,0.0,0.0,0.0,0.0,0.0,0.0,11.130402537993682,80.390645313681,0.0,-1.1406481481481483,-0.7260648148148152,-0.8967564247921389,0.0,-3.8955092592592573,0.0,0.0,-4.814999999999999,0.0,11,4,4,0,0,0,1,0,1,3,2,5,3,0,0,0,1,-0.08380000000000004,42.2276,0,0,0,1,0,0,0,0,0,0,0,0,0,0,0,0,0,2,0,0,0,0,0,0,0,0,0,0,0,1,0,0,0,0,1,0,0,0,0,0,0,0,0,0,0,0,0,0,0,0,0,0,0,0,0,0,0,0,0,0,0,0,0,0,0,0,0,0,0,0,0,0,0,0,0,0,1,0,0,0,0,0,0,0,0\n",
            "13.146746044109406,13.146746044109406,0.8501317189971598,-5.952619073864108,0.8860379615947155,57.54545454545455,323.41799999999967,302.25000000000006,323.1303625320006,120,0,0.34270409217385467,-0.2697628252683694,0.34270409217385467,0.2697628252683694,1.4090909090909092,2.0454545454545454,2.6363636363636362,,,,,,,,,2.965829578845052,2.2199126936781983,1439.8016147064518,34.27350269189626,31.474633948355326,11.291130529283052,18.734827557301447,15.913010191632086,6.958646329432809,3.813461960437641,5.354417116392874,2.304243991801651,3.4208192049622483,1.4209730952864867,2.1144082148542527,-1.6,262011780.22784576,4.076187644672853,5.887683316002724,3.2502415458937195,160.07670566012195,0.0,0.0,2.8236841566564013,0.0,10.023291153407584,6.031114512338072,5.418816146392429,22.936366306089422,0.0,0.0,24.021213808352964,43.47049470600719,33.55509771118519,10.378517700198655,42.08043089229135,16.054405665745655,0.0,15.142848284081094,11.787915370726157,30.866150296801596,12.99371936863189,29.733126322350174,0.0,0.0,10.133935760126562,4.794537184071822,0.0,0.0,32.45154338925343,10.023291153407584,18.639807488021837,50.72663876291936,29.065158306170954,2.8236841566564013,0.0,0.0,78.50999999999999,116.5781653083366,13.212334168400758,0.0,0.0,0.0,0.0,0.0,0.0,0.0,0.0,28.868096723890577,193.01535245766817,0.0,11.297131616771539,-0.8501317189971598,-2.3138226995564812,-8.27211228094286,-8.576775243821862,-12.045250310363535,-11.71843941356037,-5.952619073864108,0.5333333333333333,22,2,6,1,1,2,1,0,1,4,2,7,4,1,1,2,3,1.6298199999999994,82.43620000000003,0,0,0,0,0,0,0,0,0,0,1,1,0,0,0,1,2,0,0,0,0,0,0,0,0,0,0,2,0,0,0,0,0,0,1,0,1,0,0,0,0,0,0,0,0,1,0,0,0,0,0,0,0,0,0,0,0,0,0,0,0,0,0,0,0,0,0,0,0,0,0,0,0,0,0,0,1,0,0,0,0,0,0,0,1\n",
            "9.412465750188964,9.412465750188964,1.2804614276266064,-5.3280234315948665,0.8747104302685795,70.27272727272727,301.4739999999994,270.226,301.24056461200087,122,0,0.21136820496973216,-0.38482782509344604,0.38482782509344604,0.21136820496973216,1.1818181818181819,1.8636363636363635,2.5454545454545454,,,,,,,,,2.9765286591944635,2.874497451932878,1588.0855921800849,42.748558665513926,41.85546188596382,10.855461885963821,22.852112056107202,21.283192828945733,5.874944538481869,3.852006611097835,3.852006611097835,2.5082704764773673,2.5082704764773673,1.5194948921890639,1.5194948921890639,-0.8600000000000001,13646860033.362597,2.9254145193221097,7.608623891357695,3.7212420871473175,178.72375359971974,10.00871792195769,0.0,0.0,1.4311996572326342,0.0,0.0,0.0,0.0,0.0,0.0,55.70379314363398,56.315753052338856,40.76582358857146,12.454843591834788,46.23156487621384,0.0,1.4311996572326342,4.899909730850478,5.893957685363079,62.95737492294809,19.490579052947837,35.77554503001347,0.0,0.0,0.0,0.0,0.0,0.0,30.930496632138162,5.601050810983688,5.893957685363079,104.04253228876789,30.212093538316473,0.0,0.0,0.0,23.47,129.017366422123,4.1122756685106605,0.0,0.0,0.0,0.0,0.0,0.0,0.0,5.1088081911072125,38.441680673828586,262.45042382430347,0.0,-1.2804614276266064,4.438008196334088,-7.396186447572858,-5.2360326908541195,-8.393921866573384,-42.08608529106344,-14.495744296947183,0.0,0.7,22,1,2,1,1,2,1,0,1,2,1,2,6,1,1,2,3,4.330500000000004,91.82180000000007,0,1,0,0,0,0,0,0,0,0,0,0,0,0,0,1,0,0,0,0,1,0,0,0,0,0,0,0,0,0,0,0,0,0,1,0,0,0,0,0,0,0,0,0,0,0,0,0,0,0,0,0,0,0,0,0,0,0,0,0,0,0,0,0,0,0,0,0,0,1,0,0,0,0,0,0,0,0,0,0,0,0,0,0,0\n",
            "8.358942743764173,8.358942743764173,0.207842025699168,-0.6098172293608803,0.36517781288626455,20.666666666666668,228.29400000000007,216.19799999999995,228.093900384,84,0,0.06294651451297219,-0.06160705884216388,0.06294651451297219,0.06160705884216388,0.3888888888888889,0.5555555555555556,0.7222222222222222,,,,,,,,,2.729538120015771,2.6643292114112676,1141.0081331933327,22.392304845413268,21.0,9.0,13.92820323027551,11.25,5.25,3.75,3.75,2.8125,2.8125,2.0625,2.0625,-2.339999999999999,3762482.6898495792,3.5802668494682544,3.5754525382851057,1.203029864239072,122.33604271671629,0.0,0.0,0.0,0.0,0.0,0.0,0.0,0.0,0.0,0.0,72.50902449195954,32.31734528678877,0.0,16.44910267404264,16.44910267404264,32.31734528678877,0.0,0.0,0.0,0.0,0.0,72.50902449195954,0.0,0.0,0.0,0.0,0.0,0.0,0.0,0.0,0.0,16.44910267404264,72.50902449195954,0.0,32.31734528678877,0.0,0.0,72.50902449195954,0.0,0.0,32.31734528678877,0.0,0.0,0.0,0.0,0.0,0.0,16.44910267404264,98.18183421516756,0.0,0.0,-1.2470521541950095,0.0,0.0,-6.934782060972537,0.0,0.0,0.0,0.0,18,0,0,0,0,0,4,0,4,0,0,0,0,0,0,0,4,5.146200000000003,78.96000000000005,0,0,0,0,0,0,0,0,0,0,0,0,0,0,0,0,0,0,0,0,0,0,0,0,0,0,0,0,0,0,0,0,0,0,4,0,6,0,0,0,0,0,0,0,0,0,0,0,0,0,0,0,0,0,0,0,0,0,0,0,0,0,0,0,0,0,0,0,0,0,0,0,0,0,0,0,0,0,0,0,0,0,0,0,0\n",
            "13.50325278761617,13.50325278761617,0.6563508747789393,-5.336738433799446,0.6395257442251707,71.625,429.60399999999953,394.3240000000002,429.266779360001,168,0,0.21221290876108181,-0.37766120681062115,0.37766120681062115,0.21221290876108181,1.28125,2.15625,2.90625,,,,,,,,,3.2140113767946628,2.4310598589763077,2449.8041944970905,53.04952357383516,50.763710176427686,15.763710176427685,29.2079363115293,26.237316974177663,8.8290686837138,6.819327357454775,6.819327357454775,5.005127450780851,5.005127450780851,3.5280792435444157,3.5280792435444157,-2.3099999999999996,8111558906025.316,5.1794573511088,7.631144053139787,3.1060786587995866,241.39799375043654,10.00871792195769,5.601050810983688,5.783244946364939,1.4311996572326342,0.0,0.0,4.794537184071822,0.0,0.0,5.920434318855644,30.430268381547183,91.72392660919579,77.0729112602737,6.853792780851101,56.509136284966566,11.470631221048501,1.4311996572326342,0.0,17.202905840122938,69.80926704024377,18.85156353141497,52.50451165859354,0.0,11.840868637711289,4.899909730850478,5.687386274683562,0.0,0.0,31.87595740625297,4.794537184071822,29.043774477834223,116.37745863074443,46.94106016689655,0.0,0.0,0.0,40.54,169.83887929142378,17.1313641896038,0.0,0.0,0.0,0.0,11.840868637711289,0.0,0.0,5.1088081911072125,35.70016356148814,310.15702331752084,0.0,12.84690191283723,4.539481144698721,-20.91036609437674,-15.327966584361743,-10.075287226543768,-33.62912262907284,-16.767330507368495,0.0,0.5517241379310345,32,1,3,4,0,4,1,0,1,3,1,3,6,2,0,2,5,5.406500000000006,129.4318,0,1,0,0,0,0,0,0,0,0,1,1,0,0,0,1,0,0,0,0,0,0,0,0,0,0,4,0,0,1,0,0,0,0,1,0,4,0,0,0,0,0,0,0,0,0,0,0,0,0,0,1,0,0,0,0,0,0,0,0,0,0,0,0,0,0,0,0,0,0,0,0,0,0,0,0,0,0,0,0,0,0,0,0,0\n",
            "\n"
          ]
        }
      ]
    },
    {
      "cell_type": "code",
      "source": [
        "#Variable definitions, if not defined in sections 2. and 3.\n",
        "data_dl = pd.read_csv(\"/content/Data_Drug_Like_Solubility.csv\", delimiter=';')\n",
        "data_dl= data_dl[data_dl['LogS exp (mol/L)'].apply(lambda x: x > -7.5 and x < 1.7)]\n",
        "df_descriptors = pd.read_csv(\"/content/Data_Solubility_descriptor.csv\", delimiter=';')\n",
        "data_cleaned_final = pd.read_csv(\"/content/Data_Cleaned_Final.csv\", delimiter=',')\n",
        "data_dl_descriptors = pd.read_csv(\"/content/Data_Solubility_Drug_Like_descriptor.csv\", delimiter=',')"
      ],
      "metadata": {
        "id": "MPM1lkSP-3n8"
      },
      "execution_count": null,
      "outputs": []
    },
    {
      "cell_type": "markdown",
      "source": [
        "## 4.2  Split the chemicals for training and validation set"
      ],
      "metadata": {
        "id": "b_Jh0XofAngT"
      }
    },
    {
      "cell_type": "code",
      "source": [
        "#Variable definitions for training and set validation\n",
        "x_train, x_valid, y_train, y_valid = train_test_split(df_descriptors, data_cleaned_final.logS, test_size=0.1,random_state=42)\n",
        "\n",
        "#Standardization of the features\n",
        "scaler = StandardScaler()\n",
        "scaler.fit(x_train)\n",
        "x_train_scaled = scaler.transform(x_train)\n",
        "x_valid_scaled = scaler.transform(x_valid)"
      ],
      "metadata": {
        "id": "xtfxtv4bQ1JW"
      },
      "execution_count": null,
      "outputs": []
    },
    {
      "cell_type": "markdown",
      "source": [
        "#5. Select Machine Learning Models\n",
        "\n",
        "Let's identify the optimal machine learning models for our water solubility predisction. To accomplish this, we will utilize the \"lazypredict\" library, specifically leveraging the \"LazyRegressor\" function to evaluate a selection of 42 machine learning models."
      ],
      "metadata": {
        "id": "ObN4zyriRhtz"
      }
    },
    {
      "cell_type": "code",
      "source": [
        "lregs = LazyRegressor(verbose=0,ignore_warnings=True, custom_metric=None,random_state=42)\n",
        "models, prediction_tests = lregs.fit(x_train_scaled, x_valid_scaled, y_train, y_valid)"
      ],
      "metadata": {
        "id": "fVj91hWoRkr-"
      },
      "execution_count": null,
      "outputs": []
    },
    {
      "cell_type": "code",
      "source": [
        "#The top five models\n",
        "prediction_tests[:5]"
      ],
      "metadata": {
        "id": "djOzUCFpWF-z"
      },
      "execution_count": null,
      "outputs": []
    },
    {
      "cell_type": "markdown",
      "source": [
        "# 6. Fine-tuning\n",
        "\n",
        "We decided to use the top 3 models, starting from the fatest to the slowest."
      ],
      "metadata": {
        "id": "WHz1RVk6WlW5"
      }
    },
    {
      "cell_type": "markdown",
      "source": [
        "## 6.1 LGBMRegressor\n",
        "\n",
        "We decided to take the LGBMRegressor model because the results generated by this model are comparable to the ExtraTreesRegressor model, but takes a lot less time than the ExtraTreesRegressor model.Let's performs a grid search using GridSearchCV from scikit-learn to find the best hyperparameters for a LightGBM regressor:"
      ],
      "metadata": {
        "id": "i0xvrdCh28V5"
      }
    },
    {
      "cell_type": "code",
      "source": [
        "params = {'max_depth' : list(range(20, 30, 1)),\n",
        "          'n_estimators' : list(range(1278, 1280, 1)) ,\n",
        "          'learning_rate': list(np.arange(0.04, 0.05, 0.01))}\n",
        "\n",
        "grid_search = GridSearchCV(LGBMRegressor(random_state = 42),\n",
        "                            param_grid=params, cv=5, verbose=1)\n",
        "\n",
        "grid_search.fit(x_train, y_train)\n",
        "\n",
        "print(\"Optimized parameters for a LightGBM regressor can be: \", grid_search.best_params_)"
      ],
      "metadata": {
        "id": "4C5cOJ4hXG3M"
      },
      "execution_count": null,
      "outputs": []
    },
    {
      "cell_type": "markdown",
      "source": [
        "We obtained:\n",
        "* learning_rate: 0.01\n",
        "* max_depth: 26\n",
        "* n_estmitors: 901\n",
        "\n",
        "Let's optimize again with new ranges for max_depth, n_estmitors and learning_rate to obtain even better parameters:\n"
      ],
      "metadata": {
        "id": "ELET-iZOcmPx"
      }
    },
    {
      "cell_type": "code",
      "source": [
        "#params_bst = {\"max_depth\" : list(range(20, 36, 4)),\n",
        "#         \"n_estimators\" : list(range(850, 1200, 50)),\n",
        "#         \"learning_rate\" : list(np.arange(0.01, 0.05, 0.01))}\n",
        "#\n",
        "#grid_search_bst = GridSearchCV(LGBMRegressor(random_state = 42),\n",
        "#                                  param_grid=params_bst, cv=3, verbose=1)\n",
        "#\n",
        "#grid_search_bst.fit(x_train, y_train)\n",
        "#print(\"The best parameters are: \", grid_search_bst.best_params_)"
      ],
      "metadata": {
        "id": "Kwe8dQKHNTzt"
      },
      "execution_count": null,
      "outputs": []
    },
    {
      "cell_type": "markdown",
      "source": [
        "We obtained:\n",
        "* learning_rate: 0.04\n",
        "* max_depth: 24\n",
        "* n_estmitors: 1151\n",
        "\n",
        "These are the parameters we will use for our standard LGBMRegressor model.\n",
        "\n",
        "We also wanted to see if by making new runs and trying to optimize these three hyperparameters even further, we could get an even better model. We therefore made a total of 6 runs (compared with the 2 runs for standard models) for this model and obtained these parameters:\n",
        "* learning_rate: 0.04\n",
        "* max_depth: 21\n",
        "* n_estmitors: 1279\n",
        "\n",
        "These are the parameters we will use for our studious LGBMRegressor model."
      ],
      "metadata": {
        "id": "s-EtroNCMEW2"
      }
    },
    {
      "cell_type": "markdown",
      "source": [
        "##6.2 XGB Regressor\n",
        "In order to compare our results obtained for the first model, we have chosen XGB Regressor as the second model for the reasons presented above.\n",
        "\n",
        "The following code performs hyperparameter optimisation for the XGBoost regression model using grid search with cross-validation.\n",
        "\n",
        "1. We splited the training data associated with their target variable (i.e. logS in our case) into training and validation sets using train_test_split. The size of the validation set is set to 20% of the total data, and a random seed of 42 is used for reproducibility\n",
        "\n",
        "2. The training and validation features are scaled using StandardScaler, which standardises the features by removing the mean and obtaining a unit variance\n",
        "\n",
        "3. A grid of hyperparameters to explore is defined, including the max_depths, n_estimators and learning_rates lists, containing different values for each hyperparameter. By initialising the best_score and best_params variables, the best performances obtained during the search are tracked\n",
        "\n",
        "4. All the combinations of hyperparameters defined in the grid are tested. For each combination, it creates an XGBoost regression model with the current hyperparameters, fits it to the training data and then evaluates its performance on the validation set using the coefficient of determination score (R^2)\n",
        "\n",
        "5. If the current combination of hyperparameters produces a higher score than the previous score, the best_score and best_params variables change with the new values\n",
        "\n",
        "6. The optimised values are then displayed at the end of the various tests"
      ],
      "metadata": {
        "id": "j_Azw2-qZRI7"
      }
    },
    {
      "cell_type": "code",
      "source": [
        "import numpy as np\n",
        "from xgboost import XGBRegressor\n",
        "from sklearn.model_selection import train_test_split\n",
        "from sklearn.preprocessing import StandardScaler\n",
        "\n",
        "# Assuming x_train and y_train are already defined\n",
        "\n",
        "# Split data into training and validation sets\n",
        "x_train, x_val, y_train, y_val = train_test_split(x_train, y_train, test_size=0.2, random_state=42)\n",
        "\n",
        "# Data preprocessing\n",
        "scaler = StandardScaler()\n",
        "x_train_scaled = scaler.fit_transform(x_train)\n",
        "x_val_scaled = scaler.transform(x_val)\n",
        "\n",
        "# Define the parameter grid\n",
        "max_depths = list(range(2, 32, 8))\n",
        "n_estimators = list(range(1, 201, 20))\n",
        "learning_rates = list(np.arange(0.01, 1.02, 0.25))\n",
        "\n",
        "best_score = float('-inf')\n",
        "best_params = {}\n",
        "\n",
        "# Iterate over parameter combinations\n",
        "for max_depth in max_depths:\n",
        "    for n_estimator in n_estimators:\n",
        "        for learning_rate in learning_rates:\n",
        "            # Create XGBoost regressor with current parameters\n",
        "            xgb_regressor = XGBRegressor(max_depth=max_depth,\n",
        "                                         n_estimators=n_estimator,\n",
        "                                         learning_rate=learning_rate,\n",
        "                                         random_state=42)\n",
        "\n",
        "            # Fit the model\n",
        "            xgb_regressor.fit(x_train_scaled, y_train)\n",
        "\n",
        "            # Evaluate the model\n",
        "            score = xgb_regressor.score(x_val_scaled, y_val)  # Using the validation set for evaluation\n",
        "\n",
        "            # Check if current parameters yield better score\n",
        "            if score > best_score:\n",
        "                best_score = score\n",
        "                best_params = {'max_depth': max_depth, 'n_estimators': n_estimator, 'learning_rate': learning_rate}\n",
        "\n",
        "# Print the best parameters found\n",
        "print(\"Optimized parameters for an XGBoost regressor can be:\", best_params)"
      ],
      "metadata": {
        "id": "CiCxejpQZWW8"
      },
      "execution_count": null,
      "outputs": []
    },
    {
      "cell_type": "markdown",
      "source": [
        "We obtained for this first run:\n",
        "- max_depth: 2\n",
        "- n_estimators: 181\n",
        "- learning_rate: 0.26"
      ],
      "metadata": {
        "id": "X5ES7ZsPZh54"
      }
    },
    {
      "cell_type": "code",
      "source": [
        "import numpy as np\n",
        "from xgboost import XGBRegressor\n",
        "from sklearn.model_selection import train_test_split\n",
        "from sklearn.preprocessing import StandardScaler\n",
        "\n",
        "# Assuming x_train and y_train are already defined\n",
        "\n",
        "# Split data into training and validation sets\n",
        "x_train, x_val, y_train, y_val = train_test_split(x_train, y_train, test_size=0.2, random_state=42)\n",
        "\n",
        "# Data preprocessing\n",
        "scaler = StandardScaler()\n",
        "x_train_scaled = scaler.fit_transform(x_train)\n",
        "x_val_scaled = scaler.transform(x_val)\n",
        "\n",
        "# Define the parameter grid\n",
        "max_depths = list(range(2, 6, 1))\n",
        "n_estimators = list(range(100, 700, 50))\n",
        "learning_rates = list(np.arange(0.05, 0.30, 0.05))\n",
        "\n",
        "best_score = float('-inf')\n",
        "best_params = {}\n",
        "\n",
        "# Iterate over parameter combinations\n",
        "for max_depth in max_depths:\n",
        "    for n_estimator in n_estimators:\n",
        "        for learning_rate in learning_rates:\n",
        "            # Create XGBoost regressor with current parameters\n",
        "            xgb_regressor = XGBRegressor(max_depth=max_depth,\n",
        "                                         n_estimators=n_estimator,\n",
        "                                         learning_rate=learning_rate,\n",
        "                                         random_state=42)\n",
        "\n",
        "            # Fit the model\n",
        "            xgb_regressor.fit(x_train_scaled, y_train)\n",
        "\n",
        "            # Evaluate the model\n",
        "            score = xgb_regressor.score(x_val_scaled, y_val)  # Using the validation set for evaluation\n",
        "\n",
        "            # Check if current parameters yield better score\n",
        "            if score > best_score:\n",
        "                best_score = score\n",
        "                best_params = {'max_depth': max_depth, 'n_estimators': n_estimator, 'learning_rate': learning_rate}\n",
        "\n",
        "# Print the best parameters found\n",
        "print(\"Optimized parameters for an XGBoost regressor can be:\", best_params)"
      ],
      "metadata": {
        "id": "A0hA410WZqpG"
      },
      "execution_count": null,
      "outputs": []
    },
    {
      "cell_type": "markdown",
      "source": [
        "\n",
        "We obtained for this second run:\n",
        "\n",
        "- max_depth: 5\n",
        "- n_estimators: 500\n",
        "- learning_rate: 0.1\n",
        "\n",
        "These are the parameters we will use for our standard LGBMRegressor model."
      ],
      "metadata": {
        "id": "F3NB61q4ZvZM"
      }
    },
    {
      "cell_type": "markdown",
      "source": [
        "##6.3 HistGradientBoostingClassifier"
      ],
      "metadata": {
        "id": "bRY1jKRD9X_O"
      }
    },
    {
      "cell_type": "code",
      "source": [
        "from sklearn.experimental import enable_hist_gradient_boosting\n",
        "from sklearn.ensemble import HistGradientBoostingRegressor\n",
        "from sklearn.model_selection import GridSearchCV\n",
        "import numpy as np\n",
        "\n",
        "# Define the parameter grid\n",
        "params = {\n",
        "    'max_depth': list(range(20, 30, 1)),\n",
        "    'learning_rate': list(np.arange(0.04, 0.05, 0.01))\n",
        "}\n",
        "\n",
        "# Create a GridSearchCV instance for HistGradientBoostingRegressor\n",
        "grid_search = GridSearchCV(\n",
        "    HistGradientBoostingRegressor(random_state=42),\n",
        "    param_grid=params,\n",
        "    cv=5,\n",
        "    verbose=1\n",
        ")\n",
        "\n",
        "# Fit the GridSearchCV instance\n",
        "grid_search.fit(x_train, y_train)\n",
        "\n",
        "# Print the optimized parameters\n",
        "print(\"Optimized parameters for a HistGradientBoostingRegressor:\")\n",
        "print(grid_search.best_params_)"
      ],
      "metadata": {
        "id": "0Xx80hza9fTG"
      },
      "execution_count": null,
      "outputs": []
    },
    {
      "cell_type": "markdown",
      "source": [
        "We obtained for this first run:\n",
        "- learning_rate: 0.05\n",
        "\n",
        "- max_depth: 20"
      ],
      "metadata": {
        "id": "CWxeqpDo9jRD"
      }
    },
    {
      "cell_type": "code",
      "source": [
        "from sklearn.experimental import enable_hist_gradient_boosting\n",
        "from sklearn.ensemble import HistGradientBoostingRegressor\n",
        "from sklearn.model_selection import GridSearchCV\n",
        "import numpy as np\n",
        "\n",
        "# Define the parameter grid\n",
        "params = {\n",
        "    'max_depth': list(range(1, 21, 2)),\n",
        "    'learning_rate': list(np.arange(0.04, 0.10, 0.02))\n",
        "}\n",
        "\n",
        "# Create a GridSearchCV instance for HistGradientBoostingRegressor\n",
        "grid_search = GridSearchCV(\n",
        "    HistGradientBoostingRegressor(random_state=42),\n",
        "    param_grid=params,\n",
        "    cv=5,\n",
        "    verbose=1\n",
        ")\n",
        "\n",
        "# Fit the GridSearchCV instance\n",
        "grid_search.fit(x_train, y_train)\n",
        "\n",
        "# Print the optimized parameters\n",
        "print(\"Optimized parameters for a HistGradientBoostingRegressor:\")\n",
        "print(grid_search.best_params_)"
      ],
      "metadata": {
        "id": "ISAhddXg9r8i"
      },
      "execution_count": null,
      "outputs": []
    },
    {
      "cell_type": "markdown",
      "source": [
        "We obtained for the second run:\n",
        "- learning_rate: 0.07999999999999999\n",
        "\n",
        "- max_depth: 13"
      ],
      "metadata": {
        "id": "mIlluNHK9rsu"
      }
    },
    {
      "cell_type": "code",
      "source": [
        "from sklearn.experimental import enable_hist_gradient_boosting\n",
        "from sklearn.ensemble import HistGradientBoostingRegressor\n",
        "from sklearn.model_selection import GridSearchCV\n",
        "import numpy as np\n",
        "\n",
        "# Define the parameter grid\n",
        "params = {\n",
        "    'max_depth': list(range(11, 15, 1)),\n",
        "    'learning_rate': list(np.arange(0.06, 0.10, 0.005))\n",
        "}\n",
        "\n",
        "# Create a GridSearchCV instance for HistGradientBoostingRegressor\n",
        "grid_search = GridSearchCV(\n",
        "    HistGradientBoostingRegressor(random_state=42),\n",
        "    param_grid=params,\n",
        "    cv=5,\n",
        "    verbose=1\n",
        ")\n",
        "\n",
        "# Fit the GridSearchCV instance\n",
        "grid_search.fit(x_train, y_train)\n",
        "\n",
        "# Print the optimized parameters\n",
        "print(\"Optimized parameters for a HistGradientBoostingRegressor:\")\n",
        "print(grid_search.best_params_)"
      ],
      "metadata": {
        "id": "NbtASicn97tn"
      },
      "execution_count": null,
      "outputs": []
    },
    {
      "cell_type": "markdown",
      "source": [
        "Finally, we obtained for the second run:\n",
        "\n",
        "- learning_rate: 0.095\n",
        "\n",
        "- max_depth: 14"
      ],
      "metadata": {
        "id": "dOxS0gRw976e"
      }
    },
    {
      "cell_type": "markdown",
      "source": [
        "# 7. Models for training and test data\n",
        "\n",
        "Let's test our models on the training and test set with the best parameters found with the fine tunning:"
      ],
      "metadata": {
        "id": "dgaMm6uzhaz6"
      }
    },
    {
      "cell_type": "markdown",
      "source": [
        "## 7.1.1 LGBMRegressor (trained 2 times)"
      ],
      "metadata": {
        "id": "IO4jj8ua_RTv"
      }
    },
    {
      "cell_type": "code",
      "source": [
        "model = LGBMRegressor(n_estimators = 1151,\n",
        "                      max_depth = 24,\n",
        "                      learning_rate = 0.04,\n",
        "                      random_state= 42)\n",
        "\n",
        "model.fit(x_train_scaled,y_train)\n",
        "y_preds = model.predict(x_valid_scaled)"
      ],
      "metadata": {
        "id": "7ZB6UZyv_Whm"
      },
      "execution_count": null,
      "outputs": []
    },
    {
      "cell_type": "code",
      "source": [
        "def plot_data(actual, predicted, title):\n",
        "\n",
        "    rmse = np.sqrt(mean_squared_error(actual, predicted))\n",
        "\n",
        "    R2 =r2_score(actual, predicted)\n",
        "    plt.figure(figsize=(8,6))\n",
        "\n",
        "# Plot the figure\n",
        "    sn.regplot(x=predicted , y=actual,line_kws={\"lw\":2,\n",
        "                                                \"ls\":\"--\",\n",
        "                                                \"color\":\"red\",\n",
        "                                                \"alpha\":0.7})\n",
        "    plt.title(title, color=\"red\")\n",
        "    plt.xlabel(\"Predicted logS(mol/L)\",\n",
        "               color=\"blue\")\n",
        "    plt.xlim(-8,1)\n",
        "    plt.ylabel(\"Experimental logS(mol/L)\",\n",
        "               color =\"blue\")\n",
        "\n",
        "    plt.grid(alpha=0.3)\n",
        "    R2 = mpatches.Patch(label=\"R2={:04.2f}\".format(R2))\n",
        "    rmse = mpatches.Patch(label=\"RMSE={:04.2f}\".format(rmse))\n",
        "    plt.legend(handles=[R2, rmse])"
      ],
      "metadata": {
        "id": "tVVHCJIu_Wdf"
      },
      "execution_count": null,
      "outputs": []
    },
    {
      "cell_type": "markdown",
      "source": [
        "Let's plot the predicted logS of the validation set and see if our model works."
      ],
      "metadata": {
        "id": "xDkRIG3R_XKW"
      }
    },
    {
      "cell_type": "code",
      "source": [
        "sn.set_theme(style=\"whitegrid\")\n",
        "plot_data(y_valid,y_preds,\"Validation data LGBM\")\n",
        "\n",
        "# Save the plot as PNG\n",
        "plt.savefig('/content/data_LGBM.png')\n",
        "\n",
        "# Download the plot\n",
        "files.download('/content/data_LGBM.png')\n",
        "\n",
        "# Save data to CSV\n",
        "data_to_save = pd.DataFrame({'True Values': data_dl[\"LogS exp (mol/L)\"], 'Predicted Values': y_test_preds})\n",
        "data_to_save.to_csv('/content/data_LGBM.csv', index=False)\n",
        "files.download('/content/data_LGBM.csv')"
      ],
      "metadata": {
        "id": "QLHABobb_c4I"
      },
      "execution_count": null,
      "outputs": []
    },
    {
      "cell_type": "code",
      "source": [
        "# Standard scaler - transform\n",
        "x_scaled_test = scaler.transform(data_dl_descriptors)\n",
        "\n",
        "# Predict solubility of the test data\n",
        "y_test_preds = model.predict(x_scaled_test)"
      ],
      "metadata": {
        "id": "O1yGwZGX_cx_"
      },
      "execution_count": null,
      "outputs": []
    },
    {
      "cell_type": "code",
      "source": [
        "# Plotting testing set\n",
        "sns.set_theme(style=\"whitegrid\")\n",
        "plot_data(data_dl[\"LogS exp (mol/L)\"], y_test_preds,\n",
        "           \"Test data: Drug-like Molecules\")\n",
        "\n",
        "# Save the plot as PNG\n",
        "plt.savefig('/content/test_data_LGBM.png')\n",
        "\n",
        "# Download the plot\n",
        "files.download('/content/test_data_LGBM.png')\n",
        "\n",
        "# Save data to CSV\n",
        "data_to_save = pd.DataFrame({'True Values': data_dl[\"LogS exp (mol/L)\"], 'Predicted Values': y_test_preds})\n",
        "data_to_save.to_csv('/content/test_data_LGBM.csv', index=False)\n",
        "files.download('/content/test_data_LGBM.csv')"
      ],
      "metadata": {
        "id": "qlOry-3U_csy"
      },
      "execution_count": null,
      "outputs": []
    },
    {
      "cell_type": "markdown",
      "source": [
        "## 7.1.2 LGBMRegressor (trained 6 times)\n",
        "\n",
        "\n",
        "\n",
        "\n"
      ],
      "metadata": {
        "id": "dfuMUiEYAu01"
      }
    },
    {
      "cell_type": "code",
      "source": [
        "model = LGBMRegressor(n_estimators = 1279,\n",
        "                      max_depth = 21,\n",
        "                      learning_rate = 0.04,\n",
        "                      random_state= 42)\n",
        "\n",
        "model.fit(x_train_scaled,y_train)\n",
        "y_preds = model.predict(x_valid_scaled)"
      ],
      "metadata": {
        "id": "lV5YnDz4BOhz",
        "outputId": "817c98e0-14a1-4682-c6ef-2dd86dda271d",
        "colab": {
          "base_uri": "https://localhost:8080/"
        }
      },
      "execution_count": 23,
      "outputs": [
        {
          "output_type": "stream",
          "name": "stdout",
          "text": [
            "[LightGBM] [Warning] Accuracy may be bad since you didn't explicitly set num_leaves OR 2^max_depth > num_leaves. (num_leaves=31).\n",
            "[LightGBM] [Warning] Accuracy may be bad since you didn't explicitly set num_leaves OR 2^max_depth > num_leaves. (num_leaves=31).\n",
            "[LightGBM] [Info] Auto-choosing col-wise multi-threading, the overhead of testing was 0.163531 seconds.\n",
            "You can set `force_col_wise=true` to remove the overhead.\n",
            "[LightGBM] [Info] Total Bins 20903\n",
            "[LightGBM] [Info] Number of data points in the train set: 8594, number of used features: 195\n",
            "[LightGBM] [Info] Start training from score -2.762630\n",
            "[LightGBM] [Warning] Accuracy may be bad since you didn't explicitly set num_leaves OR 2^max_depth > num_leaves. (num_leaves=31).\n"
          ]
        }
      ]
    },
    {
      "cell_type": "code",
      "source": [
        "# A plotting function\n",
        "def plot_data(actual, predicted, title):\n",
        "\n",
        "# model performance using RMSE\n",
        "    rmse = np.sqrt(mean_squared_error(actual, predicted))\n",
        "\n",
        "# R^2 (coefficient of determination) :\n",
        "    R2 =r2_score(actual, predicted)\n",
        "    plt.figure(figsize=(8,6))\n",
        "\n",
        "# Plot the figure\n",
        "    sn.regplot(x=predicted , y=actual,line_kws={\"lw\":2,\n",
        "                                                \"ls\":\"--\",\n",
        "                                                \"color\":\"red\",\n",
        "                                                \"alpha\":0.7})\n",
        "    plt.title(title, color=\"red\")\n",
        "    plt.xlabel(\"Predicted logS(mol/L)\",\n",
        "               color=\"blue\")\n",
        "    plt.xlim(-8,1)\n",
        "    plt.ylabel(\"Experimental logS(mol/L)\",\n",
        "               color =\"blue\")\n",
        "\n",
        "    plt.grid(alpha=0.3)\n",
        "    R2 = mpatches.Patch(label=\"R2={:04.2f}\".format(R2))\n",
        "    rmse = mpatches.Patch(label=\"RMSE={:04.2f}\".format(rmse))\n",
        "    plt.legend(handles=[R2, rmse])"
      ],
      "metadata": {
        "id": "vYAhA4_1ChMy"
      },
      "execution_count": 24,
      "outputs": []
    },
    {
      "cell_type": "markdown",
      "source": [
        "Let's plot the predicted logS of the validation set and see if our model works.\n",
        "\n",
        "\n"
      ],
      "metadata": {
        "id": "oLXafM4bEpJg"
      }
    },
    {
      "cell_type": "code",
      "source": [
        "from google.colab import files\n",
        "\n",
        "sn.set_theme(style=\"whitegrid\")\n",
        "plot_data(y_valid,y_preds,\"Validation data LGBM (6 trainings)\")\n",
        "\n",
        "# Save the plot as PNG\n",
        "plt.savefig('/content/data_LGBM_6trainings.png')\n",
        "\n",
        "# Download the plot\n",
        "files.download('/content/data_LGBM_6trainings.png')\n",
        "\n",
        "# Save data to CSV\n",
        "data_to_save = pd.DataFrame({'True Values': data_dl[\"LogS exp (mol/L)\"], 'Predicted Values': y_test_preds})\n",
        "data_to_save.to_csv('/content/data_LGBM_6trainings.csv', index=False)\n",
        "files.download('/content/data_LGBM_6trainings.csv')"
      ],
      "metadata": {
        "id": "xtO2vsUUEnMh",
        "outputId": "d554161f-4ca5-4f82-ce2d-5d595743e0e2",
        "colab": {
          "base_uri": "https://localhost:8080/",
          "height": 573
        }
      },
      "execution_count": 34,
      "outputs": [
        {
          "output_type": "display_data",
          "data": {
            "text/plain": [
              "<IPython.core.display.Javascript object>"
            ],
            "application/javascript": [
              "\n",
              "    async function download(id, filename, size) {\n",
              "      if (!google.colab.kernel.accessAllowed) {\n",
              "        return;\n",
              "      }\n",
              "      const div = document.createElement('div');\n",
              "      const label = document.createElement('label');\n",
              "      label.textContent = `Downloading \"${filename}\": `;\n",
              "      div.appendChild(label);\n",
              "      const progress = document.createElement('progress');\n",
              "      progress.max = size;\n",
              "      div.appendChild(progress);\n",
              "      document.body.appendChild(div);\n",
              "\n",
              "      const buffers = [];\n",
              "      let downloaded = 0;\n",
              "\n",
              "      const channel = await google.colab.kernel.comms.open(id);\n",
              "      // Send a message to notify the kernel that we're ready.\n",
              "      channel.send({})\n",
              "\n",
              "      for await (const message of channel.messages) {\n",
              "        // Send a message to notify the kernel that we're ready.\n",
              "        channel.send({})\n",
              "        if (message.buffers) {\n",
              "          for (const buffer of message.buffers) {\n",
              "            buffers.push(buffer);\n",
              "            downloaded += buffer.byteLength;\n",
              "            progress.value = downloaded;\n",
              "          }\n",
              "        }\n",
              "      }\n",
              "      const blob = new Blob(buffers, {type: 'application/binary'});\n",
              "      const a = document.createElement('a');\n",
              "      a.href = window.URL.createObjectURL(blob);\n",
              "      a.download = filename;\n",
              "      div.appendChild(a);\n",
              "      a.click();\n",
              "      div.remove();\n",
              "    }\n",
              "  "
            ]
          },
          "metadata": {}
        },
        {
          "output_type": "display_data",
          "data": {
            "text/plain": [
              "<IPython.core.display.Javascript object>"
            ],
            "application/javascript": [
              "download(\"download_b125ffc1-3652-42ec-a750-e2442b3e9f1b\", \"data_LGBM_6trainings.png\", 101698)"
            ]
          },
          "metadata": {}
        },
        {
          "output_type": "display_data",
          "data": {
            "text/plain": [
              "<IPython.core.display.Javascript object>"
            ],
            "application/javascript": [
              "\n",
              "    async function download(id, filename, size) {\n",
              "      if (!google.colab.kernel.accessAllowed) {\n",
              "        return;\n",
              "      }\n",
              "      const div = document.createElement('div');\n",
              "      const label = document.createElement('label');\n",
              "      label.textContent = `Downloading \"${filename}\": `;\n",
              "      div.appendChild(label);\n",
              "      const progress = document.createElement('progress');\n",
              "      progress.max = size;\n",
              "      div.appendChild(progress);\n",
              "      document.body.appendChild(div);\n",
              "\n",
              "      const buffers = [];\n",
              "      let downloaded = 0;\n",
              "\n",
              "      const channel = await google.colab.kernel.comms.open(id);\n",
              "      // Send a message to notify the kernel that we're ready.\n",
              "      channel.send({})\n",
              "\n",
              "      for await (const message of channel.messages) {\n",
              "        // Send a message to notify the kernel that we're ready.\n",
              "        channel.send({})\n",
              "        if (message.buffers) {\n",
              "          for (const buffer of message.buffers) {\n",
              "            buffers.push(buffer);\n",
              "            downloaded += buffer.byteLength;\n",
              "            progress.value = downloaded;\n",
              "          }\n",
              "        }\n",
              "      }\n",
              "      const blob = new Blob(buffers, {type: 'application/binary'});\n",
              "      const a = document.createElement('a');\n",
              "      a.href = window.URL.createObjectURL(blob);\n",
              "      a.download = filename;\n",
              "      div.appendChild(a);\n",
              "      a.click();\n",
              "      div.remove();\n",
              "    }\n",
              "  "
            ]
          },
          "metadata": {}
        },
        {
          "output_type": "display_data",
          "data": {
            "text/plain": [
              "<IPython.core.display.Javascript object>"
            ],
            "application/javascript": [
              "download(\"download_d827f075-7ecd-4ba3-961c-bb81d8b8a4d0\", \"data_LGBM_6trainings.csv\", 2513)"
            ]
          },
          "metadata": {}
        },
        {
          "output_type": "display_data",
          "data": {
            "text/plain": [
              "<Figure size 800x600 with 1 Axes>"
            ],
            "image/png": "[encoded data removed]"
          },
          "metadata": {}
        }
      ]
    },
    {
      "cell_type": "code",
      "source": [
        "# Standard scaler - transform\n",
        "x_scaled_test = scaler.transform(data_dl_descriptors)\n",
        "\n",
        "# Predict solubility of the test data\n",
        "y_test_preds = model.predict(x_scaled_test)"
      ],
      "metadata": {
        "id": "PzzUsNv0En7a",
        "colab": {
          "base_uri": "https://localhost:8080/"
        },
        "outputId": "48056866-8ca4-4da3-d1f8-f3f628bd8104"
      },
      "execution_count": 36,
      "outputs": [
        {
          "output_type": "stream",
          "name": "stdout",
          "text": [
            "[LightGBM] [Warning] Accuracy may be bad since you didn't explicitly set num_leaves OR 2^max_depth > num_leaves. (num_leaves=31).\n"
          ]
        }
      ]
    },
    {
      "cell_type": "code",
      "source": [
        "sn.set_theme(style=\"whitegrid\")\n",
        "plot_data(data_dl[\"LogS exp (mol/L)\"], y_test_preds,\n",
        "           \"Test data: Drug-like Molecules\")\n",
        "\n",
        "# Save the plot as PNG\n",
        "plt.savefig('/content/test_data_LGBM_6trainings.png')\n",
        "\n",
        "# Download the plot\n",
        "files.download('/content/test_data_LGBM_6trainings.png')\n",
        "\n",
        "# Save data to CSV\n",
        "data_to_save = pd.DataFrame({'True Values': data_dl[\"LogS exp (mol/L)\"], 'Predicted Values': y_test_preds})\n",
        "data_to_save.to_csv('/content/test_data_LGBM_6trainings.csv', index=False)\n",
        "files.download('/content/test_data_LGBM_6trainings.csv')"
      ],
      "metadata": {
        "id": "hf_U34X3eEju",
        "outputId": "a98b9869-d1ee-4952-81bc-5ce8294d3da2",
        "colab": {
          "base_uri": "https://localhost:8080/",
          "height": 573
        }
      },
      "execution_count": 40,
      "outputs": [
        {
          "output_type": "display_data",
          "data": {
            "text/plain": [
              "<IPython.core.display.Javascript object>"
            ],
            "application/javascript": [
              "\n",
              "    async function download(id, filename, size) {\n",
              "      if (!google.colab.kernel.accessAllowed) {\n",
              "        return;\n",
              "      }\n",
              "      const div = document.createElement('div');\n",
              "      const label = document.createElement('label');\n",
              "      label.textContent = `Downloading \"${filename}\": `;\n",
              "      div.appendChild(label);\n",
              "      const progress = document.createElement('progress');\n",
              "      progress.max = size;\n",
              "      div.appendChild(progress);\n",
              "      document.body.appendChild(div);\n",
              "\n",
              "      const buffers = [];\n",
              "      let downloaded = 0;\n",
              "\n",
              "      const channel = await google.colab.kernel.comms.open(id);\n",
              "      // Send a message to notify the kernel that we're ready.\n",
              "      channel.send({})\n",
              "\n",
              "      for await (const message of channel.messages) {\n",
              "        // Send a message to notify the kernel that we're ready.\n",
              "        channel.send({})\n",
              "        if (message.buffers) {\n",
              "          for (const buffer of message.buffers) {\n",
              "            buffers.push(buffer);\n",
              "            downloaded += buffer.byteLength;\n",
              "            progress.value = downloaded;\n",
              "          }\n",
              "        }\n",
              "      }\n",
              "      const blob = new Blob(buffers, {type: 'application/binary'});\n",
              "      const a = document.createElement('a');\n",
              "      a.href = window.URL.createObjectURL(blob);\n",
              "      a.download = filename;\n",
              "      div.appendChild(a);\n",
              "      a.click();\n",
              "      div.remove();\n",
              "    }\n",
              "  "
            ]
          },
          "metadata": {}
        },
        {
          "output_type": "display_data",
          "data": {
            "text/plain": [
              "<IPython.core.display.Javascript object>"
            ],
            "application/javascript": [
              "download(\"download_bf015556-e8fe-4563-be61-fc8a91bae355\", \"test_data_LGBM_6trainings.png\", 51421)"
            ]
          },
          "metadata": {}
        },
        {
          "output_type": "display_data",
          "data": {
            "text/plain": [
              "<IPython.core.display.Javascript object>"
            ],
            "application/javascript": [
              "\n",
              "    async function download(id, filename, size) {\n",
              "      if (!google.colab.kernel.accessAllowed) {\n",
              "        return;\n",
              "      }\n",
              "      const div = document.createElement('div');\n",
              "      const label = document.createElement('label');\n",
              "      label.textContent = `Downloading \"${filename}\": `;\n",
              "      div.appendChild(label);\n",
              "      const progress = document.createElement('progress');\n",
              "      progress.max = size;\n",
              "      div.appendChild(progress);\n",
              "      document.body.appendChild(div);\n",
              "\n",
              "      const buffers = [];\n",
              "      let downloaded = 0;\n",
              "\n",
              "      const channel = await google.colab.kernel.comms.open(id);\n",
              "      // Send a message to notify the kernel that we're ready.\n",
              "      channel.send({})\n",
              "\n",
              "      for await (const message of channel.messages) {\n",
              "        // Send a message to notify the kernel that we're ready.\n",
              "        channel.send({})\n",
              "        if (message.buffers) {\n",
              "          for (const buffer of message.buffers) {\n",
              "            buffers.push(buffer);\n",
              "            downloaded += buffer.byteLength;\n",
              "            progress.value = downloaded;\n",
              "          }\n",
              "        }\n",
              "      }\n",
              "      const blob = new Blob(buffers, {type: 'application/binary'});\n",
              "      const a = document.createElement('a');\n",
              "      a.href = window.URL.createObjectURL(blob);\n",
              "      a.download = filename;\n",
              "      div.appendChild(a);\n",
              "      a.click();\n",
              "      div.remove();\n",
              "    }\n",
              "  "
            ]
          },
          "metadata": {}
        },
        {
          "output_type": "display_data",
          "data": {
            "text/plain": [
              "<IPython.core.display.Javascript object>"
            ],
            "application/javascript": [
              "download(\"download_0cf66df4-da93-4614-b9e3-301b6f4415e2\", \"test_data_LGBM_6trainings.csv\", 2513)"
            ]
          },
          "metadata": {}
        },
        {
          "output_type": "display_data",
          "data": {
            "text/plain": [
              "<Figure size 800x600 with 1 Axes>"
            ],
            "image/png": "[encoded data removed]"
          },
          "metadata": {}
        }
      ]
    },
    {
      "cell_type": "markdown",
      "source": [
        "## 7.2 XGB Regressor\n"
      ],
      "metadata": {
        "id": "3caSSsgQlgvq"
      }
    },
    {
      "cell_type": "code",
      "source": [
        "from xgboost import XGBRegressor\n",
        "\n",
        "model_XGB = XGBRegressor(n_estimators = 500,\n",
        "                         max_depth = 5,\n",
        "                         learning_rate = 0.1,\n",
        "                         random_state = 42)\n",
        "model_XGB.fit(x_train_scaled,y_train)\n",
        "y_preds_XGB = model_XGB.predict(x_valid_scaled)"
      ],
      "metadata": {
        "id": "6fmlsABklkUk"
      },
      "execution_count": null,
      "outputs": []
    },
    {
      "cell_type": "code",
      "source": [
        "# A plotting function\n",
        "def plot_data_XGB(actual, predicted, title):\n",
        "\n",
        "# model performance using RMSE\n",
        "    rmse_XGB = np.sqrt(mean_squared_error(actual, predicted))\n",
        "\n",
        "# R^2 (coefficient of determination) :\n",
        "    R2_XGB =r2_score(actual, predicted)\n",
        "    plt.figure(figsize=(8,6))\n",
        "\n",
        "# Plot the figure\n",
        "    sn.regplot(x=predicted , y=actual,line_kws={\"lw\":2,\n",
        "                                                \"ls\":\"--\",\n",
        "                                                \"color\":\"red\",\n",
        "                                                \"alpha\":0.7})\n",
        "    plt.title(title, color=\"red\")\n",
        "    plt.xlabel(\"Predicted logS(mol/L)\",\n",
        "               color=\"blue\")\n",
        "    plt.xlim(-8,1)\n",
        "    plt.ylabel(\"Experimental logS(mol/L)\",\n",
        "               color =\"blue\")\n",
        "\n",
        "\n",
        "    plt.grid(alpha=0.3)\n",
        "    R2_XGB = mpatches.Patch(label=\"R2_XGB={:04.2f}\".format(R2_XGB))\n",
        "    rmse_XGB = mpatches.Patch(label=\"RMSE_XGB={:04.2f}\".format(rmse_XGB))\n",
        "    plt.legend(handles=[R2_XGB, rmse_XGB])\n"
      ],
      "metadata": {
        "id": "6y9KrGGYm3Mr"
      },
      "execution_count": null,
      "outputs": []
    },
    {
      "cell_type": "markdown",
      "source": [
        "Let's plot the predicted logS of the validation set and see if our model works."
      ],
      "metadata": {
        "id": "VVS679LeR0hA"
      }
    },
    {
      "cell_type": "code",
      "source": [
        "from google.colab import files\n",
        "\n",
        "sn.set_theme(style=\"whitegrid\")\n",
        "plot_data_XGB(y_valid,y_preds_XGB,\"Validation data XGB\")\n",
        "\n",
        "# Save the plot as PNG\n",
        "plt.savefig('/content/data_XGB.png')\n",
        "\n",
        "# Download the plot\n",
        "files.download('/content/data_XGB.png')\n",
        "\n",
        "# Save data to CSV\n",
        "data_to_save = pd.DataFrame({'True Values': data_dl[\"LogS exp (mol/L)\"], 'Predicted Values': y_test_preds})\n",
        "data_to_save.to_csv('/content/data_XGB.csv', index=False)\n",
        "files.download('/content/data_XGB.csv')"
      ],
      "metadata": {
        "id": "NUZ-QwQ1nTFN"
      },
      "execution_count": null,
      "outputs": []
    },
    {
      "cell_type": "code",
      "source": [
        "# Standard scaler - transform\n",
        "x_scaled_test = scaler.transform(data_dl_descriptors)\n",
        "\n",
        "# Predict solubility of the test data\n",
        "y_test_preds_XGB = model_XGB.predict(x_scaled_test)"
      ],
      "metadata": {
        "id": "IMgYAvMu-VDn"
      },
      "execution_count": null,
      "outputs": []
    },
    {
      "cell_type": "markdown",
      "source": [
        "Let's plot the predicted logS of the validation set and see if our model works."
      ],
      "metadata": {
        "id": "WhzLJ-SyR-ru"
      }
    },
    {
      "cell_type": "code",
      "source": [
        "# Plotting testing set for XGB\n",
        "sn.set_theme(style=\"whitegrid\")\n",
        "plot_data_XGB(data_dl[\"LogS exp (mol/L)\"], y_test_preds_XGB,\n",
        "           \"Test data XGB: Drug-like Molecules\")\n",
        "\n",
        "# Save the plot as PNG\n",
        "plt.savefig('/content/test_data_XGB.png')\n",
        "\n",
        "# Download the plot\n",
        "files.download('/content/test_data_XGB.png')\n",
        "\n",
        "# Save data to CSV\n",
        "data_to_save = pd.DataFrame({'True Values': data_dl[\"LogS exp (mol/L)\"], 'Predicted Values': y_test_preds})\n",
        "data_to_save.to_csv('/content/test_data_XGB.csv', index=False)\n",
        "files.download('/content/test_data_XGB.csv')"
      ],
      "metadata": {
        "id": "ZThHw7Bhnr6H"
      },
      "execution_count": null,
      "outputs": []
    },
    {
      "cell_type": "code",
      "source": [
        "# Plotting testing set for XGB\n",
        "sn.set_theme(style=\"whitegrid\")\n",
        "plot_data_XGB(data_dl[\"LogS exp (mol/L)\"], y_test_preds_XGB,\n",
        "           \"Test data XGB: Drug-like Molecules\")\n",
        "\n",
        "# Save the plot as PNG\n",
        "plt.savefig('/content/test_data_XGB.png')\n",
        "\n",
        "# Download the plot\n",
        "files.download('/content/test_data_XGB.png')\n",
        "\n",
        "# Save data to CSV\n",
        "data_to_save = pd.DataFrame({'True Values': data_dl[\"LogS exp (mol/L)\"], 'Predicted Values': y_test_preds})\n",
        "data_to_save.to_csv('/content/test_data_XGB.csv', index=False)\n",
        "files.download('/content/test_data_XGB.csv')"
      ],
      "metadata": {
        "id": "YZF0BS7TqxVE"
      },
      "execution_count": null,
      "outputs": []
    },
    {
      "cell_type": "markdown",
      "source": [
        "##7.3 HistGradientBoostingClassifier"
      ],
      "metadata": {
        "id": "zAw9PSSR-uKi"
      }
    },
    {
      "cell_type": "code",
      "source": [
        "from sklearn.ensemble import HistGradientBoostingRegressor\n",
        "\n",
        "model_HGB = HistGradientBoostingRegressor(max_depth = 14,\n",
        "                         learning_rate = 0.095,\n",
        "                         random_state = 42)\n",
        "model_HGB.fit(x_train_scaled,y_train)\n",
        "y_preds_HGB = model_HGB.predict(x_valid_scaled)"
      ],
      "metadata": {
        "id": "pRKMBsjW-xSs"
      },
      "execution_count": null,
      "outputs": []
    },
    {
      "cell_type": "code",
      "source": [
        "def plot_data_HGB(actual, predicted, title):\n",
        "\n",
        "    rmse_HGB = np.sqrt(mean_squared_error(actual, predicted))\n",
        "\n",
        "\n",
        "    R2_HGB =r2_score(actual, predicted)\n",
        "    plt.figure(figsize=(8,6))\n",
        "\n",
        "# Plot the figure\n",
        "    sn.regplot(x=predicted , y=actual,line_kws={\"lw\":2,\n",
        "                                                \"ls\":\"--\",\n",
        "                                                \"color\":\"red\",\n",
        "                                                \"alpha\":0.7})\n",
        "    plt.title(title, color=\"red\")\n",
        "    plt.xlabel(\"Predicted logS(mol/L)\",\n",
        "               color=\"blue\")\n",
        "    plt.xlim(-8,1)\n",
        "    plt.ylabel(\"Experimental logS(mol/L)\",\n",
        "               color =\"blue\")\n",
        "\n",
        "    plt.grid(alpha=0.3)\n",
        "    R2_HGB = mpatches.Patch(label=\"R2_HGB={:04.2f}\".format(R2_HGB))\n",
        "    rmse_HGB = mpatches.Patch(label=\"RMSE_HGB={:04.2f}\".format(rmse_HGB))\n",
        "    plt.legend(handles=[R2_HGB, rmse_HGB])"
      ],
      "metadata": {
        "id": "zcaJBgxL-xLV"
      },
      "execution_count": null,
      "outputs": []
    },
    {
      "cell_type": "code",
      "source": [
        "sn.set_theme(style=\"whitegrid\")\n",
        "plot_data_HGB(y_valid,y_preds_HGB,\"Validation data HGB\")\n",
        "\n",
        "# Save the plot as PNG\n",
        "plt.savefig('/content/data_HGB.png')\n",
        "\n",
        "# Download the plot\n",
        "files.download('/content/data_HGB.png')\n",
        "\n",
        "# Save data to CSV\n",
        "data_to_save = pd.DataFrame({'True Values': data_dl[\"LogS exp (mol/L)\"], 'Predicted Values': y_test_preds})\n",
        "data_to_save.to_csv('/content/data_HGB.csv', index=False)\n",
        "files.download('/content/data_HGB.csv')"
      ],
      "metadata": {
        "id": "GoQfcJJW-xFY"
      },
      "execution_count": null,
      "outputs": []
    },
    {
      "cell_type": "code",
      "source": [
        "# Standard scaler - transform\n",
        "x_scaled_test = scaler.transform(data_dl_descriptors)\n",
        "\n",
        "# Predict solubility of the test data\n",
        "y_test_preds_HGB = model_HGB.predict(x_scaled_test)"
      ],
      "metadata": {
        "id": "dV_N61ZW_ASc"
      },
      "execution_count": null,
      "outputs": []
    },
    {
      "cell_type": "code",
      "source": [
        "from google.colab import files\n",
        "\n",
        "# Plotting testing set for HGB\n",
        "sn.set_theme(style=\"whitegrid\")\n",
        "plot_data_HGB(data_dl[\"LogS exp (mol/L)\"], y_test_preds_HGB,\n",
        "           \"Test data HGB: Drug-like Molecules\")\n",
        "\n",
        "# Save the plot as PNG\n",
        "plt.savefig('/content/test_data_HGB.png')\n",
        "\n",
        "# Download the plot\n",
        "files.download('/content/test_data_HGB.png')\n",
        "\n",
        "# Save data to CSV\n",
        "data_to_save = pd.DataFrame({'True Values': data_dl[\"LogS exp (mol/L)\"], 'Predicted Values': y_test_preds})\n",
        "data_to_save.to_csv('/content/test_data_HGB.csv', index=False)\n",
        "files.download('/content/test_data_HGB.csv')"
      ],
      "metadata": {
        "id": "2VWEA132_AO0"
      },
      "execution_count": null,
      "outputs": []
    },
    {
      "cell_type": "markdown",
      "source": [
        "#8. Saving of the trained model and standard scaler"
      ],
      "metadata": {
        "id": "dG-nNTVGJGQJ"
      }
    },
    {
      "cell_type": "code",
      "source": [
        "#Save the model and the scaler using pickel\n",
        "import pickle\n",
        "with open(\"model_LGBM.pkl\",\"wb\") as f:\n",
        "    pickle.dump(model,f)\n",
        "\n",
        "with open(\"scaler_LGBM.pkl\",\"wb\") as f:\n",
        "    pickle.dump(custom_scaler,f)"
      ],
      "metadata": {
        "id": "LBUk2hL7JdwC"
      },
      "execution_count": null,
      "outputs": []
    },
    {
      "cell_type": "markdown",
      "source": [
        "#9. Using the .pkl file"
      ],
      "metadata": {
        "id": "xBtgUDV_aU54"
      }
    },
    {
      "cell_type": "code",
      "source": [
        "import pickle\n",
        "from sklearn import model # Import your specific model\n",
        "\n",
        "# Load the pickle file\n",
        "with open('your_model.pkl', 'rb') as file:\n",
        "    loaded_model = pickle.load(file)"
      ],
      "metadata": {
        "id": "Yan4kBMnaeeu"
      },
      "execution_count": null,
      "outputs": []
    }
  ]
}